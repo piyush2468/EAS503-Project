{
 "cells": [
  {
   "cell_type": "markdown",
   "metadata": {},
   "source": [
    "# Expected Goals Model & Player Analysis"
   ]
  },
  {
   "cell_type": "markdown",
   "metadata": {},
   "source": [
    "\n",
    "\n",
    "This report/notebook is structured as follows:\n",
    "\n",
    "**1. Data Exploration**\n",
    "\n",
    "**2. xG Model (Expected Goals Model)**\n",
    "\n",
    "**3. Conclusions about xG Model**\n",
    "\n",
    "3.a) How good is our model?\n",
    "\n",
    "3.b) How could we improve our model?\n",
    "\n",
    "\n",
    "**4. Player Analysis**\n",
    "\n",
    "4.a) Which players are the best finishers?\n",
    "\n",
    "4.b) Which players have the most \"expected goals\"?\n",
    "\n",
    "4.c) Which players are the worst at deciding their shots?\n",
    "\n",
    "4.d) Which players are the best headers?\n",
    "\n",
    "4.e) Which players are the best at shooting with their left foot?\n",
    "\n",
    "4.f) Which players are the best at shooting with their right foot?\n",
    "\n",
    "4.g) Which are the best outside-the-box shooters?\n",
    "\n",
    "4.h) Which players make the best/most dangerous passes?\n",
    "\n",
    "4.i) Which players make the best/most dangerous crosses?\n",
    "\n",
    "4.j) Which players are the most unlucky when passing the ball?"
   ]
  },
  {
   "cell_type": "markdown",
   "metadata": {},
   "source": [
    "We'll start by importing all that we might use later."
   ]
  },
  {
   "cell_type": "code",
   "execution_count": 1,
   "metadata": {
    "_kg_hide-output": true,
    "execution": {
     "iopub.execute_input": "2021-11-29T17:24:35.704044Z",
     "iopub.status.busy": "2021-11-29T17:24:35.703825Z",
     "iopub.status.idle": "2021-11-29T17:24:37.018914Z",
     "shell.execute_reply": "2021-11-29T17:24:37.018083Z",
     "shell.execute_reply.started": "2021-11-29T17:24:35.704013Z"
    }
   },
   "outputs": [],
   "source": [
    "import pandas as pd\n",
    "import numpy as np\n",
    "import sqlite3\n",
    "import matplotlib.pyplot as plt\n",
    "import scipy as sp\n",
    "from sklearn.ensemble import GradientBoostingClassifier\n",
    "from sklearn.linear_model import LogisticRegression\n",
    "from sklearn.neural_network import MLPClassifier\n",
    "from sklearn.metrics import average_precision_score, roc_auc_score, f1_score, precision_score, \\\n",
    "recall_score, cohen_kappa_score, classification_report,confusion_matrix\n",
    "from sklearn.model_selection import train_test_split\n",
    "import seaborn as sns\n",
    "from datetime import datetime\n",
    "from sklearn.preprocessing import StandardScaler\n",
    "pd.options.display.max_columns = 999\n",
    "pd.options.display.max_rows = 50\n",
    "\n",
    "class color:\n",
    "   PURPLE = '\\033[95m'\n",
    "   CYAN = '\\033[96m'\n",
    "   DARKCYAN = '\\033[36m'\n",
    "   BLUE = '\\033[94m'\n",
    "   GREEN = '\\033[92m'\n",
    "   YELLOW = '\\033[93m'\n",
    "   RED = '\\033[91m'\n",
    "   BOLD = '\\033[1m'\n",
    "   UNDERLINE = '\\033[4m'\n",
    "   END = '\\033[0m'"
   ]
  },
  {
   "cell_type": "markdown",
   "metadata": {},
   "source": [
    "Load the normalized database and query through it"
   ]
  },
  {
   "cell_type": "code",
   "execution_count": 2,
   "metadata": {
    "execution": {
     "iopub.execute_input": "2021-11-29T17:29:17.376233Z",
     "iopub.status.busy": "2021-11-29T17:29:17.375852Z",
     "iopub.status.idle": "2021-11-29T17:29:24.303884Z",
     "shell.execute_reply": "2021-11-29T17:29:24.302482Z",
     "shell.execute_reply.started": "2021-11-29T17:29:17.3762Z"
    }
   },
   "outputs": [],
   "source": [
    "con = sqlite3.connect('/kaggle/input/eventsdataxg/footballevents.db')\n",
    "\n",
    "events = pd.read_sql_query(\"select * from events;\", con)\n",
    "\n",
    "info = pd.read_sql_query(\"select * from ginf;\", con)"
   ]
  },
  {
   "cell_type": "code",
   "execution_count": 3,
   "metadata": {
    "execution": {
     "iopub.execute_input": "2021-11-29T17:32:59.57308Z",
     "iopub.status.busy": "2021-11-29T17:32:59.57264Z",
     "iopub.status.idle": "2021-11-29T17:32:59.579992Z",
     "shell.execute_reply": "2021-11-29T17:32:59.579239Z",
     "shell.execute_reply.started": "2021-11-29T17:32:59.572889Z"
    }
   },
   "outputs": [
    {
     "data": {
      "text/plain": [
       "id_odsp          object\n",
       "id_event         object\n",
       "sort_order       object\n",
       "time             object\n",
       "text             object\n",
       "event_type       object\n",
       "event_type2      object\n",
       "side             object\n",
       "event_team       object\n",
       "opponent         object\n",
       "player           object\n",
       "player2          object\n",
       "player_in        object\n",
       "player_out       object\n",
       "shot_place       object\n",
       "shot_outcome     object\n",
       "is_goal          object\n",
       "location         object\n",
       "bodypart         object\n",
       "assist_method    object\n",
       "situation        object\n",
       "fast_break       object\n",
       "dtype: object"
      ]
     },
     "execution_count": 3,
     "metadata": {},
     "output_type": "execute_result"
    }
   ],
   "source": [
    "events.dtypes"
   ]
  },
  {
   "cell_type": "code",
   "execution_count": 4,
   "metadata": {
    "execution": {
     "iopub.execute_input": "2021-11-29T17:35:19.302728Z",
     "iopub.status.busy": "2021-11-29T17:35:19.302441Z",
     "iopub.status.idle": "2021-11-29T17:35:19.311785Z",
     "shell.execute_reply": "2021-11-29T17:35:19.310434Z",
     "shell.execute_reply.started": "2021-11-29T17:35:19.302681Z"
    }
   },
   "outputs": [],
   "source": []
  },
  {
   "cell_type": "code",
   "execution_count": 4,
   "metadata": {
    "execution": {
     "iopub.execute_input": "2021-11-29T17:29:34.670644Z",
     "iopub.status.busy": "2021-11-29T17:29:34.670246Z",
     "iopub.status.idle": "2021-11-29T17:29:36.331836Z",
     "shell.execute_reply": "2021-11-29T17:29:36.330121Z",
     "shell.execute_reply.started": "2021-11-29T17:29:34.670592Z"
    }
   },
   "outputs": [],
   "source": [
    "events = events.merge(info[['id_odsp', 'country', 'date']], on='id_odsp', how='left')"
   ]
  },
  {
   "cell_type": "code",
   "execution_count": 5,
   "metadata": {
    "execution": {
     "iopub.execute_input": "2021-11-29T17:31:19.193196Z",
     "iopub.status.busy": "2021-11-29T17:31:19.192893Z",
     "iopub.status.idle": "2021-11-29T17:31:19.225445Z",
     "shell.execute_reply": "2021-11-29T17:31:19.224206Z",
     "shell.execute_reply.started": "2021-11-29T17:31:19.193145Z"
    }
   },
   "outputs": [
    {
     "data": {
      "text/html": [
       "<div>\n",
       "<style scoped>\n",
       "    .dataframe tbody tr th:only-of-type {\n",
       "        vertical-align: middle;\n",
       "    }\n",
       "\n",
       "    .dataframe tbody tr th {\n",
       "        vertical-align: top;\n",
       "    }\n",
       "\n",
       "    .dataframe thead th {\n",
       "        text-align: right;\n",
       "    }\n",
       "</style>\n",
       "<table border=\"1\" class=\"dataframe\">\n",
       "  <thead>\n",
       "    <tr style=\"text-align: right;\">\n",
       "      <th></th>\n",
       "      <th>id_odsp</th>\n",
       "      <th>id_event</th>\n",
       "      <th>sort_order</th>\n",
       "      <th>time</th>\n",
       "      <th>text</th>\n",
       "      <th>event_type</th>\n",
       "      <th>event_type2</th>\n",
       "      <th>side</th>\n",
       "      <th>event_team</th>\n",
       "      <th>opponent</th>\n",
       "      <th>player</th>\n",
       "      <th>player2</th>\n",
       "      <th>player_in</th>\n",
       "      <th>player_out</th>\n",
       "      <th>shot_place</th>\n",
       "      <th>shot_outcome</th>\n",
       "      <th>is_goal</th>\n",
       "      <th>location</th>\n",
       "      <th>bodypart</th>\n",
       "      <th>assist_method</th>\n",
       "      <th>situation</th>\n",
       "      <th>fast_break</th>\n",
       "      <th>country</th>\n",
       "      <th>date</th>\n",
       "    </tr>\n",
       "  </thead>\n",
       "  <tbody>\n",
       "    <tr>\n",
       "      <th>0</th>\n",
       "      <td>UFot0hit/</td>\n",
       "      <td>UFot0hit1</td>\n",
       "      <td>1</td>\n",
       "      <td>2</td>\n",
       "      <td>Attempt missed. Mladen Petric (Hamburg) left f...</td>\n",
       "      <td>1</td>\n",
       "      <td>12</td>\n",
       "      <td>2</td>\n",
       "      <td>Hamburg SV</td>\n",
       "      <td>Borussia Dortmund</td>\n",
       "      <td>mladen petric</td>\n",
       "      <td>gokhan tore</td>\n",
       "      <td>NA</td>\n",
       "      <td>NA</td>\n",
       "      <td>6</td>\n",
       "      <td>2</td>\n",
       "      <td>0</td>\n",
       "      <td>9</td>\n",
       "      <td>2</td>\n",
       "      <td>1</td>\n",
       "      <td>1</td>\n",
       "      <td>0</td>\n",
       "      <td>germany</td>\n",
       "      <td>2011-08-05</td>\n",
       "    </tr>\n",
       "    <tr>\n",
       "      <th>1</th>\n",
       "      <td>UFot0hit/</td>\n",
       "      <td>UFot0hit2</td>\n",
       "      <td>2</td>\n",
       "      <td>4</td>\n",
       "      <td>Corner,  Borussia Dortmund. Conceded by Dennis...</td>\n",
       "      <td>2</td>\n",
       "      <td>NA</td>\n",
       "      <td>1</td>\n",
       "      <td>Borussia Dortmund</td>\n",
       "      <td>Hamburg SV</td>\n",
       "      <td>dennis diekmeier</td>\n",
       "      <td>dennis diekmeier</td>\n",
       "      <td>NA</td>\n",
       "      <td>NA</td>\n",
       "      <td>NA</td>\n",
       "      <td>NA</td>\n",
       "      <td>0</td>\n",
       "      <td>NA</td>\n",
       "      <td>NA</td>\n",
       "      <td>0</td>\n",
       "      <td>NA</td>\n",
       "      <td>0</td>\n",
       "      <td>germany</td>\n",
       "      <td>2011-08-05</td>\n",
       "    </tr>\n",
       "    <tr>\n",
       "      <th>2</th>\n",
       "      <td>UFot0hit/</td>\n",
       "      <td>UFot0hit3</td>\n",
       "      <td>3</td>\n",
       "      <td>4</td>\n",
       "      <td>Corner,  Borussia Dortmund. Conceded by Heiko ...</td>\n",
       "      <td>2</td>\n",
       "      <td>NA</td>\n",
       "      <td>1</td>\n",
       "      <td>Borussia Dortmund</td>\n",
       "      <td>Hamburg SV</td>\n",
       "      <td>heiko westermann</td>\n",
       "      <td>heiko westermann</td>\n",
       "      <td>NA</td>\n",
       "      <td>NA</td>\n",
       "      <td>NA</td>\n",
       "      <td>NA</td>\n",
       "      <td>0</td>\n",
       "      <td>NA</td>\n",
       "      <td>NA</td>\n",
       "      <td>0</td>\n",
       "      <td>NA</td>\n",
       "      <td>0</td>\n",
       "      <td>germany</td>\n",
       "      <td>2011-08-05</td>\n",
       "    </tr>\n",
       "    <tr>\n",
       "      <th>3</th>\n",
       "      <td>UFot0hit/</td>\n",
       "      <td>UFot0hit4</td>\n",
       "      <td>4</td>\n",
       "      <td>7</td>\n",
       "      <td>Foul by Sven Bender (Borussia Dortmund).</td>\n",
       "      <td>3</td>\n",
       "      <td>NA</td>\n",
       "      <td>1</td>\n",
       "      <td>Borussia Dortmund</td>\n",
       "      <td>Hamburg SV</td>\n",
       "      <td>sven bender</td>\n",
       "      <td>NA</td>\n",
       "      <td>NA</td>\n",
       "      <td>NA</td>\n",
       "      <td>NA</td>\n",
       "      <td>NA</td>\n",
       "      <td>0</td>\n",
       "      <td>NA</td>\n",
       "      <td>NA</td>\n",
       "      <td>0</td>\n",
       "      <td>NA</td>\n",
       "      <td>0</td>\n",
       "      <td>germany</td>\n",
       "      <td>2011-08-05</td>\n",
       "    </tr>\n",
       "    <tr>\n",
       "      <th>4</th>\n",
       "      <td>UFot0hit/</td>\n",
       "      <td>UFot0hit5</td>\n",
       "      <td>5</td>\n",
       "      <td>7</td>\n",
       "      <td>Gokhan Tore (Hamburg) wins a free kick in the ...</td>\n",
       "      <td>8</td>\n",
       "      <td>NA</td>\n",
       "      <td>2</td>\n",
       "      <td>Hamburg SV</td>\n",
       "      <td>Borussia Dortmund</td>\n",
       "      <td>gokhan tore</td>\n",
       "      <td>NA</td>\n",
       "      <td>NA</td>\n",
       "      <td>NA</td>\n",
       "      <td>NA</td>\n",
       "      <td>NA</td>\n",
       "      <td>0</td>\n",
       "      <td>2</td>\n",
       "      <td>NA</td>\n",
       "      <td>0</td>\n",
       "      <td>NA</td>\n",
       "      <td>0</td>\n",
       "      <td>germany</td>\n",
       "      <td>2011-08-05</td>\n",
       "    </tr>\n",
       "  </tbody>\n",
       "</table>\n",
       "</div>"
      ],
      "text/plain": [
       "     id_odsp   id_event sort_order time  \\\n",
       "0  UFot0hit/  UFot0hit1          1    2   \n",
       "1  UFot0hit/  UFot0hit2          2    4   \n",
       "2  UFot0hit/  UFot0hit3          3    4   \n",
       "3  UFot0hit/  UFot0hit4          4    7   \n",
       "4  UFot0hit/  UFot0hit5          5    7   \n",
       "\n",
       "                                                text event_type event_type2  \\\n",
       "0  Attempt missed. Mladen Petric (Hamburg) left f...          1          12   \n",
       "1  Corner,  Borussia Dortmund. Conceded by Dennis...          2          NA   \n",
       "2  Corner,  Borussia Dortmund. Conceded by Heiko ...          2          NA   \n",
       "3           Foul by Sven Bender (Borussia Dortmund).          3          NA   \n",
       "4  Gokhan Tore (Hamburg) wins a free kick in the ...          8          NA   \n",
       "\n",
       "  side         event_team           opponent            player  \\\n",
       "0    2         Hamburg SV  Borussia Dortmund     mladen petric   \n",
       "1    1  Borussia Dortmund         Hamburg SV  dennis diekmeier   \n",
       "2    1  Borussia Dortmund         Hamburg SV  heiko westermann   \n",
       "3    1  Borussia Dortmund         Hamburg SV       sven bender   \n",
       "4    2         Hamburg SV  Borussia Dortmund       gokhan tore   \n",
       "\n",
       "            player2 player_in player_out shot_place shot_outcome is_goal  \\\n",
       "0       gokhan tore        NA         NA          6            2       0   \n",
       "1  dennis diekmeier        NA         NA         NA           NA       0   \n",
       "2  heiko westermann        NA         NA         NA           NA       0   \n",
       "3                NA        NA         NA         NA           NA       0   \n",
       "4                NA        NA         NA         NA           NA       0   \n",
       "\n",
       "  location bodypart assist_method situation fast_break  country        date  \n",
       "0        9        2             1         1          0  germany  2011-08-05  \n",
       "1       NA       NA             0        NA          0  germany  2011-08-05  \n",
       "2       NA       NA             0        NA          0  germany  2011-08-05  \n",
       "3       NA       NA             0        NA          0  germany  2011-08-05  \n",
       "4        2       NA             0        NA          0  germany  2011-08-05  "
      ]
     },
     "execution_count": 5,
     "metadata": {},
     "output_type": "execute_result"
    }
   ],
   "source": [
    "events.head()"
   ]
  },
  {
   "cell_type": "code",
   "execution_count": 6,
   "metadata": {
    "execution": {
     "iopub.execute_input": "2021-11-29T17:29:37.787136Z",
     "iopub.status.busy": "2021-11-29T17:29:37.786558Z",
     "iopub.status.idle": "2021-11-29T17:29:46.262784Z",
     "shell.execute_reply": "2021-11-29T17:29:46.261868Z",
     "shell.execute_reply.started": "2021-11-29T17:29:37.787083Z"
    }
   },
   "outputs": [],
   "source": [
    "extract_year = lambda x: datetime.strptime(x, \"%Y-%m-%d\").year\n",
    "events['year'] = [extract_year(x) for key, x in enumerate(events['date'])]"
   ]
  },
  {
   "cell_type": "markdown",
   "metadata": {},
   "source": [
    "We create a new dataset named Shots that will contain everything related to this action of the game and exclude the rest."
   ]
  },
  {
   "cell_type": "code",
   "execution_count": 7,
   "metadata": {
    "execution": {
     "iopub.execute_input": "2021-11-29T17:43:26.75763Z",
     "iopub.status.busy": "2021-11-29T17:43:26.757306Z",
     "iopub.status.idle": "2021-11-29T17:43:28.262308Z",
     "shell.execute_reply": "2021-11-29T17:43:28.260578Z",
     "shell.execute_reply.started": "2021-11-29T17:43:26.757568Z"
    }
   },
   "outputs": [
    {
     "name": "stderr",
     "output_type": "stream",
     "text": [
      "/opt/conda/lib/python3.6/site-packages/ipykernel_launcher.py:3: SettingWithCopyWarning: \n",
      "A value is trying to be set on a copy of a slice from a DataFrame.\n",
      "Try using .loc[row_indexer,col_indexer] = value instead\n",
      "\n",
      "See the caveats in the documentation: http://pandas.pydata.org/pandas-docs/stable/indexing.html#indexing-view-versus-copy\n",
      "  This is separate from the ipykernel package so we can avoid doing imports until\n",
      "/opt/conda/lib/python3.6/site-packages/ipykernel_launcher.py:4: SettingWithCopyWarning: \n",
      "A value is trying to be set on a copy of a slice from a DataFrame.\n",
      "Try using .loc[row_indexer,col_indexer] = value instead\n",
      "\n",
      "See the caveats in the documentation: http://pandas.pydata.org/pandas-docs/stable/indexing.html#indexing-view-versus-copy\n",
      "  after removing the cwd from sys.path.\n",
      "/opt/conda/lib/python3.6/site-packages/ipykernel_launcher.py:5: SettingWithCopyWarning: \n",
      "A value is trying to be set on a copy of a slice from a DataFrame.\n",
      "Try using .loc[row_indexer,col_indexer] = value instead\n",
      "\n",
      "See the caveats in the documentation: http://pandas.pydata.org/pandas-docs/stable/indexing.html#indexing-view-versus-copy\n",
      "  \"\"\"\n"
     ]
    }
   ],
   "source": [
    "events['event_type'] = events['event_type'].astype(int)\n",
    "shots = events[events.event_type==1]\n",
    "shots['player'] = shots['player'].str.title()\n",
    "shots['player2'] = shots['player2'].str.title()\n",
    "shots['country'] = shots['country'].str.title()"
   ]
  },
  {
   "cell_type": "code",
   "execution_count": 8,
   "metadata": {
    "execution": {
     "iopub.execute_input": "2021-11-29T17:43:49.34751Z",
     "iopub.status.busy": "2021-11-29T17:43:49.346914Z",
     "iopub.status.idle": "2021-11-29T17:43:49.379617Z",
     "shell.execute_reply": "2021-11-29T17:43:49.378625Z",
     "shell.execute_reply.started": "2021-11-29T17:43:49.347456Z"
    }
   },
   "outputs": [
    {
     "data": {
      "text/html": [
       "<div>\n",
       "<style scoped>\n",
       "    .dataframe tbody tr th:only-of-type {\n",
       "        vertical-align: middle;\n",
       "    }\n",
       "\n",
       "    .dataframe tbody tr th {\n",
       "        vertical-align: top;\n",
       "    }\n",
       "\n",
       "    .dataframe thead th {\n",
       "        text-align: right;\n",
       "    }\n",
       "</style>\n",
       "<table border=\"1\" class=\"dataframe\">\n",
       "  <thead>\n",
       "    <tr style=\"text-align: right;\">\n",
       "      <th></th>\n",
       "      <th>id_odsp</th>\n",
       "      <th>id_event</th>\n",
       "      <th>sort_order</th>\n",
       "      <th>time</th>\n",
       "      <th>text</th>\n",
       "      <th>event_type</th>\n",
       "      <th>event_type2</th>\n",
       "      <th>side</th>\n",
       "      <th>event_team</th>\n",
       "      <th>opponent</th>\n",
       "      <th>player</th>\n",
       "      <th>player2</th>\n",
       "      <th>player_in</th>\n",
       "      <th>player_out</th>\n",
       "      <th>shot_place</th>\n",
       "      <th>shot_outcome</th>\n",
       "      <th>is_goal</th>\n",
       "      <th>location</th>\n",
       "      <th>bodypart</th>\n",
       "      <th>assist_method</th>\n",
       "      <th>situation</th>\n",
       "      <th>fast_break</th>\n",
       "      <th>country</th>\n",
       "      <th>date</th>\n",
       "      <th>year</th>\n",
       "    </tr>\n",
       "  </thead>\n",
       "  <tbody>\n",
       "    <tr>\n",
       "      <th>0</th>\n",
       "      <td>UFot0hit/</td>\n",
       "      <td>UFot0hit1</td>\n",
       "      <td>1</td>\n",
       "      <td>2</td>\n",
       "      <td>Attempt missed. Mladen Petric (Hamburg) left f...</td>\n",
       "      <td>1</td>\n",
       "      <td>12</td>\n",
       "      <td>2</td>\n",
       "      <td>Hamburg SV</td>\n",
       "      <td>Borussia Dortmund</td>\n",
       "      <td>Mladen Petric</td>\n",
       "      <td>Gokhan Tore</td>\n",
       "      <td>NA</td>\n",
       "      <td>NA</td>\n",
       "      <td>6</td>\n",
       "      <td>2</td>\n",
       "      <td>0</td>\n",
       "      <td>9</td>\n",
       "      <td>2</td>\n",
       "      <td>1</td>\n",
       "      <td>1</td>\n",
       "      <td>0</td>\n",
       "      <td>Germany</td>\n",
       "      <td>2011-08-05</td>\n",
       "      <td>2011</td>\n",
       "    </tr>\n",
       "    <tr>\n",
       "      <th>11</th>\n",
       "      <td>UFot0hit/</td>\n",
       "      <td>UFot0hit12</td>\n",
       "      <td>12</td>\n",
       "      <td>14</td>\n",
       "      <td>Attempt missed. Shinji Kagawa (Borussia Dortmu...</td>\n",
       "      <td>1</td>\n",
       "      <td>12</td>\n",
       "      <td>1</td>\n",
       "      <td>Borussia Dortmund</td>\n",
       "      <td>Hamburg SV</td>\n",
       "      <td>Shinji Kagawa</td>\n",
       "      <td>Mario Gotze</td>\n",
       "      <td>NA</td>\n",
       "      <td>NA</td>\n",
       "      <td>13</td>\n",
       "      <td>2</td>\n",
       "      <td>0</td>\n",
       "      <td>15</td>\n",
       "      <td>1</td>\n",
       "      <td>1</td>\n",
       "      <td>1</td>\n",
       "      <td>0</td>\n",
       "      <td>Germany</td>\n",
       "      <td>2011-08-05</td>\n",
       "      <td>2011</td>\n",
       "    </tr>\n",
       "    <tr>\n",
       "      <th>13</th>\n",
       "      <td>UFot0hit/</td>\n",
       "      <td>UFot0hit14</td>\n",
       "      <td>14</td>\n",
       "      <td>17</td>\n",
       "      <td>Goal!  Borussia Dortmund 1, Hamburg 0. Kevin G...</td>\n",
       "      <td>1</td>\n",
       "      <td>12</td>\n",
       "      <td>1</td>\n",
       "      <td>Borussia Dortmund</td>\n",
       "      <td>Hamburg SV</td>\n",
       "      <td>Kevin Grosskreutz</td>\n",
       "      <td>Mario Gotze</td>\n",
       "      <td>NA</td>\n",
       "      <td>NA</td>\n",
       "      <td>4</td>\n",
       "      <td>1</td>\n",
       "      <td>1</td>\n",
       "      <td>9</td>\n",
       "      <td>2</td>\n",
       "      <td>1</td>\n",
       "      <td>1</td>\n",
       "      <td>0</td>\n",
       "      <td>Germany</td>\n",
       "      <td>2011-08-05</td>\n",
       "      <td>2011</td>\n",
       "    </tr>\n",
       "    <tr>\n",
       "      <th>14</th>\n",
       "      <td>UFot0hit/</td>\n",
       "      <td>UFot0hit15</td>\n",
       "      <td>15</td>\n",
       "      <td>19</td>\n",
       "      <td>Attempt blocked. Mats Hummels (Borussia Dortmu...</td>\n",
       "      <td>1</td>\n",
       "      <td>NA</td>\n",
       "      <td>1</td>\n",
       "      <td>Borussia Dortmund</td>\n",
       "      <td>Hamburg SV</td>\n",
       "      <td>Mats Hummels</td>\n",
       "      <td>Na</td>\n",
       "      <td>NA</td>\n",
       "      <td>NA</td>\n",
       "      <td>2</td>\n",
       "      <td>3</td>\n",
       "      <td>0</td>\n",
       "      <td>15</td>\n",
       "      <td>1</td>\n",
       "      <td>0</td>\n",
       "      <td>1</td>\n",
       "      <td>0</td>\n",
       "      <td>Germany</td>\n",
       "      <td>2011-08-05</td>\n",
       "      <td>2011</td>\n",
       "    </tr>\n",
       "    <tr>\n",
       "      <th>17</th>\n",
       "      <td>UFot0hit/</td>\n",
       "      <td>UFot0hit18</td>\n",
       "      <td>18</td>\n",
       "      <td>20</td>\n",
       "      <td>Attempt blocked. Tomas Rincon (Hamburg) right ...</td>\n",
       "      <td>1</td>\n",
       "      <td>NA</td>\n",
       "      <td>2</td>\n",
       "      <td>Hamburg SV</td>\n",
       "      <td>Borussia Dortmund</td>\n",
       "      <td>Tomas Rincon</td>\n",
       "      <td>Na</td>\n",
       "      <td>NA</td>\n",
       "      <td>NA</td>\n",
       "      <td>2</td>\n",
       "      <td>3</td>\n",
       "      <td>0</td>\n",
       "      <td>15</td>\n",
       "      <td>1</td>\n",
       "      <td>0</td>\n",
       "      <td>1</td>\n",
       "      <td>0</td>\n",
       "      <td>Germany</td>\n",
       "      <td>2011-08-05</td>\n",
       "      <td>2011</td>\n",
       "    </tr>\n",
       "  </tbody>\n",
       "</table>\n",
       "</div>"
      ],
      "text/plain": [
       "      id_odsp    id_event sort_order time  \\\n",
       "0   UFot0hit/   UFot0hit1          1    2   \n",
       "11  UFot0hit/  UFot0hit12         12   14   \n",
       "13  UFot0hit/  UFot0hit14         14   17   \n",
       "14  UFot0hit/  UFot0hit15         15   19   \n",
       "17  UFot0hit/  UFot0hit18         18   20   \n",
       "\n",
       "                                                 text  event_type event_type2  \\\n",
       "0   Attempt missed. Mladen Petric (Hamburg) left f...           1          12   \n",
       "11  Attempt missed. Shinji Kagawa (Borussia Dortmu...           1          12   \n",
       "13  Goal!  Borussia Dortmund 1, Hamburg 0. Kevin G...           1          12   \n",
       "14  Attempt blocked. Mats Hummels (Borussia Dortmu...           1          NA   \n",
       "17  Attempt blocked. Tomas Rincon (Hamburg) right ...           1          NA   \n",
       "\n",
       "   side         event_team           opponent             player      player2  \\\n",
       "0     2         Hamburg SV  Borussia Dortmund      Mladen Petric  Gokhan Tore   \n",
       "11    1  Borussia Dortmund         Hamburg SV      Shinji Kagawa  Mario Gotze   \n",
       "13    1  Borussia Dortmund         Hamburg SV  Kevin Grosskreutz  Mario Gotze   \n",
       "14    1  Borussia Dortmund         Hamburg SV       Mats Hummels           Na   \n",
       "17    2         Hamburg SV  Borussia Dortmund       Tomas Rincon           Na   \n",
       "\n",
       "   player_in player_out shot_place shot_outcome is_goal location bodypart  \\\n",
       "0         NA         NA          6            2       0        9        2   \n",
       "11        NA         NA         13            2       0       15        1   \n",
       "13        NA         NA          4            1       1        9        2   \n",
       "14        NA         NA          2            3       0       15        1   \n",
       "17        NA         NA          2            3       0       15        1   \n",
       "\n",
       "   assist_method situation fast_break  country        date  year  \n",
       "0              1         1          0  Germany  2011-08-05  2011  \n",
       "11             1         1          0  Germany  2011-08-05  2011  \n",
       "13             1         1          0  Germany  2011-08-05  2011  \n",
       "14             0         1          0  Germany  2011-08-05  2011  \n",
       "17             0         1          0  Germany  2011-08-05  2011  "
      ]
     },
     "execution_count": 8,
     "metadata": {},
     "output_type": "execute_result"
    }
   ],
   "source": [
    "shots.head()"
   ]
  },
  {
   "cell_type": "markdown",
   "metadata": {},
   "source": [
    "# 1. Data Exploration"
   ]
  },
  {
   "cell_type": "markdown",
   "metadata": {},
   "source": [
    "In this project we will focus exclusively on analyzing Shots in football, we begin by exploring some charactersitics about this action of the game.\n",
    "\n",
    "First, let's see how the different possible outcomes a shot can have are distributed."
   ]
  },
  {
   "cell_type": "code",
   "execution_count": 9,
   "metadata": {
    "execution": {
     "iopub.execute_input": "2021-11-29T17:44:29.697611Z",
     "iopub.status.busy": "2021-11-29T17:44:29.697346Z",
     "iopub.status.idle": "2021-11-29T17:44:29.79294Z",
     "shell.execute_reply": "2021-11-29T17:44:29.792121Z",
     "shell.execute_reply.started": "2021-11-29T17:44:29.697578Z"
    }
   },
   "outputs": [],
   "source": [
    "pie = shots[['shot_outcome', 'id_event']].groupby('shot_outcome').count().reset_index().rename(columns={'id_event': 'count'})"
   ]
  },
  {
   "cell_type": "code",
   "execution_count": 10,
   "metadata": {
    "execution": {
     "iopub.execute_input": "2021-11-29T17:48:22.792944Z",
     "iopub.status.busy": "2021-11-29T17:48:22.792682Z",
     "iopub.status.idle": "2021-11-29T17:48:22.797802Z",
     "shell.execute_reply": "2021-11-29T17:48:22.796639Z",
     "shell.execute_reply.started": "2021-11-29T17:48:22.792913Z"
    }
   },
   "outputs": [],
   "source": [
    "pie = pie[:-1]"
   ]
  },
  {
   "cell_type": "code",
   "execution_count": 11,
   "metadata": {
    "execution": {
     "iopub.execute_input": "2021-11-29T17:48:24.520219Z",
     "iopub.status.busy": "2021-11-29T17:48:24.519758Z",
     "iopub.status.idle": "2021-11-29T17:48:24.52795Z",
     "shell.execute_reply": "2021-11-29T17:48:24.526773Z",
     "shell.execute_reply.started": "2021-11-29T17:48:24.520184Z"
    }
   },
   "outputs": [
    {
     "data": {
      "text/html": [
       "<div>\n",
       "<style scoped>\n",
       "    .dataframe tbody tr th:only-of-type {\n",
       "        vertical-align: middle;\n",
       "    }\n",
       "\n",
       "    .dataframe tbody tr th {\n",
       "        vertical-align: top;\n",
       "    }\n",
       "\n",
       "    .dataframe thead th {\n",
       "        text-align: right;\n",
       "    }\n",
       "</style>\n",
       "<table border=\"1\" class=\"dataframe\">\n",
       "  <thead>\n",
       "    <tr style=\"text-align: right;\">\n",
       "      <th></th>\n",
       "      <th>shot_outcome</th>\n",
       "      <th>count</th>\n",
       "    </tr>\n",
       "  </thead>\n",
       "  <tbody>\n",
       "    <tr>\n",
       "      <th>0</th>\n",
       "      <td>1</td>\n",
       "      <td>78014</td>\n",
       "    </tr>\n",
       "    <tr>\n",
       "      <th>1</th>\n",
       "      <td>2</td>\n",
       "      <td>92827</td>\n",
       "    </tr>\n",
       "    <tr>\n",
       "      <th>2</th>\n",
       "      <td>3</td>\n",
       "      <td>54082</td>\n",
       "    </tr>\n",
       "    <tr>\n",
       "      <th>3</th>\n",
       "      <td>4</td>\n",
       "      <td>3575</td>\n",
       "    </tr>\n",
       "  </tbody>\n",
       "</table>\n",
       "</div>"
      ],
      "text/plain": [
       "  shot_outcome  count\n",
       "0            1  78014\n",
       "1            2  92827\n",
       "2            3  54082\n",
       "3            4   3575"
      ]
     },
     "execution_count": 11,
     "metadata": {},
     "output_type": "execute_result"
    }
   ],
   "source": [
    "pie"
   ]
  },
  {
   "cell_type": "code",
   "execution_count": 12,
   "metadata": {
    "execution": {
     "iopub.execute_input": "2021-11-29T17:48:31.121752Z",
     "iopub.status.busy": "2021-11-29T17:48:31.121358Z",
     "iopub.status.idle": "2021-11-29T17:48:31.269286Z",
     "shell.execute_reply": "2021-11-29T17:48:31.268607Z",
     "shell.execute_reply.started": "2021-11-29T17:48:31.121719Z"
    }
   },
   "outputs": [],
   "source": [
    "pie.shot_outcome = pie.shot_outcome.astype(int)\n",
    "pie.shot_outcome = pie.shot_outcome.replace({1: 'On Target', 2: 'Off Target', 3: 'Blocked', 4: 'Hit the Bar'})"
   ]
  },
  {
   "cell_type": "code",
   "execution_count": 13,
   "metadata": {
    "execution": {
     "iopub.execute_input": "2021-11-29T17:48:34.35951Z",
     "iopub.status.busy": "2021-11-29T17:48:34.358665Z",
     "iopub.status.idle": "2021-11-29T17:48:34.367847Z",
     "shell.execute_reply": "2021-11-29T17:48:34.367077Z",
     "shell.execute_reply.started": "2021-11-29T17:48:34.359455Z"
    }
   },
   "outputs": [
    {
     "data": {
      "text/plain": [
       "0      On Target\n",
       "1     Off Target\n",
       "2        Blocked\n",
       "3    Hit the Bar\n",
       "Name: shot_outcome, dtype: object"
      ]
     },
     "execution_count": 13,
     "metadata": {},
     "output_type": "execute_result"
    }
   ],
   "source": [
    "pie.shot_outcome"
   ]
  },
  {
   "cell_type": "code",
   "execution_count": 14,
   "metadata": {
    "execution": {
     "iopub.execute_input": "2021-11-29T17:48:43.779515Z",
     "iopub.status.busy": "2021-11-29T17:48:43.778963Z",
     "iopub.status.idle": "2021-11-29T17:48:44.014724Z",
     "shell.execute_reply": "2021-11-29T17:48:44.01394Z",
     "shell.execute_reply.started": "2021-11-29T17:48:43.779463Z"
    }
   },
   "outputs": [
    {
     "data": {
      "image/png": "[encoded data removed]",
      "text/plain": [
       "<Figure size 576x576 with 1 Axes>"
      ]
     },
     "metadata": {},
     "output_type": "display_data"
    }
   ],
   "source": [
    "fig, ax = plt.subplots(figsize=[8,8])\n",
    "labels = pie['shot_outcome']\n",
    "colors = ['#ff9999','#66b3ff','#99ff99','#ffcc99']\n",
    "plt.pie(x=pie['count'], autopct=\"%.1f%%\", labels=labels, explode=[0.06]*4, pctdistance=0.7, colors=colors, shadow=True, \\\n",
    "       textprops=dict(fontsize=16))\n",
    "plt.title(\"Shot Outcomes\", fontsize=26, fontfamily='serif')\n",
    "plt.tight_layout()\n",
    "plt.show()"
   ]
  },
  {
   "cell_type": "markdown",
   "metadata": {},
   "source": [
    "We see that most of the shots are off-target, but the difference with on-target shows is not so large. Of course only a fraction of those on-target shots end up as goals, because there is a goalkeeper trying to prevent goals on the other side."
   ]
  },
  {
   "cell_type": "markdown",
   "metadata": {},
   "source": [
    "Now let's explore where shots tend to be placed by the players."
   ]
  },
  {
   "cell_type": "code",
   "execution_count": 15,
   "metadata": {
    "execution": {
     "iopub.execute_input": "2021-11-29T17:49:58.301832Z",
     "iopub.status.busy": "2021-11-29T17:49:58.301536Z",
     "iopub.status.idle": "2021-11-29T17:49:58.424715Z",
     "shell.execute_reply": "2021-11-29T17:49:58.42414Z",
     "shell.execute_reply.started": "2021-11-29T17:49:58.301761Z"
    }
   },
   "outputs": [],
   "source": [
    "bar = shots[['shot_place', 'id_event']].groupby('shot_place').count().reset_index().rename(columns={'id_event': 'count'})\n",
    "bar = bar[:-1]\n"
   ]
  },
  {
   "cell_type": "code",
   "execution_count": 16,
   "metadata": {
    "execution": {
     "iopub.execute_input": "2021-11-29T17:49:59.730031Z",
     "iopub.status.busy": "2021-11-29T17:49:59.729488Z",
     "iopub.status.idle": "2021-11-29T17:49:59.817448Z",
     "shell.execute_reply": "2021-11-29T17:49:59.815978Z",
     "shell.execute_reply.started": "2021-11-29T17:49:59.729992Z"
    }
   },
   "outputs": [],
   "source": [
    "bar.shot_place = bar.shot_place.astype(int)\n",
    "bar.shot_place = bar.shot_place.replace({1: 'Bit too high', 2: 'Blocked', 3: 'Bottom left corner', 4: 'Bottom right corner', \\\n",
    "                                        5: 'Centre of the goal', 6: 'High and wide', 7: 'Hits the bar', 8: 'Misses to the left', \\\n",
    "                                        9: 'Misses to the right', 10: 'Too high', 11: 'Top centre of the goal', \\\n",
    "                                        12: 'Top left corner', 13: 'Top right corner'})"
   ]
  },
  {
   "cell_type": "code",
   "execution_count": 17,
   "metadata": {
    "execution": {
     "iopub.execute_input": "2021-11-29T17:50:03.125085Z",
     "iopub.status.busy": "2021-11-29T17:50:03.124489Z",
     "iopub.status.idle": "2021-11-29T17:50:03.484951Z",
     "shell.execute_reply": "2021-11-29T17:50:03.4842Z",
     "shell.execute_reply.started": "2021-11-29T17:50:03.125009Z"
    }
   },
   "outputs": [
    {
     "data": {
      "image/png": "[encoded data removed]",
      "text/plain": [
       "<Figure size 936x432 with 1 Axes>"
      ]
     },
     "metadata": {},
     "output_type": "display_data"
    }
   ],
   "source": [
    "sns.set_style(\"whitegrid\")\n",
    "fig, ax = plt.subplots(figsize=[13,6])\n",
    "labels = bar['shot_place']\n",
    "colors = ['#ff9999','#66b3ff','#99ff99','#ffcc99']\n",
    "ax = sns.barplot(x=bar['count'], y=labels)\n",
    "ax.set_yticklabels(labels, size = 13)\n",
    "ax.set_xticks(np.arange(1000,57000,4000))\n",
    "ax.set_ylabel(ylabel='')\n",
    "plt.title(\"Shot Placement\", fontsize=25, fontfamily='serif')\n",
    "plt.tight_layout()\n",
    "ax.grid(color='black', linestyle='-', linewidth=0.1, axis='x')\n",
    "plt.show()"
   ]
  },
  {
   "cell_type": "markdown",
   "metadata": {},
   "source": [
    "We find that the majority of shots are blocked by opponents, but this is because all the not-blocked shots are grouped into many different categories. We have seen in the previous pie chart that in fact l24% of the shots are indeed blocked, which is still quite a high percentage.\n",
    "\n",
    "From the shots that are not blocked, we see that the majority are either directed at the centre of the goal, or miss to the left or right side."
   ]
  },
  {
   "cell_type": "markdown",
   "metadata": {},
   "source": [
    "Now we'll explore something that will be quite important for our xG model: which percentage of shots end up as goals. We'll divide this analysis for the different leagues and across years, to check if there are differences in the patterns through different parts of the world or different years."
   ]
  },
  {
   "cell_type": "code",
   "execution_count": 18,
   "metadata": {
    "execution": {
     "iopub.execute_input": "2021-11-29T17:50:23.647598Z",
     "iopub.status.busy": "2021-11-29T17:50:23.647161Z",
     "iopub.status.idle": "2021-11-29T17:50:23.920956Z",
     "shell.execute_reply": "2021-11-29T17:50:23.920106Z",
     "shell.execute_reply.started": "2021-11-29T17:50:23.64756Z"
    }
   },
   "outputs": [],
   "source": [
    "goals  = shots[['is_goal', 'id_event', 'country']].groupby(['is_goal', 'country']).count().reset_index().rename(columns={'id_event': 'count'})\n",
    "goals = goals[:-1]\n",
    "goals.is_goal = goals.is_goal.replace({1: 'Goal', 0: 'No Goal'})"
   ]
  },
  {
   "cell_type": "code",
   "execution_count": 19,
   "metadata": {
    "execution": {
     "iopub.execute_input": "2021-11-29T17:50:28.631995Z",
     "iopub.status.busy": "2021-11-29T17:50:28.631302Z",
     "iopub.status.idle": "2021-11-29T17:50:28.775636Z",
     "shell.execute_reply": "2021-11-29T17:50:28.774699Z",
     "shell.execute_reply.started": "2021-11-29T17:50:28.631878Z"
    }
   },
   "outputs": [],
   "source": [
    "goals['percentage']=0\n",
    "for i in range(len(goals)):\n",
    "    for country in goals.country.unique():\n",
    "        if goals.iloc[i,goals.columns.get_loc(\"country\")]==country:\n",
    "            goals.iloc[i,goals.columns.get_loc(\"percentage\")]=goals.iloc[i,goals.columns.get_loc(\"count\")] / \\\n",
    "                                                            goals[goals.country==country]['count'].sum()\n",
    "goals['percentage']=round(goals['percentage']*100,2)"
   ]
  },
  {
   "cell_type": "code",
   "execution_count": 20,
   "metadata": {
    "_kg_hide-input": true,
    "execution": {
     "iopub.execute_input": "2021-11-29T17:50:34.30144Z",
     "iopub.status.busy": "2021-11-29T17:50:34.300913Z",
     "iopub.status.idle": "2021-11-29T17:50:34.306625Z",
     "shell.execute_reply": "2021-11-29T17:50:34.305741Z",
     "shell.execute_reply.started": "2021-11-29T17:50:34.301402Z"
    }
   },
   "outputs": [],
   "source": [
    "def show_values_on_bars(axs):\n",
    "    def _show_on_single_plot(ax):        \n",
    "        for p in ax.patches:\n",
    "            _x = p.get_x() + p.get_width() / 2\n",
    "            _y = p.get_y() + p.get_height()\n",
    "            value = '{:.2f}%'.format(p.get_height())\n",
    "            ax.text(_x, _y+2, value, ha=\"center\", fontsize=14) \n",
    "\n",
    "    if isinstance(axs, np.ndarray):\n",
    "        for idx, ax in np.ndenumerate(axs):\n",
    "            _show_on_single_plot(ax)\n",
    "    else:\n",
    "        _show_on_single_plot(axs)"
   ]
  },
  {
   "cell_type": "code",
   "execution_count": 21,
   "metadata": {
    "execution": {
     "iopub.execute_input": "2021-11-29T17:50:38.128711Z",
     "iopub.status.busy": "2021-11-29T17:50:38.128441Z",
     "iopub.status.idle": "2021-11-29T17:50:38.59854Z",
     "shell.execute_reply": "2021-11-29T17:50:38.596948Z",
     "shell.execute_reply.started": "2021-11-29T17:50:38.128663Z"
    }
   },
   "outputs": [
    {
     "name": "stderr",
     "output_type": "stream",
     "text": [
      "posx and posy should be finite values\n",
      "posx and posy should be finite values\n"
     ]
    },
    {
     "data": {
      "image/png": "[encoded data removed]",
      "text/plain": [
       "<Figure size 1008x432 with 1 Axes>"
      ]
     },
     "metadata": {},
     "output_type": "display_data"
    }
   ],
   "source": [
    "sns.set_style(\"whitegrid\")\n",
    "fig, ax = plt.subplots(figsize=[14,6])\n",
    "colors = ['#ff9999','#66b3ff','#99ff99','#ffcc99']\n",
    "ax = sns.barplot(data=goals, y='percentage', hue='is_goal', x='country')\n",
    "ax.set_yticks(np.arange(0,110,10))\n",
    "ax.set_ylabel(ylabel='Percentage %', fontsize=15, fontfamily='serif')\n",
    "ax.set_xlabel(xlabel='League', fontsize=15, fontfamily='serif')\n",
    "ax.set_xticklabels(labels=ax.get_xticklabels(), fontsize=16, fontfamily='serif')\n",
    "plt.title(\"Goal/No-Goal per Country\", fontsize=24, fontfamily='serif')\n",
    "plt.tight_layout()\n",
    "ax.grid(color='black', linestyle='-', linewidth=0.1, axis='y')\n",
    "plt.legend(fontsize=12)\n",
    "show_values_on_bars(ax)\n",
    "plt.show()"
   ]
  },
  {
   "cell_type": "markdown",
   "metadata": {},
   "source": [
    "There are barely any differences across the different main leagues. It seems that any given shot has a 10-11% chance of being a goal anywhere in the world."
   ]
  },
  {
   "cell_type": "code",
   "execution_count": 22,
   "metadata": {
    "execution": {
     "iopub.execute_input": "2021-11-29T17:51:01.225281Z",
     "iopub.status.busy": "2021-11-29T17:51:01.224907Z",
     "iopub.status.idle": "2021-11-29T17:51:01.392443Z",
     "shell.execute_reply": "2021-11-29T17:51:01.390578Z",
     "shell.execute_reply.started": "2021-11-29T17:51:01.225228Z"
    }
   },
   "outputs": [],
   "source": [
    "goals  = shots[['is_goal', 'id_event', 'year']].groupby(['is_goal', 'year']).count().reset_index().rename(columns={'id_event': 'count'})\n",
    "goals = goals[:-1]\n",
    "goals.is_goal = goals.is_goal.replace({1: 'Goal', 0: 'No Goal'})"
   ]
  },
  {
   "cell_type": "code",
   "execution_count": 23,
   "metadata": {
    "execution": {
     "iopub.execute_input": "2021-11-29T17:51:02.647884Z",
     "iopub.status.busy": "2021-11-29T17:51:02.647575Z",
     "iopub.status.idle": "2021-11-29T17:51:02.688047Z",
     "shell.execute_reply": "2021-11-29T17:51:02.686026Z",
     "shell.execute_reply.started": "2021-11-29T17:51:02.647838Z"
    }
   },
   "outputs": [],
   "source": [
    "goals['percentage']=0\n",
    "for i in range(len(goals)):\n",
    "    for year in goals.year.unique():\n",
    "        if goals.iloc[i,goals.columns.get_loc(\"year\")]==year:\n",
    "            goals.iloc[i,goals.columns.get_loc(\"percentage\")]=goals.iloc[i,goals.columns.get_loc(\"count\")] / \\\n",
    "                                                            goals[goals.year==year]['count'].sum()\n",
    "goals['percentage']=round(goals['percentage']*100,2)"
   ]
  },
  {
   "cell_type": "code",
   "execution_count": 24,
   "metadata": {
    "execution": {
     "iopub.execute_input": "2021-11-29T17:51:03.753886Z",
     "iopub.status.busy": "2021-11-29T17:51:03.753637Z",
     "iopub.status.idle": "2021-11-29T17:51:04.189958Z",
     "shell.execute_reply": "2021-11-29T17:51:04.18917Z",
     "shell.execute_reply.started": "2021-11-29T17:51:03.753854Z"
    }
   },
   "outputs": [
    {
     "name": "stderr",
     "output_type": "stream",
     "text": [
      "posx and posy should be finite values\n",
      "posx and posy should be finite values\n"
     ]
    },
    {
     "data": {
      "image/png": "[encoded data removed]",
      "text/plain": [
       "<Figure size 1008x432 with 1 Axes>"
      ]
     },
     "metadata": {},
     "output_type": "display_data"
    }
   ],
   "source": [
    "sns.set_style(\"white\")\n",
    "fig, ax = plt.subplots(figsize=[14,6])\n",
    "colors = ['#ff9999','#66b3ff','#99ff99','#ffcc99']\n",
    "ax = sns.barplot(data=goals, y='percentage', hue='is_goal', x='year')\n",
    "ax.set_yticks(np.arange(0,110,10))\n",
    "ax.set_ylabel(ylabel='Percentage %', fontsize=15, fontfamily='serif')\n",
    "ax.set_xlabel(xlabel='Year', fontsize=18, fontfamily='serif')\n",
    "ax.set_xticklabels(labels=ax.get_xticklabels(), fontsize=16, fontfamily='serif')\n",
    "plt.title(\"Goal/No-Goal per Year\", fontsize=24, fontfamily='serif')\n",
    "plt.tight_layout()\n",
    "ax.grid(color='black', linestyle='-', linewidth=0.1, axis='y')\n",
    "plt.legend(fontsize=12)\n",
    "show_values_on_bars(ax)\n",
    "plt.show()"
   ]
  },
  {
   "cell_type": "markdown",
   "metadata": {},
   "source": [
    "Again we find that the goal/no-goal ratios are nearly the same across time.\n",
    "\n",
    "So it's becoming quite clear that statistically speaking 1 out of 9 to 10 shots are goals, no matter where or when you look at."
   ]
  },
  {
   "cell_type": "markdown",
   "metadata": {},
   "source": [
    "# 2. xG Model"
   ]
  },
  {
   "cell_type": "markdown",
   "metadata": {},
   "source": [
    "Categorical data handling and feature generation"
   ]
  },
  {
   "cell_type": "code",
   "execution_count": 25,
   "metadata": {
    "execution": {
     "iopub.execute_input": "2021-11-29T17:51:14.437881Z",
     "iopub.status.busy": "2021-11-29T17:51:14.43741Z",
     "iopub.status.idle": "2021-11-29T17:51:14.596382Z",
     "shell.execute_reply": "2021-11-29T17:51:14.595653Z",
     "shell.execute_reply.started": "2021-11-29T17:51:14.437827Z"
    }
   },
   "outputs": [],
   "source": [
    "data = pd.get_dummies(shots.iloc[:,-8:-3], columns=['location', 'bodypart','assist_method', 'situation'])\n",
    "data.columns = ['fast_break', 'loc_centre_box', 'loc_diff_angle_lr', 'diff_angle_left', 'diff_angle_right',\n",
    "                'left_side_box', 'left_side_6ybox', 'right_side_box', 'right_side_6ybox', 'close_range',\n",
    "                'penalty', 'outside_box', 'long_range', 'more_35y', 'more_40y', 'not_recorded', 'right_foot', \n",
    "                'left_foot', 'header', 'no_assist', 'assist_pass', 'assist_cross', 'assist_header',\n",
    "                'assist_through_ball', 'open_play', 'set_piece', 'corner', 'free_kick']\n",
    "data['is_goal'] = shots['is_goal']"
   ]
  },
  {
   "cell_type": "code",
   "execution_count": 26,
   "metadata": {
    "execution": {
     "iopub.execute_input": "2021-11-29T17:57:09.509015Z",
     "iopub.status.busy": "2021-11-29T17:57:09.508783Z",
     "iopub.status.idle": "2021-11-29T17:57:09.5389Z",
     "shell.execute_reply": "2021-11-29T17:57:09.537613Z",
     "shell.execute_reply.started": "2021-11-29T17:57:09.508984Z"
    }
   },
   "outputs": [],
   "source": [
    "data['is_goal'] = data['is_goal'].astype(int)"
   ]
  },
  {
   "cell_type": "code",
   "execution_count": 27,
   "metadata": {
    "execution": {
     "iopub.execute_input": "2021-11-29T17:57:28.307952Z",
     "iopub.status.busy": "2021-11-29T17:57:28.307643Z",
     "iopub.status.idle": "2021-11-29T17:57:28.31346Z",
     "shell.execute_reply": "2021-11-29T17:57:28.312159Z",
     "shell.execute_reply.started": "2021-11-29T17:57:28.307875Z"
    }
   },
   "outputs": [],
   "source": []
  },
  {
   "cell_type": "code",
   "execution_count": 27,
   "metadata": {
    "execution": {
     "iopub.execute_input": "2021-11-29T17:57:32.470126Z",
     "iopub.status.busy": "2021-11-29T17:57:32.469839Z",
     "iopub.status.idle": "2021-11-29T17:57:32.47735Z",
     "shell.execute_reply": "2021-11-29T17:57:32.476411Z",
     "shell.execute_reply.started": "2021-11-29T17:57:32.470092Z"
    }
   },
   "outputs": [
    {
     "name": "stdout",
     "output_type": "stream",
     "text": [
      "229135\n",
      "24441\n",
      "28\n"
     ]
    }
   ],
   "source": [
    "print(len(data))\n",
    "print(data['is_goal'].sum())\n",
    "print(len(data.columns)-1)"
   ]
  },
  {
   "cell_type": "markdown",
   "metadata": {},
   "source": [
    "So we have a total of 229,135 shots, of which 24,441 were goals. For each shot, we have 28 different characteristics that describe it. All of these 28 characteristics are binary, so they just indicate Yes or No to a certain characteristics in the shot.\n",
    "\n",
    "Now we will divide our X and y into two different sets for training and testing. I will use 65% of them for training our model and 35% por testing it. This is because we have enough datapoints, so 65% should be enough to train it properly and I'd rather have as many shots left as possible for pure testing later. "
   ]
  },
  {
   "cell_type": "code",
   "execution_count": 28,
   "metadata": {
    "execution": {
     "iopub.execute_input": "2021-11-29T17:57:48.654786Z",
     "iopub.status.busy": "2021-11-29T17:57:48.654528Z",
     "iopub.status.idle": "2021-11-29T17:57:48.719479Z",
     "shell.execute_reply": "2021-11-29T17:57:48.718318Z",
     "shell.execute_reply.started": "2021-11-29T17:57:48.654749Z"
    }
   },
   "outputs": [],
   "source": [
    "X = data.iloc[:,:-1]\n",
    "y = data.iloc[:,-1]\n",
    "X_train, X_test, y_train, y_test = train_test_split(X, y, test_size=0.35, random_state=1)"
   ]
  },
  {
   "cell_type": "markdown",
   "metadata": {},
   "source": [
    "## Gradient Boosting Classifier\n",
    "\n",
    "We will first train a Gradient Boosting Classifier, which is a very powerful algorithm. "
   ]
  },
  {
   "cell_type": "code",
   "execution_count": 29,
   "metadata": {
    "execution": {
     "iopub.execute_input": "2021-11-29T17:57:54.20495Z",
     "iopub.status.busy": "2021-11-29T17:57:54.204642Z",
     "iopub.status.idle": "2021-11-29T17:57:54.226187Z",
     "shell.execute_reply": "2021-11-29T17:57:54.224997Z",
     "shell.execute_reply.started": "2021-11-29T17:57:54.204901Z"
    }
   },
   "outputs": [],
   "source": [
    "from hyperopt import fmin, tpe, hp, STATUS_OK, Trials\n",
    "\n",
    "def evaluate_model(params): \n",
    "    model = GradientBoostingClassifier(\n",
    "                        learning_rate=params['learning_rate'],\n",
    "                        min_samples_leaf=params['min_samples_leaf'],\n",
    "                        max_depth = params['max_depth'],\n",
    "                        max_features = params['max_features']\n",
    "                        )\n",
    "\n",
    "    model.fit(X_train, y_train)\n",
    "    return {\n",
    "        'learning_rate': params['learning_rate'],\n",
    "        'min_samples_leaf': params['min_samples_leaf'],\n",
    "        'max_depth': params['max_depth'],\n",
    "        'max_features': params['max_features'],\n",
    "        'train_ROCAUC': roc_auc_score(y_train, model.predict_proba(X_train)[:, 1]),\n",
    "        'test_ROCAUC': roc_auc_score(y_test, model.predict_proba(X_test)[:, 1]),\n",
    "        'recall': recall_score(y_test, model.predict(X_test)),\n",
    "        'precision': precision_score(y_test, model.predict(X_test)),\n",
    "        'f1_score': f1_score(y_test, model.predict(X_test)),\n",
    "        'train_accuracy': model.score(X_train, y_train),\n",
    "        'test_accuracy': model.score(X_test, y_test),\n",
    "    }\n",
    "\n",
    "def objective(params):\n",
    "    res = evaluate_model(params)\n",
    "    \n",
    "    res['loss'] = - res['test_ROCAUC'] # Esta loss es la que hyperopt intenta minimizar\n",
    "    res['status'] = STATUS_OK # Asi le decimos a hyperopt que el experimento salio bien\n",
    "    return res \n",
    "\n",
    "hyperparameter_space = {\n",
    "        'learning_rate': hp.uniform('learning_rate', 0.05, 0.3),\n",
    "        'min_samples_leaf': hp.choice('min_samples_leaf', range(15, 200)),\n",
    "        'max_depth': hp.choice('max_depth', range(2, 20)),\n",
    "        'max_features': hp.choice('max_features', range(3, 27))\n",
    "}"
   ]
  },
  {
   "cell_type": "code",
   "execution_count": 30,
   "metadata": {
    "execution": {
     "iopub.execute_input": "2021-11-29T17:57:54.933193Z",
     "iopub.status.busy": "2021-11-29T17:57:54.932847Z",
     "iopub.status.idle": "2021-11-29T18:25:16.485727Z",
     "shell.execute_reply": "2021-11-29T18:25:16.484973Z",
     "shell.execute_reply.started": "2021-11-29T17:57:54.933132Z"
    }
   },
   "outputs": [
    {
     "name": "stdout",
     "output_type": "stream",
     "text": [
      "100%|██████████| 50/50 [29:22<00:00, 40.21s/it, best loss: -0.8193672374603669]\n"
     ]
    }
   ],
   "source": [
    "trials = Trials()\n",
    "fmin(\n",
    "    objective,\n",
    "    space=hyperparameter_space,\n",
    "    algo=tpe.suggest,\n",
    "    max_evals=50,\n",
    "    trials=trials\n",
    ");"
   ]
  },
  {
   "cell_type": "code",
   "execution_count": 31,
   "metadata": {
    "execution": {
     "iopub.execute_input": "2021-11-29T18:25:26.721188Z",
     "iopub.status.busy": "2021-11-29T18:25:26.720621Z",
     "iopub.status.idle": "2021-11-29T18:25:26.740401Z",
     "shell.execute_reply": "2021-11-29T18:25:26.739542Z",
     "shell.execute_reply.started": "2021-11-29T18:25:26.721149Z"
    }
   },
   "outputs": [
    {
     "data": {
      "text/html": [
       "<div>\n",
       "<style scoped>\n",
       "    .dataframe tbody tr th:only-of-type {\n",
       "        vertical-align: middle;\n",
       "    }\n",
       "\n",
       "    .dataframe tbody tr th {\n",
       "        vertical-align: top;\n",
       "    }\n",
       "\n",
       "    .dataframe thead th {\n",
       "        text-align: right;\n",
       "    }\n",
       "</style>\n",
       "<table border=\"1\" class=\"dataframe\">\n",
       "  <thead>\n",
       "    <tr style=\"text-align: right;\">\n",
       "      <th></th>\n",
       "      <th>f1_score</th>\n",
       "      <th>learning_rate</th>\n",
       "      <th>loss</th>\n",
       "      <th>max_depth</th>\n",
       "      <th>max_features</th>\n",
       "      <th>min_samples_leaf</th>\n",
       "      <th>precision</th>\n",
       "      <th>recall</th>\n",
       "      <th>status</th>\n",
       "      <th>test_ROCAUC</th>\n",
       "      <th>test_accuracy</th>\n",
       "      <th>train_ROCAUC</th>\n",
       "      <th>train_accuracy</th>\n",
       "    </tr>\n",
       "  </thead>\n",
       "  <tbody>\n",
       "    <tr>\n",
       "      <th>6</th>\n",
       "      <td>0.389994</td>\n",
       "      <td>0.104546</td>\n",
       "      <td>-0.818415</td>\n",
       "      <td>18</td>\n",
       "      <td>10</td>\n",
       "      <td>32</td>\n",
       "      <td>0.711748</td>\n",
       "      <td>0.268579</td>\n",
       "      <td>ok</td>\n",
       "      <td>0.818415</td>\n",
       "      <td>0.910908</td>\n",
       "      <td>0.819056</td>\n",
       "      <td>0.910539</td>\n",
       "    </tr>\n",
       "    <tr>\n",
       "      <th>36</th>\n",
       "      <td>0.389659</td>\n",
       "      <td>0.079547</td>\n",
       "      <td>-0.818917</td>\n",
       "      <td>11</td>\n",
       "      <td>21</td>\n",
       "      <td>37</td>\n",
       "      <td>0.716174</td>\n",
       "      <td>0.267639</td>\n",
       "      <td>ok</td>\n",
       "      <td>0.818917</td>\n",
       "      <td>0.911095</td>\n",
       "      <td>0.818598</td>\n",
       "      <td>0.910533</td>\n",
       "    </tr>\n",
       "    <tr>\n",
       "      <th>42</th>\n",
       "      <td>0.389630</td>\n",
       "      <td>0.225000</td>\n",
       "      <td>-0.818805</td>\n",
       "      <td>5</td>\n",
       "      <td>18</td>\n",
       "      <td>60</td>\n",
       "      <td>0.715138</td>\n",
       "      <td>0.267756</td>\n",
       "      <td>ok</td>\n",
       "      <td>0.818805</td>\n",
       "      <td>0.911045</td>\n",
       "      <td>0.818196</td>\n",
       "      <td>0.910465</td>\n",
       "    </tr>\n",
       "    <tr>\n",
       "      <th>15</th>\n",
       "      <td>0.389550</td>\n",
       "      <td>0.169193</td>\n",
       "      <td>-0.819120</td>\n",
       "      <td>3</td>\n",
       "      <td>19</td>\n",
       "      <td>136</td>\n",
       "      <td>0.717124</td>\n",
       "      <td>0.267404</td>\n",
       "      <td>ok</td>\n",
       "      <td>0.819120</td>\n",
       "      <td>0.911132</td>\n",
       "      <td>0.816551</td>\n",
       "      <td>0.910358</td>\n",
       "    </tr>\n",
       "    <tr>\n",
       "      <th>8</th>\n",
       "      <td>0.389479</td>\n",
       "      <td>0.193663</td>\n",
       "      <td>-0.819106</td>\n",
       "      <td>7</td>\n",
       "      <td>18</td>\n",
       "      <td>149</td>\n",
       "      <td>0.717487</td>\n",
       "      <td>0.267286</td>\n",
       "      <td>ok</td>\n",
       "      <td>0.819106</td>\n",
       "      <td>0.911145</td>\n",
       "      <td>0.818062</td>\n",
       "      <td>0.910459</td>\n",
       "    </tr>\n",
       "  </tbody>\n",
       "</table>\n",
       "</div>"
      ],
      "text/plain": [
       "    f1_score  learning_rate      loss  max_depth  max_features  \\\n",
       "6   0.389994       0.104546 -0.818415         18            10   \n",
       "36  0.389659       0.079547 -0.818917         11            21   \n",
       "42  0.389630       0.225000 -0.818805          5            18   \n",
       "15  0.389550       0.169193 -0.819120          3            19   \n",
       "8   0.389479       0.193663 -0.819106          7            18   \n",
       "\n",
       "    min_samples_leaf  precision    recall status  test_ROCAUC  test_accuracy  \\\n",
       "6                 32   0.711748  0.268579     ok     0.818415       0.910908   \n",
       "36                37   0.716174  0.267639     ok     0.818917       0.911095   \n",
       "42                60   0.715138  0.267756     ok     0.818805       0.911045   \n",
       "15               136   0.717124  0.267404     ok     0.819120       0.911132   \n",
       "8                149   0.717487  0.267286     ok     0.819106       0.911145   \n",
       "\n",
       "    train_ROCAUC  train_accuracy  \n",
       "6       0.819056        0.910539  \n",
       "36      0.818598        0.910533  \n",
       "42      0.818196        0.910465  \n",
       "15      0.816551        0.910358  \n",
       "8       0.818062        0.910459  "
      ]
     },
     "execution_count": 31,
     "metadata": {},
     "output_type": "execute_result"
    }
   ],
   "source": [
    "pd.DataFrame(trials.results).sort_values(by='f1_score', ascending=False).head(5)"
   ]
  },
  {
   "cell_type": "markdown",
   "metadata": {},
   "source": [
    "We obtain the best results with the hyperparameters above, even though we see that there seem to be no very large differences when trying different values for the parameters. It's good to see that there are no signs of overfitting whatsoever, as our predictions are equally good for training and for testing examples."
   ]
  },
  {
   "cell_type": "code",
   "execution_count": 32,
   "metadata": {
    "execution": {
     "iopub.execute_input": "2021-11-29T18:25:34.850656Z",
     "iopub.status.busy": "2021-11-29T18:25:34.850242Z",
     "iopub.status.idle": "2021-11-29T18:26:13.996092Z",
     "shell.execute_reply": "2021-11-29T18:26:13.99367Z",
     "shell.execute_reply.started": "2021-11-29T18:25:34.850472Z"
    }
   },
   "outputs": [
    {
     "data": {
      "text/plain": [
       "GradientBoostingClassifier(criterion='friedman_mse', init=None,\n",
       "              learning_rate=0.285508, loss='deviance', max_depth=19,\n",
       "              max_features=7, max_leaf_nodes=None,\n",
       "              min_impurity_decrease=0.0, min_impurity_split=None,\n",
       "              min_samples_leaf=99, min_samples_split=2,\n",
       "              min_weight_fraction_leaf=0.0, n_estimators=100,\n",
       "              n_iter_no_change=None, presort='auto', random_state=None,\n",
       "              subsample=1.0, tol=0.0001, validation_fraction=0.1,\n",
       "              verbose=0, warm_start=False)"
      ]
     },
     "execution_count": 32,
     "metadata": {},
     "output_type": "execute_result"
    }
   ],
   "source": [
    "model = GradientBoostingClassifier(\n",
    "                        learning_rate=0.285508,\n",
    "                        min_samples_leaf=99,\n",
    "                        max_depth = 19,\n",
    "                        max_features = 7\n",
    "                        )\n",
    "model.fit(X_train, y_train)"
   ]
  },
  {
   "cell_type": "markdown",
   "metadata": {},
   "source": [
    "Let's analyze the performance of the model with greater detail:"
   ]
  },
  {
   "cell_type": "code",
   "execution_count": 33,
   "metadata": {
    "execution": {
     "iopub.execute_input": "2021-11-29T18:26:20.7172Z",
     "iopub.status.busy": "2021-11-29T18:26:20.716511Z",
     "iopub.status.idle": "2021-11-29T18:26:22.053512Z",
     "shell.execute_reply": "2021-11-29T18:26:22.052325Z",
     "shell.execute_reply.started": "2021-11-29T18:26:20.716753Z"
    }
   },
   "outputs": [
    {
     "name": "stdout",
     "output_type": "stream",
     "text": [
      "The test set contains 80198 examples (shots) of which 8504 are positive (goals).\n",
      "The accuracy of classifying whether a shot is goal or not is 91.0%.\n",
      "Our classifier obtains an ROC-AUC of 82.0%\n"
     ]
    }
   ],
   "source": [
    "print('The test set contains {} examples (shots) of which {} are positive (goals).'.format(len(y_test), y_test.sum()))\n",
    "print('The accuracy of classifying whether a shot is goal or not is {}%.'.format(round(model.score(X_test, y_test)*100),2))\n",
    "print('Our classifier obtains an ROC-AUC of {}%'.format(round(roc_auc_score(y_test, model.predict_proba(X_test)[:, 1])*100),2))"
   ]
  },
  {
   "cell_type": "markdown",
   "metadata": {},
   "source": [
    "So, we can see that our xG model is able to correctly predict whether a shot is goal or not **91%** of the times. Furthermore, we obtain a pretty good **ROC-AUC** metric of **82%**. This looks very promising.\n",
    "\n",
    "However, these two metrics do not consider that our dataset is highly imbalanced. There are many more shots that do not end up being a goal than shots that do. So, for example, if we would simply predict that the shot will not be a goal each and every single time, we would already obtain an accuracy of 89%.\n",
    "\n",
    "So we need other metrics to really understand if our model is any good."
   ]
  },
  {
   "cell_type": "markdown",
   "metadata": {},
   "source": [
    "Now we'll explore **PR-AUC** (Precision-Recall Under the Curve), and **Cohen's Kappa** statistic. Both of these are more appropiate for our case, since they do take into account the imbalance in our data."
   ]
  },
  {
   "cell_type": "code",
   "execution_count": 34,
   "metadata": {
    "execution": {
     "iopub.execute_input": "2021-11-29T18:26:33.933547Z",
     "iopub.status.busy": "2021-11-29T18:26:33.933263Z",
     "iopub.status.idle": "2021-11-29T18:26:35.376247Z",
     "shell.execute_reply": "2021-11-29T18:26:35.375194Z",
     "shell.execute_reply.started": "2021-11-29T18:26:33.933497Z"
    }
   },
   "outputs": [
    {
     "name": "stdout",
     "output_type": "stream",
     "text": [
      "The baseline performance for PR-AUC is 0.11%. This is the PR-AUC that what we would get by random guessing.\n",
      "Our model obtains an PR-AUC of 47.36%.\n",
      "Our classifier obtains a Cohen Kappa of 0.35.\n"
     ]
    }
   ],
   "source": [
    "print('The baseline performance for PR-AUC is {}%. This is the PR-AUC that what we would get by random guessing.'.format(round(y_train.mean(),2)))\n",
    "print('Our model obtains an PR-AUC of {}%.'.format(round(average_precision_score(y_test, model.predict_proba(X_test)[:, 1])*100,2)))\n",
    "print('Our classifier obtains a Cohen Kappa of {}.'.format(round(cohen_kappa_score(y_test,model.predict(X_test)),2)))"
   ]
  },
  {
   "cell_type": "markdown",
   "metadata": {},
   "source": [
    "We end the evaluation of the model with a confusion matrix and an additional stats report. \n"
   ]
  },
  {
   "cell_type": "code",
   "execution_count": 35,
   "metadata": {
    "execution": {
     "iopub.execute_input": "2021-11-29T18:26:45.596607Z",
     "iopub.status.busy": "2021-11-29T18:26:45.596102Z",
     "iopub.status.idle": "2021-11-29T18:26:47.047185Z",
     "shell.execute_reply": "2021-11-29T18:26:47.045776Z",
     "shell.execute_reply.started": "2021-11-29T18:26:45.596569Z"
    }
   },
   "outputs": [
    {
     "name": "stdout",
     "output_type": "stream",
     "text": [
      "\u001b[1m\u001b[93mConfusion Matrix:\n",
      "\u001b[0m\n",
      "[[70779   915]\n",
      " [ 6233  2271]]\n",
      "\u001b[1m\u001b[93m\n",
      " Report:\u001b[0m\n",
      "              precision    recall  f1-score   support\n",
      "\n",
      "           0       0.92      0.99      0.95     71694\n",
      "           1       0.71      0.27      0.39      8504\n",
      "\n",
      "   micro avg       0.91      0.91      0.91     80198\n",
      "   macro avg       0.82      0.63      0.67     80198\n",
      "weighted avg       0.90      0.91      0.89     80198\n",
      "\n"
     ]
    }
   ],
   "source": [
    "print(color.BOLD + color.YELLOW + 'Confusion Matrix:\\n' + color.END)\n",
    "print(confusion_matrix(y_test,model.predict(X_test)))\n",
    "print(color.BOLD +  color.YELLOW + '\\n Report:' + color.END)\n",
    "print(classification_report(y_test,model.predict(X_test)))"
   ]
  },
  {
   "cell_type": "markdown",
   "metadata": {},
   "source": [
    "The confusion matrix summarizes all predictions. It tells us that, from all the shots that were not goal, our model correctly identified **70,781** as no-goals, and made a mistake in **6,238** cases in which it predicted that the shot would not be a goal, but it was. From the other column, we see that it correctly predicted **913** goals, but failed to predict **2266** succesful shots as goals.\n",
    "\n",
    "From the report we can see the model has excellent numbers when it comes to predict class 0 (no-goal), but not that good for predicting class 1 (goals). With the latter, we have a precision of **71%**, and a recall of **27%**, resulting in an *F1* score of **0.39**. These are decent numbers, but not really good.\n",
    "\n",
    "Does this make sense? Of course it does. Predicting whether a shot will be goal and being right is extremely more difficult than correctly predicting it will not be a goal. This is particularly true if you have no idea who the player shooting the ball is or who the goalkeeper is, which is the situation in which the algorithm is in. It would be interesting to make a human vs. machine study on this. Are human experts much better in judging whether any given shot will become a goal than a model such as this one is?"
   ]
  },
  {
   "cell_type": "markdown",
   "metadata": {},
   "source": [
    "## Logistic Regression"
   ]
  },
  {
   "cell_type": "code",
   "execution_count": 36,
   "metadata": {
    "execution": {
     "iopub.execute_input": "2021-11-29T18:27:00.158991Z",
     "iopub.status.busy": "2021-11-29T18:27:00.158454Z",
     "iopub.status.idle": "2021-11-29T18:27:01.425575Z",
     "shell.execute_reply": "2021-11-29T18:27:01.424304Z",
     "shell.execute_reply.started": "2021-11-29T18:27:00.158952Z"
    }
   },
   "outputs": [
    {
     "name": "stderr",
     "output_type": "stream",
     "text": [
      "/opt/conda/lib/python3.6/site-packages/sklearn/linear_model/logistic.py:433: FutureWarning: Default solver will be changed to 'lbfgs' in 0.22. Specify a solver to silence this warning.\n",
      "  FutureWarning)\n"
     ]
    },
    {
     "data": {
      "text/plain": [
       "LogisticRegression(C=1.0, class_weight=None, dual=False, fit_intercept=True,\n",
       "          intercept_scaling=1, max_iter=400, multi_class='warn',\n",
       "          n_jobs=None, penalty='l2', random_state=None, solver='warn',\n",
       "          tol=0.0001, verbose=0, warm_start=False)"
      ]
     },
     "execution_count": 36,
     "metadata": {},
     "output_type": "execute_result"
    }
   ],
   "source": [
    "model = LogisticRegression(max_iter=400)\n",
    "model.fit(X_train, y_train)"
   ]
  },
  {
   "cell_type": "code",
   "execution_count": 37,
   "metadata": {
    "execution": {
     "iopub.execute_input": "2021-11-29T18:27:04.615986Z",
     "iopub.status.busy": "2021-11-29T18:27:04.615722Z",
     "iopub.status.idle": "2021-11-29T18:27:04.998617Z",
     "shell.execute_reply": "2021-11-29T18:27:04.99796Z",
     "shell.execute_reply.started": "2021-11-29T18:27:04.615954Z"
    }
   },
   "outputs": [
    {
     "name": "stdout",
     "output_type": "stream",
     "text": [
      "The test set contains 80198 examples (shots) of which 8504 are positive (goals).\n",
      "The accuracy of classifying whether a shot is goal or not is 91.0%.\n",
      "Our classifier obtains an ROC-AUC of 82.0%\n"
     ]
    }
   ],
   "source": [
    "print('The test set contains {} examples (shots) of which {} are positive (goals).'.format(len(y_test), y_test.sum()))\n",
    "print('The accuracy of classifying whether a shot is goal or not is {}%.'.format(round(model.score(X_test, y_test)*100),2))\n",
    "print('Our classifier obtains an ROC-AUC of {}%'.format(round(roc_auc_score(y_test, model.predict_proba(X_test)[:, 1])*100),2))"
   ]
  },
  {
   "cell_type": "code",
   "execution_count": 38,
   "metadata": {
    "execution": {
     "iopub.execute_input": "2021-11-29T18:27:07.750341Z",
     "iopub.status.busy": "2021-11-29T18:27:07.749787Z",
     "iopub.status.idle": "2021-11-29T18:27:08.147642Z",
     "shell.execute_reply": "2021-11-29T18:27:08.146948Z",
     "shell.execute_reply.started": "2021-11-29T18:27:07.750296Z"
    }
   },
   "outputs": [
    {
     "name": "stdout",
     "output_type": "stream",
     "text": [
      "The baseline performance for PR-AUC is 0.11%. This is the PR-AUC that what we would get by random guessing.\n",
      "Our model obtains an PR-AUC of 47.08%.\n",
      "Our classifier obtains a Cohen Kappa of 0.35.\n"
     ]
    }
   ],
   "source": [
    "print('The baseline performance for PR-AUC is {}%. This is the PR-AUC that what we would get by random guessing.'.format(round(y_train.mean(),2)))\n",
    "print('Our model obtains an PR-AUC of {}%.'.format(round(average_precision_score(y_test, model.predict_proba(X_test)[:, 1])*100,2)))\n",
    "print('Our classifier obtains a Cohen Kappa of {}.'.format(round(cohen_kappa_score(y_test,model.predict(X_test)),2)))"
   ]
  },
  {
   "cell_type": "code",
   "execution_count": 39,
   "metadata": {
    "execution": {
     "iopub.execute_input": "2021-11-29T18:27:09.963212Z",
     "iopub.status.busy": "2021-11-29T18:27:09.962843Z",
     "iopub.status.idle": "2021-11-29T18:27:10.510988Z",
     "shell.execute_reply": "2021-11-29T18:27:10.510178Z",
     "shell.execute_reply.started": "2021-11-29T18:27:09.963172Z"
    }
   },
   "outputs": [
    {
     "name": "stdout",
     "output_type": "stream",
     "text": [
      "\u001b[1m\u001b[93m\u001b[4mConfusion Matrix:\n",
      "\u001b[0m\n",
      "[[70820   874]\n",
      " [ 6265  2239]]\n",
      "\u001b[1m\u001b[93m\u001b[4m\n",
      " Report:\u001b[0m\n",
      "              precision    recall  f1-score   support\n",
      "\n",
      "           0       0.92      0.99      0.95     71694\n",
      "           1       0.72      0.26      0.39      8504\n",
      "\n",
      "   micro avg       0.91      0.91      0.91     80198\n",
      "   macro avg       0.82      0.63      0.67     80198\n",
      "weighted avg       0.90      0.91      0.89     80198\n",
      "\n"
     ]
    }
   ],
   "source": [
    "print(color.BOLD + color.YELLOW + color.UNDERLINE + 'Confusion Matrix:\\n' + color.END)\n",
    "print(confusion_matrix(y_test,model.predict(X_test)))\n",
    "print(color.BOLD +  color.YELLOW + color.UNDERLINE + '\\n Report:' + color.END)\n",
    "print(classification_report(y_test,model.predict(X_test)))"
   ]
  },
  {
   "cell_type": "markdown",
   "metadata": {},
   "source": [
    "We get almost exactly the same results as with Gradient Boosting. When this is the case, one should usually prefer the simpler model, in this case the Logistic Regression. However, there are 39 goals that were correctly recognized as such by the Gradient Boosting that were not captured by the Logistic Regression. Even though this is not a huge difference, I will choose the Gradient Boosting because of it."
   ]
  },
  {
   "cell_type": "code",
   "execution_count": 40,
   "metadata": {},
   "outputs": [
    {
     "data": {
      "text/plain": [
       "GradientBoostingClassifier(criterion='friedman_mse', init=None,\n",
       "              learning_rate=0.285508, loss='deviance', max_depth=19,\n",
       "              max_features=7, max_leaf_nodes=None,\n",
       "              min_impurity_decrease=0.0, min_impurity_split=None,\n",
       "              min_samples_leaf=99, min_samples_split=2,\n",
       "              min_weight_fraction_leaf=0.0, n_estimators=100,\n",
       "              n_iter_no_change=None, presort='auto', random_state=None,\n",
       "              subsample=1.0, tol=0.0001, validation_fraction=0.1,\n",
       "              verbose=0, warm_start=False)"
      ]
     },
     "execution_count": 40,
     "metadata": {},
     "output_type": "execute_result"
    }
   ],
   "source": [
    "model = GradientBoostingClassifier(\n",
    "                        learning_rate=0.285508,\n",
    "                        min_samples_leaf=99,\n",
    "                        max_depth = 19,\n",
    "                        max_features = 7\n",
    "                        )\n",
    "model.fit(X_train, y_train)"
   ]
  },
  {
   "cell_type": "markdown",
   "metadata": {},
   "source": [
    "## Feature Importances\n",
    "Let's take a look at which of our features are more relevant for our model to make the decisions as to whether each shot is a goal or not."
   ]
  },
  {
   "cell_type": "code",
   "execution_count": 41,
   "metadata": {
    "execution": {
     "iopub.execute_input": "2021-11-29T18:27:23.935642Z",
     "iopub.status.busy": "2021-11-29T18:27:23.935345Z",
     "iopub.status.idle": "2021-11-29T18:27:24.409255Z",
     "shell.execute_reply": "2021-11-29T18:27:24.407912Z",
     "shell.execute_reply.started": "2021-11-29T18:27:23.9356Z"
    }
   },
   "outputs": [
    {
     "data": {
      "text/html": [
       "\n",
       "    <style>\n",
       "    table.eli5-weights tr:hover {\n",
       "        filter: brightness(85%);\n",
       "    }\n",
       "</style>\n",
       "\n",
       "\n",
       "\n",
       "    \n",
       "\n",
       "    \n",
       "\n",
       "    \n",
       "\n",
       "    \n",
       "\n",
       "    \n",
       "\n",
       "    \n",
       "\n",
       "\n",
       "    \n",
       "\n",
       "    \n",
       "\n",
       "    \n",
       "\n",
       "    \n",
       "\n",
       "    \n",
       "\n",
       "    \n",
       "\n",
       "\n",
       "    \n",
       "\n",
       "    \n",
       "\n",
       "    \n",
       "\n",
       "    \n",
       "\n",
       "    \n",
       "        <table class=\"eli5-weights eli5-feature-importances\" style=\"border-collapse: collapse; border: none; margin-top: 0em; table-layout: auto;\">\n",
       "    <thead>\n",
       "    <tr style=\"border: none;\">\n",
       "        <th style=\"padding: 0 1em 0 0.5em; text-align: right; border: none;\">Weight</th>\n",
       "        <th style=\"padding: 0 0.5em 0 0.5em; text-align: left; border: none;\">Feature</th>\n",
       "    </tr>\n",
       "    </thead>\n",
       "    <tbody>\n",
       "    \n",
       "        <tr style=\"background-color: hsl(120, 100.00%, 80.00%); border: none;\">\n",
       "            <td style=\"padding: 0 1em 0 0.5em; text-align: right; border: none;\">\n",
       "                0.2147\n",
       "                \n",
       "                    &plusmn; 0.1120\n",
       "                \n",
       "            </td>\n",
       "            <td style=\"padding: 0 0.5em 0 0.5em; text-align: left; border: none;\">\n",
       "                diff_angle_right\n",
       "            </td>\n",
       "        </tr>\n",
       "    \n",
       "        <tr style=\"background-color: hsl(120, 100.00%, 82.05%); border: none;\">\n",
       "            <td style=\"padding: 0 1em 0 0.5em; text-align: right; border: none;\">\n",
       "                0.1839\n",
       "                \n",
       "                    &plusmn; 0.0783\n",
       "                \n",
       "            </td>\n",
       "            <td style=\"padding: 0 0.5em 0 0.5em; text-align: left; border: none;\">\n",
       "                penalty\n",
       "            </td>\n",
       "        </tr>\n",
       "    \n",
       "        <tr style=\"background-color: hsl(120, 100.00%, 83.24%); border: none;\">\n",
       "            <td style=\"padding: 0 1em 0 0.5em; text-align: right; border: none;\">\n",
       "                0.1668\n",
       "                \n",
       "                    &plusmn; 0.0775\n",
       "                \n",
       "            </td>\n",
       "            <td style=\"padding: 0 0.5em 0 0.5em; text-align: left; border: none;\">\n",
       "                left_side_box\n",
       "            </td>\n",
       "        </tr>\n",
       "    \n",
       "        <tr style=\"background-color: hsl(120, 100.00%, 88.47%); border: none;\">\n",
       "            <td style=\"padding: 0 1em 0 0.5em; text-align: right; border: none;\">\n",
       "                0.0978\n",
       "                \n",
       "                    &plusmn; 0.1102\n",
       "                \n",
       "            </td>\n",
       "            <td style=\"padding: 0 0.5em 0 0.5em; text-align: left; border: none;\">\n",
       "                outside_box\n",
       "            </td>\n",
       "        </tr>\n",
       "    \n",
       "        <tr style=\"background-color: hsl(120, 100.00%, 91.56%); border: none;\">\n",
       "            <td style=\"padding: 0 1em 0 0.5em; text-align: right; border: none;\">\n",
       "                0.0626\n",
       "                \n",
       "                    &plusmn; 0.2177\n",
       "                \n",
       "            </td>\n",
       "            <td style=\"padding: 0 0.5em 0 0.5em; text-align: left; border: none;\">\n",
       "                fast_break\n",
       "            </td>\n",
       "        </tr>\n",
       "    \n",
       "        <tr style=\"background-color: hsl(120, 100.00%, 91.78%); border: none;\">\n",
       "            <td style=\"padding: 0 1em 0 0.5em; text-align: right; border: none;\">\n",
       "                0.0603\n",
       "                \n",
       "                    &plusmn; 0.1042\n",
       "                \n",
       "            </td>\n",
       "            <td style=\"padding: 0 0.5em 0 0.5em; text-align: left; border: none;\">\n",
       "                left_side_6ybox\n",
       "            </td>\n",
       "        </tr>\n",
       "    \n",
       "        <tr style=\"background-color: hsl(120, 100.00%, 93.71%); border: none;\">\n",
       "            <td style=\"padding: 0 1em 0 0.5em; text-align: right; border: none;\">\n",
       "                0.0412\n",
       "                \n",
       "                    &plusmn; 0.0817\n",
       "                \n",
       "            </td>\n",
       "            <td style=\"padding: 0 0.5em 0 0.5em; text-align: left; border: none;\">\n",
       "                assist_through_ball\n",
       "            </td>\n",
       "        </tr>\n",
       "    \n",
       "        <tr style=\"background-color: hsl(120, 100.00%, 95.18%); border: none;\">\n",
       "            <td style=\"padding: 0 1em 0 0.5em; text-align: right; border: none;\">\n",
       "                0.0281\n",
       "                \n",
       "                    &plusmn; 0.0434\n",
       "                \n",
       "            </td>\n",
       "            <td style=\"padding: 0 0.5em 0 0.5em; text-align: left; border: none;\">\n",
       "                set_piece\n",
       "            </td>\n",
       "        </tr>\n",
       "    \n",
       "        <tr style=\"background-color: hsl(120, 100.00%, 95.43%); border: none;\">\n",
       "            <td style=\"padding: 0 1em 0 0.5em; text-align: right; border: none;\">\n",
       "                0.0261\n",
       "                \n",
       "                    &plusmn; 0.0907\n",
       "                \n",
       "            </td>\n",
       "            <td style=\"padding: 0 0.5em 0 0.5em; text-align: left; border: none;\">\n",
       "                header\n",
       "            </td>\n",
       "        </tr>\n",
       "    \n",
       "        <tr style=\"background-color: hsl(120, 100.00%, 96.22%); border: none;\">\n",
       "            <td style=\"padding: 0 1em 0 0.5em; text-align: right; border: none;\">\n",
       "                0.0199\n",
       "                \n",
       "                    &plusmn; 0.1310\n",
       "                \n",
       "            </td>\n",
       "            <td style=\"padding: 0 0.5em 0 0.5em; text-align: left; border: none;\">\n",
       "                assist_cross\n",
       "            </td>\n",
       "        </tr>\n",
       "    \n",
       "        <tr style=\"background-color: hsl(120, 100.00%, 96.76%); border: none;\">\n",
       "            <td style=\"padding: 0 1em 0 0.5em; text-align: right; border: none;\">\n",
       "                0.0160\n",
       "                \n",
       "                    &plusmn; 0.1385\n",
       "                \n",
       "            </td>\n",
       "            <td style=\"padding: 0 0.5em 0 0.5em; text-align: left; border: none;\">\n",
       "                no_assist\n",
       "            </td>\n",
       "        </tr>\n",
       "    \n",
       "        <tr style=\"background-color: hsl(120, 100.00%, 97.39%); border: none;\">\n",
       "            <td style=\"padding: 0 1em 0 0.5em; text-align: right; border: none;\">\n",
       "                0.0117\n",
       "                \n",
       "                    &plusmn; 0.0430\n",
       "                \n",
       "            </td>\n",
       "            <td style=\"padding: 0 0.5em 0 0.5em; text-align: left; border: none;\">\n",
       "                diff_angle_left\n",
       "            </td>\n",
       "        </tr>\n",
       "    \n",
       "        <tr style=\"background-color: hsl(120, 100.00%, 97.40%); border: none;\">\n",
       "            <td style=\"padding: 0 1em 0 0.5em; text-align: right; border: none;\">\n",
       "                0.0116\n",
       "                \n",
       "                    &plusmn; 0.0488\n",
       "                \n",
       "            </td>\n",
       "            <td style=\"padding: 0 0.5em 0 0.5em; text-align: left; border: none;\">\n",
       "                loc_centre_box\n",
       "            </td>\n",
       "        </tr>\n",
       "    \n",
       "        <tr style=\"background-color: hsl(120, 100.00%, 97.62%); border: none;\">\n",
       "            <td style=\"padding: 0 1em 0 0.5em; text-align: right; border: none;\">\n",
       "                0.0102\n",
       "                \n",
       "                    &plusmn; 0.0731\n",
       "                \n",
       "            </td>\n",
       "            <td style=\"padding: 0 0.5em 0 0.5em; text-align: left; border: none;\">\n",
       "                open_play\n",
       "            </td>\n",
       "        </tr>\n",
       "    \n",
       "        <tr style=\"background-color: hsl(120, 100.00%, 98.14%); border: none;\">\n",
       "            <td style=\"padding: 0 1em 0 0.5em; text-align: right; border: none;\">\n",
       "                0.0072\n",
       "                \n",
       "                    &plusmn; 0.0788\n",
       "                \n",
       "            </td>\n",
       "            <td style=\"padding: 0 0.5em 0 0.5em; text-align: left; border: none;\">\n",
       "                loc_diff_angle_lr\n",
       "            </td>\n",
       "        </tr>\n",
       "    \n",
       "        <tr style=\"background-color: hsl(120, 100.00%, 98.16%); border: none;\">\n",
       "            <td style=\"padding: 0 1em 0 0.5em; text-align: right; border: none;\">\n",
       "                0.0071\n",
       "                \n",
       "                    &plusmn; 0.1160\n",
       "                \n",
       "            </td>\n",
       "            <td style=\"padding: 0 0.5em 0 0.5em; text-align: left; border: none;\">\n",
       "                right_foot\n",
       "            </td>\n",
       "        </tr>\n",
       "    \n",
       "        <tr style=\"background-color: hsl(120, 100.00%, 98.16%); border: none;\">\n",
       "            <td style=\"padding: 0 1em 0 0.5em; text-align: right; border: none;\">\n",
       "                0.0071\n",
       "                \n",
       "                    &plusmn; 0.1119\n",
       "                \n",
       "            </td>\n",
       "            <td style=\"padding: 0 0.5em 0 0.5em; text-align: left; border: none;\">\n",
       "                not_recorded\n",
       "            </td>\n",
       "        </tr>\n",
       "    \n",
       "        <tr style=\"background-color: hsl(120, 100.00%, 98.32%); border: none;\">\n",
       "            <td style=\"padding: 0 1em 0 0.5em; text-align: right; border: none;\">\n",
       "                0.0062\n",
       "                \n",
       "                    &plusmn; 0.1478\n",
       "                \n",
       "            </td>\n",
       "            <td style=\"padding: 0 0.5em 0 0.5em; text-align: left; border: none;\">\n",
       "                assist_pass\n",
       "            </td>\n",
       "        </tr>\n",
       "    \n",
       "        <tr style=\"background-color: hsl(120, 100.00%, 98.40%); border: none;\">\n",
       "            <td style=\"padding: 0 1em 0 0.5em; text-align: right; border: none;\">\n",
       "                0.0058\n",
       "                \n",
       "                    &plusmn; 0.0583\n",
       "                \n",
       "            </td>\n",
       "            <td style=\"padding: 0 0.5em 0 0.5em; text-align: left; border: none;\">\n",
       "                corner\n",
       "            </td>\n",
       "        </tr>\n",
       "    \n",
       "        <tr style=\"background-color: hsl(120, 100.00%, 98.80%); border: none;\">\n",
       "            <td style=\"padding: 0 1em 0 0.5em; text-align: right; border: none;\">\n",
       "                0.0038\n",
       "                \n",
       "                    &plusmn; 0.1360\n",
       "                \n",
       "            </td>\n",
       "            <td style=\"padding: 0 0.5em 0 0.5em; text-align: left; border: none;\">\n",
       "                left_foot\n",
       "            </td>\n",
       "        </tr>\n",
       "    \n",
       "    \n",
       "        \n",
       "            <tr style=\"background-color: hsl(120, 100.00%, 98.80%); border: none;\">\n",
       "                <td colspan=\"2\" style=\"padding: 0 0.5em 0 0.5em; text-align: center; border: none; white-space: nowrap;\">\n",
       "                    <i>&hellip; 8 more &hellip;</i>\n",
       "                </td>\n",
       "            </tr>\n",
       "        \n",
       "    \n",
       "    </tbody>\n",
       "</table>\n",
       "    \n",
       "\n",
       "    \n",
       "\n",
       "\n",
       "    \n",
       "\n",
       "    \n",
       "\n",
       "    \n",
       "\n",
       "    \n",
       "\n",
       "    \n",
       "\n",
       "    \n",
       "\n",
       "\n",
       "\n"
      ],
      "text/plain": [
       "Explanation(estimator=\"GradientBoostingClassifier(criterion='friedman_mse', init=None,\\n              learning_rate=0.285508, loss='deviance', max_depth=19,\\n              max_features=7, max_leaf_nodes=None,\\n              min_impurity_decrease=0.0, min_impurity_split=None,\\n              min_samples_leaf=99, min_samples_split=2,\\n              min_weight_fraction_leaf=0.0, n_estimators=100,\\n              n_iter_no_change=None, presort='auto', random_state=None,\\n              subsample=1.0, tol=0.0001, validation_fraction=0.1,\\n              verbose=0, warm_start=False)\", description='\\nRandom forest feature importances; values are numbers 0 <= x <= 1;\\nall values sum to 1.\\n', error=None, method='feature importances', is_regression=False, targets=None, feature_importances=FeatureImportances(importances=[FeatureWeight(feature='diff_angle_right', weight=0.21471648357613451, std=0.05602330396120089, value=None), FeatureWeight(feature='penalty', weight=0.18391183632796018, std=0.03914922903620621, value=None), FeatureWeight(feature='left_side_box', weight=0.16676805708573297, std=0.03875150888481691, value=None), FeatureWeight(feature='outside_box', weight=0.09781258130335188, std=0.0551026060205922, value=None), FeatureWeight(feature='fast_break', weight=0.06256667413220279, std=0.1088327573727333, value=None), FeatureWeight(feature='left_side_6ybox', weight=0.06029446546052352, std=0.05212059180322853, value=None), FeatureWeight(feature='assist_through_ball', weight=0.041154982502520636, std=0.04086619864372435, value=None), FeatureWeight(feature='set_piece', weight=0.02810818766560174, std=0.021707859804006944, value=None), FeatureWeight(feature='header', weight=0.02609101035944041, std=0.04532646981431051, value=None), FeatureWeight(feature='assist_cross', weight=0.0198519402990687, std=0.06549431409850838, value=None), FeatureWeight(feature='no_assist', weight=0.015965645507608008, std=0.06923587367564155, value=None), FeatureWeight(feature='diff_angle_left', weight=0.011705536717250766, std=0.021485189759846493, value=None), FeatureWeight(feature='loc_centre_box', weight=0.011632227023129663, std=0.024424046302328726, value=None), FeatureWeight(feature='open_play', weight=0.010244237923136609, std=0.03655496565566863, value=None), FeatureWeight(feature='loc_diff_angle_lr', weight=0.007202185665684048, std=0.039415830118864084, value=None), FeatureWeight(feature='right_foot', weight=0.007111692478134362, std=0.05801280308353518, value=None), FeatureWeight(feature='not_recorded', weight=0.007108195103426935, std=0.05593448820435178, value=None), FeatureWeight(feature='assist_pass', weight=0.006246729446763558, std=0.07390238678174896, value=None), FeatureWeight(feature='corner', weight=0.005800475323214521, std=0.029145719381578512, value=None), FeatureWeight(feature='left_foot', weight=0.003843345141541042, std=0.06801355285076416, value=None)], remaining=8), decision_tree=None, highlight_spaces=None, transition_features=None)"
      ]
     },
     "execution_count": 41,
     "metadata": {},
     "output_type": "execute_result"
    }
   ],
   "source": [
    "import eli5\n",
    "eli5.explain_weights(model, feature_names=list(X_train.columns))"
   ]
  },
  {
   "cell_type": "markdown",
   "metadata": {},
   "source": [
    "We see that most of the shot-location clues (*close range*, *centre of the box*, *outside of the box*) stand among the most relevant, as expected. One thing to worry about is the high coefficient of the location=*not_recorded*. Apparently there are shots for which the location has not been recorded, and for some reason those shots are extremely likely to be goals. This makes things easier for the model. To better understand the model, it could be interesting to remove those rows and check its performance. I have tried it and it results in a slight decrease in performance (ROC-AUC=**0.806**, PR-AUC = **0.41**), so no too large differences. I will leave these rows anyway, as I will do players' analyses later and I don't want valuable information about the goals of the players being erased."
   ]
  },
  {
   "cell_type": "markdown",
   "metadata": {},
   "source": [
    "# 4. Player Analysis"
   ]
  },
  {
   "cell_type": "markdown",
   "metadata": {},
   "source": [
    "We'll start by adding the information we have about expected goals to each shot in our original data. From there, we can extract many interesting metrics about players, all of these metrics being related in one way or another to the new xG predictions for each shot."
   ]
  },
  {
   "cell_type": "code",
   "execution_count": 42,
   "metadata": {
    "execution": {
     "iopub.execute_input": "2021-11-29T18:29:33.178445Z",
     "iopub.status.busy": "2021-11-29T18:29:33.178135Z",
     "iopub.status.idle": "2021-11-29T18:29:33.734527Z",
     "shell.execute_reply": "2021-11-29T18:29:33.733733Z",
     "shell.execute_reply.started": "2021-11-29T18:29:33.178409Z"
    }
   },
   "outputs": [
    {
     "name": "stderr",
     "output_type": "stream",
     "text": [
      "/opt/conda/lib/python3.6/site-packages/ipykernel_launcher.py:1: SettingWithCopyWarning: \n",
      "A value is trying to be set on a copy of a slice from a DataFrame.\n",
      "Try using .loc[row_indexer,col_indexer] = value instead\n",
      "\n",
      "See the caveats in the documentation: http://pandas.pydata.org/pandas-docs/stable/indexing.html#indexing-view-versus-copy\n",
      "  \"\"\"Entry point for launching an IPython kernel.\n"
     ]
    },
    {
     "data": {
      "text/plain": [
       "dtype('float64')"
      ]
     },
     "execution_count": 42,
     "metadata": {},
     "output_type": "execute_result"
    }
   ],
   "source": [
    "shots['prediction'] = model.predict_proba(X)[:, 1]\n",
    "shots['prediction'].dtypes\n"
   ]
  },
  {
   "cell_type": "code",
   "execution_count": 43,
   "metadata": {
    "execution": {
     "iopub.execute_input": "2021-11-29T18:30:59.353189Z",
     "iopub.status.busy": "2021-11-29T18:30:59.352617Z",
     "iopub.status.idle": "2021-11-29T18:30:59.609871Z",
     "shell.execute_reply": "2021-11-29T18:30:59.60754Z",
     "shell.execute_reply.started": "2021-11-29T18:30:59.353135Z"
    }
   },
   "outputs": [
    {
     "name": "stderr",
     "output_type": "stream",
     "text": [
      "/opt/conda/lib/python3.6/site-packages/ipykernel_launcher.py:1: SettingWithCopyWarning: \n",
      "A value is trying to be set on a copy of a slice from a DataFrame.\n",
      "Try using .loc[row_indexer,col_indexer] = value instead\n",
      "\n",
      "See the caveats in the documentation: http://pandas.pydata.org/pandas-docs/stable/indexing.html#indexing-view-versus-copy\n",
      "  \"\"\"Entry point for launching an IPython kernel.\n"
     ]
    }
   ],
   "source": [
    "shots['is_goal'] = shots['is_goal'].astype(int)"
   ]
  },
  {
   "cell_type": "code",
   "execution_count": 44,
   "metadata": {
    "execution": {
     "iopub.execute_input": "2021-11-29T18:31:02.325879Z",
     "iopub.status.busy": "2021-11-29T18:31:02.325326Z",
     "iopub.status.idle": "2021-11-29T18:31:03.051888Z",
     "shell.execute_reply": "2021-11-29T18:31:03.050758Z",
     "shell.execute_reply.started": "2021-11-29T18:31:02.325825Z"
    }
   },
   "outputs": [
    {
     "name": "stderr",
     "output_type": "stream",
     "text": [
      "/opt/conda/lib/python3.6/site-packages/ipykernel_launcher.py:1: SettingWithCopyWarning: \n",
      "A value is trying to be set on a copy of a slice from a DataFrame.\n",
      "Try using .loc[row_indexer,col_indexer] = value instead\n",
      "\n",
      "See the caveats in the documentation: http://pandas.pydata.org/pandas-docs/stable/indexing.html#indexing-view-versus-copy\n",
      "  \"\"\"Entry point for launching an IPython kernel.\n",
      "/opt/conda/lib/python3.6/site-packages/ipykernel_launcher.py:3: SettingWithCopyWarning: \n",
      "A value is trying to be set on a copy of a slice from a DataFrame.\n",
      "Try using .loc[row_indexer,col_indexer] = value instead\n",
      "\n",
      "See the caveats in the documentation: http://pandas.pydata.org/pandas-docs/stable/indexing.html#indexing-view-versus-copy\n",
      "  This is separate from the ipykernel package so we can avoid doing imports until\n"
     ]
    }
   ],
   "source": [
    "shots['prediction'] = model.predict_proba(X)[:, 1]\n",
    "shots['prediction'].dtypes\n",
    "shots['difference'] = shots['prediction'] - shots['is_goal']"
   ]
  },
  {
   "cell_type": "markdown",
   "metadata": {},
   "source": [
    "## 3.a) Which players are the best finishers?"
   ]
  },
  {
   "cell_type": "markdown",
   "metadata": {},
   "source": [
    "By looking at the difference between a player's number of goals and his number of expected goals, we can see who are the best at finishing plays. We can approach this problem from two different points of view:\n",
    "\n",
    "1- Look at the difference between total goals scored and total expected goals: This will tell us which player scored the highest number of goals compared to what he was expected to score.\n",
    "\n",
    "2- Look at the ratio between total goals scored and total expected goals: This will tell us precisely the relation of how many goals the player actually scores for each goal he was supposed to score. "
   ]
  },
  {
   "cell_type": "code",
   "execution_count": 45,
   "metadata": {
    "execution": {
     "iopub.execute_input": "2021-11-29T18:31:14.096033Z",
     "iopub.status.busy": "2021-11-29T18:31:14.095498Z",
     "iopub.status.idle": "2021-11-29T18:31:14.375915Z",
     "shell.execute_reply": "2021-11-29T18:31:14.374615Z",
     "shell.execute_reply.started": "2021-11-29T18:31:14.095988Z"
    }
   },
   "outputs": [],
   "source": [
    "players = shots.groupby('player').sum().reset_index()\n",
    "players.rename(columns={'is_goal': 'trueGoals', 'prediction': 'expectedGoals'}, inplace=True)\n",
    "players.expectedGoals = round(players.expectedGoals,2)\n",
    "players.difference = round(players.difference,2)\n",
    "players['ratio'] = players['trueGoals'] / players['expectedGoals']"
   ]
  },
  {
   "cell_type": "code",
   "execution_count": 46,
   "metadata": {
    "execution": {
     "iopub.execute_input": "2021-11-29T18:31:17.552522Z",
     "iopub.status.busy": "2021-11-29T18:31:17.551951Z",
     "iopub.status.idle": "2021-11-29T18:31:17.561274Z",
     "shell.execute_reply": "2021-11-29T18:31:17.560366Z",
     "shell.execute_reply.started": "2021-11-29T18:31:17.552468Z"
    }
   },
   "outputs": [
    {
     "name": "stdout",
     "output_type": "stream",
     "text": [
      "0.977\n"
     ]
    }
   ],
   "source": [
    "print(round(players.expectedGoals.corr(players.trueGoals),3))"
   ]
  },
  {
   "cell_type": "markdown",
   "metadata": {},
   "source": [
    "As mentioned above, we see that the correlation between *trueGoals* and *expectedGoals* is very high, which speaks well about our xG model."
   ]
  },
  {
   "cell_type": "markdown",
   "metadata": {},
   "source": [
    "### Best Finishers"
   ]
  },
  {
   "cell_type": "code",
   "execution_count": 47,
   "metadata": {
    "execution": {
     "iopub.execute_input": "2021-11-29T18:31:26.704615Z",
     "iopub.status.busy": "2021-11-29T18:31:26.704194Z",
     "iopub.status.idle": "2021-11-29T18:31:26.729434Z",
     "shell.execute_reply": "2021-11-29T18:31:26.727318Z",
     "shell.execute_reply.started": "2021-11-29T18:31:26.70458Z"
    }
   },
   "outputs": [
    {
     "data": {
      "text/html": [
       "<div>\n",
       "<style scoped>\n",
       "    .dataframe tbody tr th:only-of-type {\n",
       "        vertical-align: middle;\n",
       "    }\n",
       "\n",
       "    .dataframe tbody tr th {\n",
       "        vertical-align: top;\n",
       "    }\n",
       "\n",
       "    .dataframe thead th {\n",
       "        text-align: right;\n",
       "    }\n",
       "</style>\n",
       "<table border=\"1\" class=\"dataframe\">\n",
       "  <thead>\n",
       "    <tr style=\"text-align: right;\">\n",
       "      <th></th>\n",
       "      <th>rank</th>\n",
       "      <th>player</th>\n",
       "      <th>difference</th>\n",
       "      <th>trueGoals</th>\n",
       "      <th>expectedGoals</th>\n",
       "    </tr>\n",
       "  </thead>\n",
       "  <tbody>\n",
       "    <tr>\n",
       "      <th>0</th>\n",
       "      <td>1</td>\n",
       "      <td>Lionel Messi</td>\n",
       "      <td>-58.82</td>\n",
       "      <td>205</td>\n",
       "      <td>146.18</td>\n",
       "    </tr>\n",
       "    <tr>\n",
       "      <th>1</th>\n",
       "      <td>2</td>\n",
       "      <td>Zlatan Ibrahimovic</td>\n",
       "      <td>-33.65</td>\n",
       "      <td>153</td>\n",
       "      <td>119.35</td>\n",
       "    </tr>\n",
       "    <tr>\n",
       "      <th>2</th>\n",
       "      <td>3</td>\n",
       "      <td>Cristiano Ronaldo</td>\n",
       "      <td>-32.24</td>\n",
       "      <td>198</td>\n",
       "      <td>165.76</td>\n",
       "    </tr>\n",
       "    <tr>\n",
       "      <th>3</th>\n",
       "      <td>4</td>\n",
       "      <td>Gonzalo Higuain</td>\n",
       "      <td>-31.73</td>\n",
       "      <td>118</td>\n",
       "      <td>86.27</td>\n",
       "    </tr>\n",
       "    <tr>\n",
       "      <th>4</th>\n",
       "      <td>5</td>\n",
       "      <td>Luis Suarez</td>\n",
       "      <td>-31.62</td>\n",
       "      <td>96</td>\n",
       "      <td>64.38</td>\n",
       "    </tr>\n",
       "  </tbody>\n",
       "</table>\n",
       "</div>"
      ],
      "text/plain": [
       "   rank              player  difference  trueGoals  expectedGoals\n",
       "0     1        Lionel Messi      -58.82        205         146.18\n",
       "1     2  Zlatan Ibrahimovic      -33.65        153         119.35\n",
       "2     3   Cristiano Ronaldo      -32.24        198         165.76\n",
       "3     4     Gonzalo Higuain      -31.73        118          86.27\n",
       "4     5         Luis Suarez      -31.62         96          64.38"
      ]
     },
     "execution_count": 47,
     "metadata": {},
     "output_type": "execute_result"
    }
   ],
   "source": [
    "show = players.sort_values(['difference', 'trueGoals']).reset_index(drop=True)\n",
    "show['rank'] = show.index+1\n",
    "show = show[['rank', 'player', 'difference', 'trueGoals', 'expectedGoals']].head(10)\n",
    "show.head(5)"
   ]
  },
  {
   "cell_type": "code",
   "execution_count": 48,
   "metadata": {
    "execution": {
     "iopub.execute_input": "2021-11-29T18:31:34.101521Z",
     "iopub.status.busy": "2021-11-29T18:31:34.100749Z",
     "iopub.status.idle": "2021-11-29T18:31:34.447994Z",
     "shell.execute_reply": "2021-11-29T18:31:34.447312Z",
     "shell.execute_reply.started": "2021-11-29T18:31:34.100968Z"
    }
   },
   "outputs": [
    {
     "data": {
      "image/png": "[encoded data removed]",
      "text/plain": [
       "<Figure size 864x360 with 1 Axes>"
      ]
     },
     "metadata": {},
     "output_type": "display_data"
    }
   ],
   "source": [
    "sns.set_style(\"dark\")\n",
    "fig, ax = plt.subplots(figsize=[12,5])\n",
    "ax = sns.barplot(x=abs(show['difference']), y=show['player'], palette='viridis', alpha=0.9)\n",
    "ax.set_xticks(np.arange(0,65,5))\n",
    "ax.set_xlabel(xlabel='Diff. between Goals Scored and Goals Expected', fontsize=12)\n",
    "ax.set_ylabel(ylabel='')\n",
    "ax.set_yticklabels(labels=ax.get_yticklabels(), fontsize=12)\n",
    "plt.title(\"Best Finishers: most goals on top of expected\", fontsize=20, fontfamily='serif')\n",
    "ax.grid(color='black', linestyle='-', linewidth=0.1, alpha=0.8, axis='x')\n",
    "plt.show()"
   ]
  },
  {
   "cell_type": "markdown",
   "metadata": {},
   "source": [
    "Not surprisingly, we can see that **Messi** is much better than everyone else on this metric. According to the number and characteristics of all shoots he's taken, he was expected to score 146 goals, but instead he has scored 205. As expected, what we find among the top of the list are all world-class famous players.\n",
    "\n",
    "Remember that we are looking at absolute values here, that is, total goals. Let's see what happens when we look instead at the goalsScored / expectedGoals ratio. We'll keep only players who scored more than 30 goals in total (the data covers an 8-years span, so 30 goals is not much)."
   ]
  },
  {
   "cell_type": "code",
   "execution_count": 49,
   "metadata": {
    "execution": {
     "iopub.execute_input": "2021-11-29T18:32:16.58919Z",
     "iopub.status.busy": "2021-11-29T18:32:16.588614Z",
     "iopub.status.idle": "2021-11-29T18:32:16.60596Z",
     "shell.execute_reply": "2021-11-29T18:32:16.605458Z",
     "shell.execute_reply.started": "2021-11-29T18:32:16.588851Z"
    }
   },
   "outputs": [
    {
     "data": {
      "text/html": [
       "<div>\n",
       "<style scoped>\n",
       "    .dataframe tbody tr th:only-of-type {\n",
       "        vertical-align: middle;\n",
       "    }\n",
       "\n",
       "    .dataframe tbody tr th {\n",
       "        vertical-align: top;\n",
       "    }\n",
       "\n",
       "    .dataframe thead th {\n",
       "        text-align: right;\n",
       "    }\n",
       "</style>\n",
       "<table border=\"1\" class=\"dataframe\">\n",
       "  <thead>\n",
       "    <tr style=\"text-align: right;\">\n",
       "      <th></th>\n",
       "      <th>rank</th>\n",
       "      <th>player</th>\n",
       "      <th>ratio</th>\n",
       "      <th>trueGoals</th>\n",
       "      <th>expectedGoals</th>\n",
       "    </tr>\n",
       "  </thead>\n",
       "  <tbody>\n",
       "    <tr>\n",
       "      <th>0</th>\n",
       "      <td>1</td>\n",
       "      <td>Franck Ribery</td>\n",
       "      <td>1.898434</td>\n",
       "      <td>40</td>\n",
       "      <td>21.07</td>\n",
       "    </tr>\n",
       "    <tr>\n",
       "      <th>1</th>\n",
       "      <td>2</td>\n",
       "      <td>Mario Gotze</td>\n",
       "      <td>1.585941</td>\n",
       "      <td>37</td>\n",
       "      <td>23.33</td>\n",
       "    </tr>\n",
       "    <tr>\n",
       "      <th>2</th>\n",
       "      <td>3</td>\n",
       "      <td>Bas Dost</td>\n",
       "      <td>1.545728</td>\n",
       "      <td>36</td>\n",
       "      <td>23.29</td>\n",
       "    </tr>\n",
       "    <tr>\n",
       "      <th>3</th>\n",
       "      <td>4</td>\n",
       "      <td>Heungmin Son</td>\n",
       "      <td>1.518027</td>\n",
       "      <td>32</td>\n",
       "      <td>21.08</td>\n",
       "    </tr>\n",
       "    <tr>\n",
       "      <th>4</th>\n",
       "      <td>5</td>\n",
       "      <td>Carlos Tevez</td>\n",
       "      <td>1.493109</td>\n",
       "      <td>39</td>\n",
       "      <td>26.12</td>\n",
       "    </tr>\n",
       "  </tbody>\n",
       "</table>\n",
       "</div>"
      ],
      "text/plain": [
       "   rank         player     ratio  trueGoals  expectedGoals\n",
       "0     1  Franck Ribery  1.898434         40          21.07\n",
       "1     2    Mario Gotze  1.585941         37          23.33\n",
       "2     3       Bas Dost  1.545728         36          23.29\n",
       "3     4   Heungmin Son  1.518027         32          21.08\n",
       "4     5   Carlos Tevez  1.493109         39          26.12"
      ]
     },
     "execution_count": 49,
     "metadata": {},
     "output_type": "execute_result"
    }
   ],
   "source": [
    "show = players[players['trueGoals']>30].sort_values(['ratio', 'trueGoals'], ascending=False).reset_index(drop=True)\n",
    "show['rank'] = show.index+1\n",
    "show = show[['rank', 'player', 'ratio', 'trueGoals', 'expectedGoals']].head(10)\n",
    "show.head(5)\n"
   ]
  },
  {
   "cell_type": "code",
   "execution_count": 50,
   "metadata": {
    "execution": {
     "iopub.execute_input": "2021-11-29T18:32:24.762079Z",
     "iopub.status.busy": "2021-11-29T18:32:24.761486Z",
     "iopub.status.idle": "2021-11-29T18:32:25.05229Z",
     "shell.execute_reply": "2021-11-29T18:32:25.05169Z",
     "shell.execute_reply.started": "2021-11-29T18:32:24.762023Z"
    }
   },
   "outputs": [
    {
     "data": {
      "image/png": "[encoded data removed]",
      "text/plain": [
       "<Figure size 864x360 with 1 Axes>"
      ]
     },
     "metadata": {},
     "output_type": "display_data"
    }
   ],
   "source": [
    "sns.set_style(\"dark\")\n",
    "fig, ax = plt.subplots(figsize=[12,5])\n",
    "ax = sns.barplot(x=show['ratio'], y=show['player'], palette='viridis', alpha=0.9)\n",
    "ax.set_xticks(np.arange(0,1.9,0.2))\n",
    "ax.set_xlabel(xlabel='Goals Scored per one XGoal', fontsize=12)\n",
    "ax.set_ylabel(ylabel='')\n",
    "ax.set_yticklabels(labels=ax.get_yticklabels(), fontsize=12)\n",
    "plt.title(\"Best Finishers: goals/xGoals\", fontsize=22, fontfamily='serif')\n",
    "ax.grid(color='black', linestyle='-', linewidth=0.1, axis='x')\n",
    "plt.show()"
   ]
  },
  {
   "cell_type": "markdown",
   "metadata": {},
   "source": [
    "We find **Ribery** at the most prolific finisher in the game. One nice thing about this metric is that it is very easy to interpret. It corresponds to the proportion of goals that the player scored as compared to how many he would have scored if he executed his shots like the average player. In this case of **Ribery**, from each goal he was supposed to score according of the number and context of his shots, he scored almost two."
   ]
  },
  {
   "cell_type": "markdown",
   "metadata": {},
   "source": [
    "### Best Finishers per Year per League"
   ]
  },
  {
   "cell_type": "markdown",
   "metadata": {},
   "source": [
    "Another interesting analysis is to repeat this last exercise for every year. So who was the best finisher of each calendar year in our data?"
   ]
  },
  {
   "cell_type": "code",
   "execution_count": 51,
   "metadata": {
    "execution": {
     "iopub.execute_input": "2021-11-29T18:32:39.873308Z",
     "iopub.status.busy": "2021-11-29T18:32:39.87289Z",
     "iopub.status.idle": "2021-11-29T18:32:40.173686Z",
     "shell.execute_reply": "2021-11-29T18:32:40.172827Z",
     "shell.execute_reply.started": "2021-11-29T18:32:39.873259Z"
    }
   },
   "outputs": [],
   "source": [
    "players_per_year = shots.groupby(['year', 'country', 'player']).sum().reset_index()\n",
    "players_per_year.rename(columns={'is_goal': 'trueGoals', 'prediction': 'expectedGoals'}, inplace=True)\n",
    "players_per_year.expectedGoals = round(players_per_year.expectedGoals,2)\n",
    "players_per_year.difference = round(players_per_year.difference,2)\n",
    "players_per_year['ratio'] = players_per_year['trueGoals'] / players_per_year['expectedGoals']\n",
    "players_per_year['ratio'] = round(players_per_year.ratio, 2)"
   ]
  },
  {
   "cell_type": "code",
   "execution_count": 52,
   "metadata": {
    "execution": {
     "iopub.execute_input": "2021-11-29T18:32:45.518817Z",
     "iopub.status.busy": "2021-11-29T18:32:45.518346Z",
     "iopub.status.idle": "2021-11-29T18:32:45.525793Z",
     "shell.execute_reply": "2021-11-29T18:32:45.524897Z",
     "shell.execute_reply.started": "2021-11-29T18:32:45.518618Z"
    }
   },
   "outputs": [],
   "source": [
    "def best_finishers_per_year(years, leagues, min_goals, df):\n",
    "    years_res=[]; leagues_res=[]; players_res=[]; ratio_res=[]; goals=[]\n",
    "    players_per_year = df[df['trueGoals']>min_goals]\n",
    "    for league in leagues:\n",
    "        for year in years:\n",
    "            results = players_per_year[(players_per_year['year']==year) & (players_per_year['country']==league)].sort_values(by='ratio', ascending=False).reset_index(drop=True)\n",
    "            results['rank'] = results.index + 1\n",
    "            if len(results)>0:\n",
    "                years_res.append(year)\n",
    "                leagues_res.append(league)\n",
    "                players_res.append(results[results['rank']==1]['player'].iloc[0])\n",
    "                ratio_res.append(results[results['rank']==1]['ratio'].iloc[0])\n",
    "                goals.append(results[results['rank']==1]['trueGoals'].iloc[0])\n",
    "    return years_res, leagues_res, players_res, ratio_res, goals"
   ]
  },
  {
   "cell_type": "code",
   "execution_count": 53,
   "metadata": {
    "execution": {
     "iopub.execute_input": "2021-11-29T18:32:51.678192Z",
     "iopub.status.busy": "2021-11-29T18:32:51.677874Z",
     "iopub.status.idle": "2021-11-29T18:32:51.857114Z",
     "shell.execute_reply": "2021-11-29T18:32:51.855475Z",
     "shell.execute_reply.started": "2021-11-29T18:32:51.678149Z"
    }
   },
   "outputs": [],
   "source": [
    "years, leagues, players_res, ratio, goals = best_finishers_per_year(years = players_per_year.year.unique(), leagues=players_per_year.country.unique(),\\\n",
    "                       min_goals=12, df=players_per_year)"
   ]
  },
  {
   "cell_type": "code",
   "execution_count": 54,
   "metadata": {
    "execution": {
     "iopub.execute_input": "2021-11-29T18:32:53.591775Z",
     "iopub.status.busy": "2021-11-29T18:32:53.591494Z",
     "iopub.status.idle": "2021-11-29T18:32:53.61183Z",
     "shell.execute_reply": "2021-11-29T18:32:53.610794Z",
     "shell.execute_reply.started": "2021-11-29T18:32:53.591713Z"
    }
   },
   "outputs": [
    {
     "data": {
      "text/html": [
       "<div>\n",
       "<style scoped>\n",
       "    .dataframe tbody tr th:only-of-type {\n",
       "        vertical-align: middle;\n",
       "    }\n",
       "\n",
       "    .dataframe tbody tr th {\n",
       "        vertical-align: top;\n",
       "    }\n",
       "\n",
       "    .dataframe thead th {\n",
       "        text-align: right;\n",
       "    }\n",
       "</style>\n",
       "<table border=\"1\" class=\"dataframe\">\n",
       "  <thead>\n",
       "    <tr style=\"text-align: right;\">\n",
       "      <th></th>\n",
       "      <th>League</th>\n",
       "      <th>Year</th>\n",
       "      <th>bestFinisher</th>\n",
       "      <th>Goals</th>\n",
       "      <th>Goals/xGoals Ratio</th>\n",
       "    </tr>\n",
       "  </thead>\n",
       "  <tbody>\n",
       "    <tr>\n",
       "      <th>0</th>\n",
       "      <td>France</td>\n",
       "      <td>2011</td>\n",
       "      <td>Olivier Giroud</td>\n",
       "      <td>13</td>\n",
       "      <td>1.24</td>\n",
       "    </tr>\n",
       "    <tr>\n",
       "      <th>1</th>\n",
       "      <td>France</td>\n",
       "      <td>2012</td>\n",
       "      <td>Zlatan Ibrahimovic</td>\n",
       "      <td>18</td>\n",
       "      <td>1.47</td>\n",
       "    </tr>\n",
       "    <tr>\n",
       "      <th>2</th>\n",
       "      <td>France</td>\n",
       "      <td>2013</td>\n",
       "      <td>Dario Cvitanich</td>\n",
       "      <td>16</td>\n",
       "      <td>1.70</td>\n",
       "    </tr>\n",
       "    <tr>\n",
       "      <th>3</th>\n",
       "      <td>France</td>\n",
       "      <td>2014</td>\n",
       "      <td>Cheick Diabate</td>\n",
       "      <td>13</td>\n",
       "      <td>1.61</td>\n",
       "    </tr>\n",
       "    <tr>\n",
       "      <th>4</th>\n",
       "      <td>France</td>\n",
       "      <td>2015</td>\n",
       "      <td>Benjamin Moukandjo</td>\n",
       "      <td>13</td>\n",
       "      <td>1.68</td>\n",
       "    </tr>\n",
       "    <tr>\n",
       "      <th>5</th>\n",
       "      <td>France</td>\n",
       "      <td>2016</td>\n",
       "      <td>Zlatan Ibrahimovic</td>\n",
       "      <td>21</td>\n",
       "      <td>2.26</td>\n",
       "    </tr>\n",
       "    <tr>\n",
       "      <th>6</th>\n",
       "      <td>Germany</td>\n",
       "      <td>2011</td>\n",
       "      <td>Klaasjan Huntelaar</td>\n",
       "      <td>15</td>\n",
       "      <td>1.83</td>\n",
       "    </tr>\n",
       "    <tr>\n",
       "      <th>7</th>\n",
       "      <td>Germany</td>\n",
       "      <td>2012</td>\n",
       "      <td>Martin Harnik</td>\n",
       "      <td>15</td>\n",
       "      <td>1.78</td>\n",
       "    </tr>\n",
       "    <tr>\n",
       "      <th>8</th>\n",
       "      <td>Germany</td>\n",
       "      <td>2013</td>\n",
       "      <td>Ivica Olic</td>\n",
       "      <td>13</td>\n",
       "      <td>2.22</td>\n",
       "    </tr>\n",
       "    <tr>\n",
       "      <th>9</th>\n",
       "      <td>Germany</td>\n",
       "      <td>2014</td>\n",
       "      <td>Josip Drmic</td>\n",
       "      <td>14</td>\n",
       "      <td>2.03</td>\n",
       "    </tr>\n",
       "    <tr>\n",
       "      <th>10</th>\n",
       "      <td>Germany</td>\n",
       "      <td>2015</td>\n",
       "      <td>Raffael</td>\n",
       "      <td>15</td>\n",
       "      <td>1.80</td>\n",
       "    </tr>\n",
       "    <tr>\n",
       "      <th>11</th>\n",
       "      <td>Germany</td>\n",
       "      <td>2016</td>\n",
       "      <td>Pierreemerick Aubameyang</td>\n",
       "      <td>23</td>\n",
       "      <td>1.34</td>\n",
       "    </tr>\n",
       "    <tr>\n",
       "      <th>12</th>\n",
       "      <td>Italy</td>\n",
       "      <td>2012</td>\n",
       "      <td>Miroslav Klose</td>\n",
       "      <td>14</td>\n",
       "      <td>2.02</td>\n",
       "    </tr>\n",
       "    <tr>\n",
       "      <th>13</th>\n",
       "      <td>Italy</td>\n",
       "      <td>2013</td>\n",
       "      <td>Luis Muriel</td>\n",
       "      <td>13</td>\n",
       "      <td>1.62</td>\n",
       "    </tr>\n",
       "    <tr>\n",
       "      <th>14</th>\n",
       "      <td>Italy</td>\n",
       "      <td>2014</td>\n",
       "      <td>Ciro Immobile</td>\n",
       "      <td>14</td>\n",
       "      <td>1.76</td>\n",
       "    </tr>\n",
       "    <tr>\n",
       "      <th>15</th>\n",
       "      <td>Italy</td>\n",
       "      <td>2015</td>\n",
       "      <td>Massimo Maccarone</td>\n",
       "      <td>15</td>\n",
       "      <td>1.80</td>\n",
       "    </tr>\n",
       "    <tr>\n",
       "      <th>16</th>\n",
       "      <td>Italy</td>\n",
       "      <td>2016</td>\n",
       "      <td>Dries Mertens</td>\n",
       "      <td>15</td>\n",
       "      <td>1.78</td>\n",
       "    </tr>\n",
       "    <tr>\n",
       "      <th>17</th>\n",
       "      <td>Spain</td>\n",
       "      <td>2011</td>\n",
       "      <td>Lionel Messi</td>\n",
       "      <td>17</td>\n",
       "      <td>1.54</td>\n",
       "    </tr>\n",
       "    <tr>\n",
       "      <th>18</th>\n",
       "      <td>Spain</td>\n",
       "      <td>2012</td>\n",
       "      <td>Lionel Messi</td>\n",
       "      <td>59</td>\n",
       "      <td>1.59</td>\n",
       "    </tr>\n",
       "    <tr>\n",
       "      <th>19</th>\n",
       "      <td>Spain</td>\n",
       "      <td>2013</td>\n",
       "      <td>Pedro</td>\n",
       "      <td>16</td>\n",
       "      <td>2.00</td>\n",
       "    </tr>\n",
       "    <tr>\n",
       "      <th>20</th>\n",
       "      <td>Spain</td>\n",
       "      <td>2014</td>\n",
       "      <td>Cristiano Ronaldo</td>\n",
       "      <td>34</td>\n",
       "      <td>1.59</td>\n",
       "    </tr>\n",
       "    <tr>\n",
       "      <th>21</th>\n",
       "      <td>Spain</td>\n",
       "      <td>2015</td>\n",
       "      <td>Antoine Griezmann</td>\n",
       "      <td>25</td>\n",
       "      <td>1.76</td>\n",
       "    </tr>\n",
       "    <tr>\n",
       "      <th>22</th>\n",
       "      <td>Spain</td>\n",
       "      <td>2016</td>\n",
       "      <td>Gareth Bale</td>\n",
       "      <td>16</td>\n",
       "      <td>1.81</td>\n",
       "    </tr>\n",
       "    <tr>\n",
       "      <th>23</th>\n",
       "      <td>England</td>\n",
       "      <td>2013</td>\n",
       "      <td>Luis Suarez</td>\n",
       "      <td>16</td>\n",
       "      <td>1.63</td>\n",
       "    </tr>\n",
       "    <tr>\n",
       "      <th>24</th>\n",
       "      <td>England</td>\n",
       "      <td>2014</td>\n",
       "      <td>Christian Eriksen</td>\n",
       "      <td>13</td>\n",
       "      <td>1.86</td>\n",
       "    </tr>\n",
       "    <tr>\n",
       "      <th>25</th>\n",
       "      <td>England</td>\n",
       "      <td>2015</td>\n",
       "      <td>Odion Ighalo</td>\n",
       "      <td>14</td>\n",
       "      <td>1.73</td>\n",
       "    </tr>\n",
       "    <tr>\n",
       "      <th>26</th>\n",
       "      <td>England</td>\n",
       "      <td>2016</td>\n",
       "      <td>Eden Hazard</td>\n",
       "      <td>13</td>\n",
       "      <td>1.77</td>\n",
       "    </tr>\n",
       "  </tbody>\n",
       "</table>\n",
       "</div>"
      ],
      "text/plain": [
       "     League  Year              bestFinisher  Goals  Goals/xGoals Ratio\n",
       "0    France  2011            Olivier Giroud     13                1.24\n",
       "1    France  2012        Zlatan Ibrahimovic     18                1.47\n",
       "2    France  2013           Dario Cvitanich     16                1.70\n",
       "3    France  2014            Cheick Diabate     13                1.61\n",
       "4    France  2015        Benjamin Moukandjo     13                1.68\n",
       "5    France  2016        Zlatan Ibrahimovic     21                2.26\n",
       "6   Germany  2011        Klaasjan Huntelaar     15                1.83\n",
       "7   Germany  2012             Martin Harnik     15                1.78\n",
       "8   Germany  2013                Ivica Olic     13                2.22\n",
       "9   Germany  2014               Josip Drmic     14                2.03\n",
       "10  Germany  2015                   Raffael     15                1.80\n",
       "11  Germany  2016  Pierreemerick Aubameyang     23                1.34\n",
       "12    Italy  2012            Miroslav Klose     14                2.02\n",
       "13    Italy  2013               Luis Muriel     13                1.62\n",
       "14    Italy  2014             Ciro Immobile     14                1.76\n",
       "15    Italy  2015         Massimo Maccarone     15                1.80\n",
       "16    Italy  2016             Dries Mertens     15                1.78\n",
       "17    Spain  2011              Lionel Messi     17                1.54\n",
       "18    Spain  2012              Lionel Messi     59                1.59\n",
       "19    Spain  2013                     Pedro     16                2.00\n",
       "20    Spain  2014         Cristiano Ronaldo     34                1.59\n",
       "21    Spain  2015         Antoine Griezmann     25                1.76\n",
       "22    Spain  2016               Gareth Bale     16                1.81\n",
       "23  England  2013               Luis Suarez     16                1.63\n",
       "24  England  2014         Christian Eriksen     13                1.86\n",
       "25  England  2015              Odion Ighalo     14                1.73\n",
       "26  England  2016               Eden Hazard     13                1.77"
      ]
     },
     "execution_count": 54,
     "metadata": {},
     "output_type": "execute_result"
    }
   ],
   "source": [
    "results_perYear = pd.DataFrame()\n",
    "results_perYear['League']=leagues\n",
    "results_perYear['Year']=years\n",
    "results_perYear['bestFinisher']=players_res\n",
    "results_perYear['Goals']=goals\n",
    "results_perYear['Goals/xGoals Ratio']=ratio\n",
    "results_perYear"
   ]
  },
  {
   "cell_type": "markdown",
   "metadata": {},
   "source": [
    "### Worst finishers\n",
    "Now let's see what happens at the other end of the spectrum"
   ]
  },
  {
   "cell_type": "code",
   "execution_count": 55,
   "metadata": {
    "execution": {
     "iopub.execute_input": "2021-11-29T18:33:27.959972Z",
     "iopub.status.busy": "2021-11-29T18:33:27.959671Z",
     "iopub.status.idle": "2021-11-29T18:33:27.979835Z",
     "shell.execute_reply": "2021-11-29T18:33:27.978548Z",
     "shell.execute_reply.started": "2021-11-29T18:33:27.959923Z"
    }
   },
   "outputs": [
    {
     "data": {
      "text/html": [
       "<div>\n",
       "<style scoped>\n",
       "    .dataframe tbody tr th:only-of-type {\n",
       "        vertical-align: middle;\n",
       "    }\n",
       "\n",
       "    .dataframe tbody tr th {\n",
       "        vertical-align: top;\n",
       "    }\n",
       "\n",
       "    .dataframe thead th {\n",
       "        text-align: right;\n",
       "    }\n",
       "</style>\n",
       "<table border=\"1\" class=\"dataframe\">\n",
       "  <thead>\n",
       "    <tr style=\"text-align: right;\">\n",
       "      <th></th>\n",
       "      <th>rank</th>\n",
       "      <th>player</th>\n",
       "      <th>difference</th>\n",
       "      <th>trueGoals</th>\n",
       "      <th>expectedGoals</th>\n",
       "    </tr>\n",
       "  </thead>\n",
       "  <tbody>\n",
       "    <tr>\n",
       "      <th>4787</th>\n",
       "      <td>4788</td>\n",
       "      <td>Amauri</td>\n",
       "      <td>11.99</td>\n",
       "      <td>20</td>\n",
       "      <td>31.99</td>\n",
       "    </tr>\n",
       "    <tr>\n",
       "      <th>4788</th>\n",
       "      <td>4789</td>\n",
       "      <td>Jesus Navas</td>\n",
       "      <td>14.55</td>\n",
       "      <td>9</td>\n",
       "      <td>23.55</td>\n",
       "    </tr>\n",
       "  </tbody>\n",
       "</table>\n",
       "</div>"
      ],
      "text/plain": [
       "      rank       player  difference  trueGoals  expectedGoals\n",
       "4787  4788       Amauri       11.99         20          31.99\n",
       "4788  4789  Jesus Navas       14.55          9          23.55"
      ]
     },
     "execution_count": 55,
     "metadata": {},
     "output_type": "execute_result"
    }
   ],
   "source": [
    "show = players.sort_values(['difference', 'trueGoals']).reset_index(drop=True)\n",
    "show['rank'] = show.index+1\n",
    "show = show[['rank', 'player', 'difference', 'trueGoals', 'expectedGoals']].tail(10)\n",
    "show.tail(2)"
   ]
  },
  {
   "cell_type": "code",
   "execution_count": 56,
   "metadata": {
    "execution": {
     "iopub.execute_input": "2021-11-29T18:33:36.611384Z",
     "iopub.status.busy": "2021-11-29T18:33:36.611113Z",
     "iopub.status.idle": "2021-11-29T18:33:36.634292Z",
     "shell.execute_reply": "2021-11-29T18:33:36.633547Z",
     "shell.execute_reply.started": "2021-11-29T18:33:36.611347Z"
    }
   },
   "outputs": [
    {
     "data": {
      "text/html": [
       "<div>\n",
       "<style scoped>\n",
       "    .dataframe tbody tr th:only-of-type {\n",
       "        vertical-align: middle;\n",
       "    }\n",
       "\n",
       "    .dataframe tbody tr th {\n",
       "        vertical-align: top;\n",
       "    }\n",
       "\n",
       "    .dataframe thead th {\n",
       "        text-align: right;\n",
       "    }\n",
       "</style>\n",
       "<table border=\"1\" class=\"dataframe\">\n",
       "  <thead>\n",
       "    <tr style=\"text-align: right;\">\n",
       "      <th></th>\n",
       "      <th>rank</th>\n",
       "      <th>player</th>\n",
       "      <th>ratio</th>\n",
       "      <th>trueGoals</th>\n",
       "      <th>expectedGoals</th>\n",
       "    </tr>\n",
       "  </thead>\n",
       "  <tbody>\n",
       "    <tr>\n",
       "      <th>140</th>\n",
       "      <td>141</td>\n",
       "      <td>Giampaolo Pazzini</td>\n",
       "      <td>0.781447</td>\n",
       "      <td>31</td>\n",
       "      <td>39.67</td>\n",
       "    </tr>\n",
       "    <tr>\n",
       "      <th>139</th>\n",
       "      <td>140</td>\n",
       "      <td>Mario Balotelli</td>\n",
       "      <td>0.811359</td>\n",
       "      <td>36</td>\n",
       "      <td>44.37</td>\n",
       "    </tr>\n",
       "    <tr>\n",
       "      <th>138</th>\n",
       "      <td>139</td>\n",
       "      <td>Gonzalo Bergessio</td>\n",
       "      <td>0.844687</td>\n",
       "      <td>31</td>\n",
       "      <td>36.70</td>\n",
       "    </tr>\n",
       "  </tbody>\n",
       "</table>\n",
       "</div>"
      ],
      "text/plain": [
       "     rank             player     ratio  trueGoals  expectedGoals\n",
       "140   141  Giampaolo Pazzini  0.781447         31          39.67\n",
       "139   140    Mario Balotelli  0.811359         36          44.37\n",
       "138   139  Gonzalo Bergessio  0.844687         31          36.70"
      ]
     },
     "execution_count": 56,
     "metadata": {},
     "output_type": "execute_result"
    }
   ],
   "source": [
    "show = players[players['trueGoals']>30].sort_values(['ratio', 'trueGoals'], ascending=False).reset_index(drop=True)\n",
    "show['rank'] = show.index+1\n",
    "show = show.sort_values(by='rank', ascending=False)\n",
    "show = show[['rank', 'player', 'ratio', 'trueGoals', 'expectedGoals']].head(10)\n",
    "show.head(3)"
   ]
  },
  {
   "cell_type": "code",
   "execution_count": 57,
   "metadata": {
    "execution": {
     "iopub.execute_input": "2021-11-29T18:33:43.546694Z",
     "iopub.status.busy": "2021-11-29T18:33:43.546297Z",
     "iopub.status.idle": "2021-11-29T18:33:43.829884Z",
     "shell.execute_reply": "2021-11-29T18:33:43.829321Z",
     "shell.execute_reply.started": "2021-11-29T18:33:43.546647Z"
    }
   },
   "outputs": [
    {
     "data": {
      "image/png": "[encoded data removed]",
      "text/plain": [
       "<Figure size 864x360 with 1 Axes>"
      ]
     },
     "metadata": {},
     "output_type": "display_data"
    }
   ],
   "source": [
    "sns.set_style(\"dark\")\n",
    "fig, ax = plt.subplots(figsize=[12,5])\n",
    "ax = sns.barplot(x=show['ratio'], y=show['player'], palette='viridis', alpha=0.9)\n",
    "ax.set_xticks(np.arange(0,1.9,0.2))\n",
    "ax.set_xlabel(xlabel='Goals Scored per one XGoal', fontsize=12)\n",
    "ax.set_ylabel(ylabel='')\n",
    "ax.set_yticklabels(labels=ax.get_yticklabels(), fontsize=12)\n",
    "plt.title(\"Worst Finishers: goals/xGoals\", fontsize=22, fontfamily='serif')\n",
    "ax.grid(color='black', linestyle='-', linewidth=0.1, axis='x')\n",
    "plt.show()"
   ]
  },
  {
   "cell_type": "markdown",
   "metadata": {},
   "source": [
    "We find players like **Mario Balotelli**, **Giampaolo Pazzini**, or **Edin Dzeko**, among others, who have scored much less goals that what they should have. **Giampaolo Pazzini** is actually on both lists (total absolute difference in goals and trueGoals/xGoals ratio). \n",
    "\n",
    "Looking at players with much fewer goals than expected goals is interesting. It kind of tells us that these players have missed too many chances and should improve their shooting. But it also means that they have been there creating many more scoring chances than what the most widespread stats (like *goals*) tell us. So, in that sense, they are underrated."
   ]
  },
  {
   "cell_type": "markdown",
   "metadata": {},
   "source": [
    "## 3.b) Which players have the most \"expected goals\"?"
   ]
  },
  {
   "cell_type": "markdown",
   "metadata": {},
   "source": [
    "For this we simply order our table by *expectedGoals*. It tell us which players should have scored the highest number of goals according to all the chances that they've had, as predicted by our model."
   ]
  },
  {
   "cell_type": "code",
   "execution_count": 58,
   "metadata": {
    "execution": {
     "iopub.execute_input": "2021-11-29T18:33:56.98167Z",
     "iopub.status.busy": "2021-11-29T18:33:56.981188Z",
     "iopub.status.idle": "2021-11-29T18:33:56.995987Z",
     "shell.execute_reply": "2021-11-29T18:33:56.994638Z",
     "shell.execute_reply.started": "2021-11-29T18:33:56.98161Z"
    }
   },
   "outputs": [
    {
     "data": {
      "text/html": [
       "<div>\n",
       "<style scoped>\n",
       "    .dataframe tbody tr th:only-of-type {\n",
       "        vertical-align: middle;\n",
       "    }\n",
       "\n",
       "    .dataframe tbody tr th {\n",
       "        vertical-align: top;\n",
       "    }\n",
       "\n",
       "    .dataframe thead th {\n",
       "        text-align: right;\n",
       "    }\n",
       "</style>\n",
       "<table border=\"1\" class=\"dataframe\">\n",
       "  <thead>\n",
       "    <tr style=\"text-align: right;\">\n",
       "      <th></th>\n",
       "      <th>player</th>\n",
       "      <th>trueGoals</th>\n",
       "      <th>expectedGoals</th>\n",
       "    </tr>\n",
       "  </thead>\n",
       "  <tbody>\n",
       "    <tr>\n",
       "      <th>945</th>\n",
       "      <td>Cristiano Ronaldo</td>\n",
       "      <td>198</td>\n",
       "      <td>165.76</td>\n",
       "    </tr>\n",
       "    <tr>\n",
       "      <th>2746</th>\n",
       "      <td>Lionel Messi</td>\n",
       "      <td>205</td>\n",
       "      <td>146.18</td>\n",
       "    </tr>\n",
       "    <tr>\n",
       "      <th>4781</th>\n",
       "      <td>Zlatan Ibrahimovic</td>\n",
       "      <td>153</td>\n",
       "      <td>119.35</td>\n",
       "    </tr>\n",
       "    <tr>\n",
       "      <th>1278</th>\n",
       "      <td>Edinson Cavani</td>\n",
       "      <td>121</td>\n",
       "      <td>113.97</td>\n",
       "    </tr>\n",
       "    <tr>\n",
       "      <th>3973</th>\n",
       "      <td>Robert Lewandowski</td>\n",
       "      <td>124</td>\n",
       "      <td>96.93</td>\n",
       "    </tr>\n",
       "  </tbody>\n",
       "</table>\n",
       "</div>"
      ],
      "text/plain": [
       "                  player  trueGoals  expectedGoals\n",
       "945    Cristiano Ronaldo        198         165.76\n",
       "2746        Lionel Messi        205         146.18\n",
       "4781  Zlatan Ibrahimovic        153         119.35\n",
       "1278      Edinson Cavani        121         113.97\n",
       "3973  Robert Lewandowski        124          96.93"
      ]
     },
     "execution_count": 58,
     "metadata": {},
     "output_type": "execute_result"
    }
   ],
   "source": [
    "show = players[['player', 'trueGoals', 'expectedGoals']].sort_values(['expectedGoals'], ascending=False).head(10)\n",
    "show.head(5)"
   ]
  },
  {
   "cell_type": "code",
   "execution_count": 59,
   "metadata": {
    "execution": {
     "iopub.execute_input": "2021-11-29T18:34:06.764475Z",
     "iopub.status.busy": "2021-11-29T18:34:06.764219Z",
     "iopub.status.idle": "2021-11-29T18:34:07.106662Z",
     "shell.execute_reply": "2021-11-29T18:34:07.105836Z",
     "shell.execute_reply.started": "2021-11-29T18:34:06.764443Z"
    }
   },
   "outputs": [
    {
     "data": {
      "image/png": "[encoded data removed]",
      "text/plain": [
       "<Figure size 864x360 with 1 Axes>"
      ]
     },
     "metadata": {},
     "output_type": "display_data"
    }
   ],
   "source": [
    "sns.set_style(\"dark\")\n",
    "fig, ax = plt.subplots(figsize=[12,5])\n",
    "ax = sns.barplot(x=show['expectedGoals'], y=show['player'], palette='viridis', alpha=0.9)\n",
    "ax.set_xticks(np.arange(0,180,10))\n",
    "ax.set_xlabel(xlabel='Total xGoals across all seasons', fontsize=12)\n",
    "ax.set_ylabel(ylabel='')\n",
    "ax.set_yticklabels(labels=ax.get_yticklabels(), fontsize=12)\n",
    "plt.title(\"Highest Values of Total XGoals\", fontsize=22, fontfamily='serif')\n",
    "ax.grid(color='black', linestyle='-', linewidth=0.1, axis='x')\n",
    "plt.show()"
   ]
  },
  {
   "cell_type": "markdown",
   "metadata": {},
   "source": [
    "## 3.c) Which players are the worst at deciding their shots?"
   ]
  },
  {
   "cell_type": "markdown",
   "metadata": {},
   "source": [
    "By studying the relationship between the players' total expected goals and the total number of shots they attempted, we can determine which players make the worst shooting decisions. That is, that they consistently tend to take shots that are not likely to end up as goals. We will only include players who have taken a minimum of 100 shots, as otherwise the results would be filled with players who attempted only 1 or 2 (very bad) shots in the entire 7-year period."
   ]
  },
  {
   "cell_type": "code",
   "execution_count": 60,
   "metadata": {
    "execution": {
     "iopub.execute_input": "2021-11-29T18:34:19.315288Z",
     "iopub.status.busy": "2021-11-29T18:34:19.314981Z",
     "iopub.status.idle": "2021-11-29T18:34:19.321702Z",
     "shell.execute_reply": "2021-11-29T18:34:19.319817Z",
     "shell.execute_reply.started": "2021-11-29T18:34:19.315241Z"
    }
   },
   "outputs": [],
   "source": [
    "# Because event_type is always one in our data, we can use it its sum as the total number of shots each player took.\n",
    "players.rename(columns={'event_type': 'n_shots'}, inplace=True)"
   ]
  },
  {
   "cell_type": "code",
   "execution_count": 61,
   "metadata": {
    "execution": {
     "iopub.execute_input": "2021-11-29T18:34:21.941796Z",
     "iopub.status.busy": "2021-11-29T18:34:21.941515Z",
     "iopub.status.idle": "2021-11-29T18:34:21.963824Z",
     "shell.execute_reply": "2021-11-29T18:34:21.962452Z",
     "shell.execute_reply.started": "2021-11-29T18:34:21.941752Z"
    }
   },
   "outputs": [
    {
     "data": {
      "text/html": [
       "<div>\n",
       "<style scoped>\n",
       "    .dataframe tbody tr th:only-of-type {\n",
       "        vertical-align: middle;\n",
       "    }\n",
       "\n",
       "    .dataframe tbody tr th {\n",
       "        vertical-align: top;\n",
       "    }\n",
       "\n",
       "    .dataframe thead th {\n",
       "        text-align: right;\n",
       "    }\n",
       "</style>\n",
       "<table border=\"1\" class=\"dataframe\">\n",
       "  <thead>\n",
       "    <tr style=\"text-align: right;\">\n",
       "      <th></th>\n",
       "      <th>rank</th>\n",
       "      <th>player</th>\n",
       "      <th>xG_per_shot_ratio</th>\n",
       "      <th>trueGoals</th>\n",
       "      <th>expectedGoals</th>\n",
       "      <th>difference</th>\n",
       "    </tr>\n",
       "  </thead>\n",
       "  <tbody>\n",
       "    <tr>\n",
       "      <th>669</th>\n",
       "      <td>670</td>\n",
       "      <td>Daniel Baier</td>\n",
       "      <td>0.042373</td>\n",
       "      <td>5</td>\n",
       "      <td>7.50</td>\n",
       "      <td>2.50</td>\n",
       "    </tr>\n",
       "    <tr>\n",
       "      <th>670</th>\n",
       "      <td>671</td>\n",
       "      <td>Ivan Radovanovic</td>\n",
       "      <td>0.041366</td>\n",
       "      <td>2</td>\n",
       "      <td>6.66</td>\n",
       "      <td>4.66</td>\n",
       "    </tr>\n",
       "    <tr>\n",
       "      <th>671</th>\n",
       "      <td>672</td>\n",
       "      <td>Florent Balmont</td>\n",
       "      <td>0.036845</td>\n",
       "      <td>5</td>\n",
       "      <td>6.19</td>\n",
       "      <td>1.19</td>\n",
       "    </tr>\n",
       "    <tr>\n",
       "      <th>672</th>\n",
       "      <td>673</td>\n",
       "      <td>Gokhan Inler</td>\n",
       "      <td>0.035730</td>\n",
       "      <td>9</td>\n",
       "      <td>6.61</td>\n",
       "      <td>-2.39</td>\n",
       "    </tr>\n",
       "    <tr>\n",
       "      <th>673</th>\n",
       "      <td>674</td>\n",
       "      <td>Tom Huddlestone</td>\n",
       "      <td>0.030463</td>\n",
       "      <td>2</td>\n",
       "      <td>3.29</td>\n",
       "      <td>1.29</td>\n",
       "    </tr>\n",
       "  </tbody>\n",
       "</table>\n",
       "</div>"
      ],
      "text/plain": [
       "     rank            player  xG_per_shot_ratio  trueGoals  expectedGoals  \\\n",
       "669   670      Daniel Baier           0.042373          5           7.50   \n",
       "670   671  Ivan Radovanovic           0.041366          2           6.66   \n",
       "671   672   Florent Balmont           0.036845          5           6.19   \n",
       "672   673      Gokhan Inler           0.035730          9           6.61   \n",
       "673   674   Tom Huddlestone           0.030463          2           3.29   \n",
       "\n",
       "     difference  \n",
       "669        2.50  \n",
       "670        4.66  \n",
       "671        1.19  \n",
       "672       -2.39  \n",
       "673        1.29  "
      ]
     },
     "execution_count": 61,
     "metadata": {},
     "output_type": "execute_result"
    }
   ],
   "source": [
    "players['xG_per_shot_ratio'] = players['expectedGoals'] / players['n_shots']\n",
    "show = players[players['n_shots']>100].sort_values(['xG_per_shot_ratio', 'trueGoals'], ascending=False).reset_index(drop=True)\n",
    "show['rank'] = show.index+1\n",
    "show[['rank', 'player', 'xG_per_shot_ratio', 'trueGoals', 'expectedGoals', 'difference']].tail(5)\n"
   ]
  },
  {
   "cell_type": "markdown",
   "metadata": {},
   "source": [
    "We can see that **Tom Huddlestone** appears to be the worst at deciding when to shoot, with an xG per shot of 0.03.\n",
    "\n",
    "The cases of **Gohhan Inler** and **Ruben Rochina** are really interesting. They seem to take a lot of very unlikely shots, from long distance, but it also seems that they are actually good at it. Look at the difference between their actual goals and their expected goals: despite taking \"bad\" shots, they have scored more than they were expected to. So, in their case, making these kinds of shots might not be such a bad decision after all.\n",
    "\n",
    "On the other hand, we have cases like **Ivan Radovanovic**. He also has taken a lot of shots from unlikely locations, and he does not seem to be good at it, since he only has 2 goals when his expected goals are 6.6. These shots may also come in situations after corners, in which players sometimes shoot from far away in any direction without any hope of making a goal, but instead for the ball to go out and reorganize the defense. So maybe these bad shots did make sense in a way and we should not be so cruel about it.\n",
    "\n",
    "At the bottom at the list we find the players who tend to take shots that are likely to be goals, from inside the box or very close range. As expected, here we find mostly strikers and target-men, who tend to play near the opposition's goal.\n",
    "**Diego Milito**, **Kevin Gameiro**, and **Carlos Bacca** are among these players. For example, Diego Milito had an average xGoal per shot of 0.21, which means that, on average, every shot he took had more than 20% chance of being a goal according to our model. In other words, it looks like he only took good/safe shots and did not risk too much."
   ]
  },
  {
   "cell_type": "code",
   "execution_count": 62,
   "metadata": {
    "execution": {
     "iopub.execute_input": "2021-11-29T18:34:53.123235Z",
     "iopub.status.busy": "2021-11-29T18:34:53.122903Z",
     "iopub.status.idle": "2021-11-29T18:34:53.136799Z",
     "shell.execute_reply": "2021-11-29T18:34:53.136029Z",
     "shell.execute_reply.started": "2021-11-29T18:34:53.123177Z"
    }
   },
   "outputs": [
    {
     "data": {
      "text/html": [
       "<div>\n",
       "<style scoped>\n",
       "    .dataframe tbody tr th:only-of-type {\n",
       "        vertical-align: middle;\n",
       "    }\n",
       "\n",
       "    .dataframe tbody tr th {\n",
       "        vertical-align: top;\n",
       "    }\n",
       "\n",
       "    .dataframe thead th {\n",
       "        text-align: right;\n",
       "    }\n",
       "</style>\n",
       "<table border=\"1\" class=\"dataframe\">\n",
       "  <thead>\n",
       "    <tr style=\"text-align: right;\">\n",
       "      <th></th>\n",
       "      <th>rank</th>\n",
       "      <th>player</th>\n",
       "      <th>xG_per_shot_ratio</th>\n",
       "      <th>trueGoals</th>\n",
       "      <th>expectedGoals</th>\n",
       "      <th>difference</th>\n",
       "    </tr>\n",
       "  </thead>\n",
       "  <tbody>\n",
       "    <tr>\n",
       "      <th>0</th>\n",
       "      <td>1</td>\n",
       "      <td>Diego Milito</td>\n",
       "      <td>0.208913</td>\n",
       "      <td>33</td>\n",
       "      <td>28.83</td>\n",
       "      <td>-4.17</td>\n",
       "    </tr>\n",
       "    <tr>\n",
       "      <th>1</th>\n",
       "      <td>2</td>\n",
       "      <td>Kevin Gameiro</td>\n",
       "      <td>0.193498</td>\n",
       "      <td>63</td>\n",
       "      <td>58.63</td>\n",
       "      <td>-4.37</td>\n",
       "    </tr>\n",
       "    <tr>\n",
       "      <th>2</th>\n",
       "      <td>3</td>\n",
       "      <td>Ikechukwu Uche</td>\n",
       "      <td>0.193097</td>\n",
       "      <td>21</td>\n",
       "      <td>21.82</td>\n",
       "      <td>0.82</td>\n",
       "    </tr>\n",
       "    <tr>\n",
       "      <th>3</th>\n",
       "      <td>4</td>\n",
       "      <td>Carlos Bacca</td>\n",
       "      <td>0.191304</td>\n",
       "      <td>57</td>\n",
       "      <td>44.00</td>\n",
       "      <td>-13.00</td>\n",
       "    </tr>\n",
       "    <tr>\n",
       "      <th>4</th>\n",
       "      <td>5</td>\n",
       "      <td>Miku</td>\n",
       "      <td>0.191009</td>\n",
       "      <td>23</td>\n",
       "      <td>20.82</td>\n",
       "      <td>-2.18</td>\n",
       "    </tr>\n",
       "  </tbody>\n",
       "</table>\n",
       "</div>"
      ],
      "text/plain": [
       "   rank          player  xG_per_shot_ratio  trueGoals  expectedGoals  \\\n",
       "0     1    Diego Milito           0.208913         33          28.83   \n",
       "1     2   Kevin Gameiro           0.193498         63          58.63   \n",
       "2     3  Ikechukwu Uche           0.193097         21          21.82   \n",
       "3     4    Carlos Bacca           0.191304         57          44.00   \n",
       "4     5            Miku           0.191009         23          20.82   \n",
       "\n",
       "   difference  \n",
       "0       -4.17  \n",
       "1       -4.37  \n",
       "2        0.82  \n",
       "3      -13.00  \n",
       "4       -2.18  "
      ]
     },
     "execution_count": 62,
     "metadata": {},
     "output_type": "execute_result"
    }
   ],
   "source": [
    "show = show[['rank', 'player', 'xG_per_shot_ratio', 'trueGoals', 'expectedGoals', 'difference']].head(10)\n",
    "show.head(5)"
   ]
  },
  {
   "cell_type": "code",
   "execution_count": 63,
   "metadata": {
    "execution": {
     "iopub.execute_input": "2021-11-29T18:34:54.599596Z",
     "iopub.status.busy": "2021-11-29T18:34:54.599352Z",
     "iopub.status.idle": "2021-11-29T18:34:54.867074Z",
     "shell.execute_reply": "2021-11-29T18:34:54.865657Z",
     "shell.execute_reply.started": "2021-11-29T18:34:54.599565Z"
    }
   },
   "outputs": [
    {
     "data": {
      "image/png": "[encoded data removed]",
      "text/plain": [
       "<Figure size 864x360 with 1 Axes>"
      ]
     },
     "metadata": {},
     "output_type": "display_data"
    }
   ],
   "source": [
    "sns.set_style(\"dark\")\n",
    "fig, ax = plt.subplots(figsize=[12,5])\n",
    "ax = sns.barplot(x=show['xG_per_shot_ratio'], y=show['player'], palette='viridis', alpha=0.9)\n",
    "ax.set_xticks(np.arange(0,0.25,0.02))\n",
    "ax.set_xlabel(xlabel='xG value per shot', fontsize=12)\n",
    "ax.set_ylabel(ylabel='')\n",
    "ax.set_yticklabels(labels=ax.get_yticklabels(), fontsize=12)\n",
    "plt.title(\"Best Shot Deciders: xG value per shot\", fontsize=22, fontfamily='serif')\n",
    "ax.grid(color='black', linestyle='-', linewidth=0.1, axis='x')\n",
    "plt.show()"
   ]
  },
  {
   "cell_type": "markdown",
   "metadata": {},
   "source": [
    "## 3.d) Which players are the best headers?"
   ]
  },
  {
   "cell_type": "code",
   "execution_count": 64,
   "metadata": {
    "execution": {
     "iopub.execute_input": "2021-11-29T18:35:42.082998Z",
     "iopub.status.busy": "2021-11-29T18:35:42.082425Z",
     "iopub.status.idle": "2021-11-29T18:35:42.527596Z",
     "shell.execute_reply": "2021-11-29T18:35:42.526892Z",
     "shell.execute_reply.started": "2021-11-29T18:35:42.082655Z"
    }
   },
   "outputs": [
    {
     "name": "stderr",
     "output_type": "stream",
     "text": [
      "/opt/conda/lib/python3.6/site-packages/ipykernel_launcher.py:1: SettingWithCopyWarning: \n",
      "A value is trying to be set on a copy of a slice from a DataFrame.\n",
      "Try using .loc[row_indexer,col_indexer] = value instead\n",
      "\n",
      "See the caveats in the documentation: http://pandas.pydata.org/pandas-docs/stable/indexing.html#indexing-view-versus-copy\n",
      "  \"\"\"Entry point for launching an IPython kernel.\n"
     ]
    },
    {
     "data": {
      "text/html": [
       "<div>\n",
       "<style scoped>\n",
       "    .dataframe tbody tr th:only-of-type {\n",
       "        vertical-align: middle;\n",
       "    }\n",
       "\n",
       "    .dataframe tbody tr th {\n",
       "        vertical-align: top;\n",
       "    }\n",
       "\n",
       "    .dataframe thead th {\n",
       "        text-align: right;\n",
       "    }\n",
       "</style>\n",
       "<table border=\"1\" class=\"dataframe\">\n",
       "  <thead>\n",
       "    <tr style=\"text-align: right;\">\n",
       "      <th></th>\n",
       "      <th>rank</th>\n",
       "      <th>player</th>\n",
       "      <th>n_headers</th>\n",
       "      <th>trueGoals</th>\n",
       "      <th>expectedGoals</th>\n",
       "      <th>difference</th>\n",
       "    </tr>\n",
       "  </thead>\n",
       "  <tbody>\n",
       "    <tr>\n",
       "      <th>0</th>\n",
       "      <td>1</td>\n",
       "      <td>Cristiano Ronaldo</td>\n",
       "      <td>159</td>\n",
       "      <td>36</td>\n",
       "      <td>20.083531</td>\n",
       "      <td>-15.916469</td>\n",
       "    </tr>\n",
       "    <tr>\n",
       "      <th>1</th>\n",
       "      <td>2</td>\n",
       "      <td>Mario Mandzukic</td>\n",
       "      <td>124</td>\n",
       "      <td>28</td>\n",
       "      <td>14.773641</td>\n",
       "      <td>-13.226359</td>\n",
       "    </tr>\n",
       "    <tr>\n",
       "      <th>2</th>\n",
       "      <td>3</td>\n",
       "      <td>Fernando Llorente</td>\n",
       "      <td>141</td>\n",
       "      <td>25</td>\n",
       "      <td>15.953293</td>\n",
       "      <td>-9.046707</td>\n",
       "    </tr>\n",
       "    <tr>\n",
       "      <th>3</th>\n",
       "      <td>4</td>\n",
       "      <td>Sloan Privat</td>\n",
       "      <td>86</td>\n",
       "      <td>17</td>\n",
       "      <td>9.915715</td>\n",
       "      <td>-7.084285</td>\n",
       "    </tr>\n",
       "    <tr>\n",
       "      <th>4</th>\n",
       "      <td>5</td>\n",
       "      <td>Pierreemerick Aubameyang</td>\n",
       "      <td>59</td>\n",
       "      <td>14</td>\n",
       "      <td>7.271954</td>\n",
       "      <td>-6.728046</td>\n",
       "    </tr>\n",
       "  </tbody>\n",
       "</table>\n",
       "</div>"
      ],
      "text/plain": [
       "   rank                    player  n_headers  trueGoals  expectedGoals  \\\n",
       "0     1         Cristiano Ronaldo        159         36      20.083531   \n",
       "1     2           Mario Mandzukic        124         28      14.773641   \n",
       "2     3         Fernando Llorente        141         25      15.953293   \n",
       "3     4              Sloan Privat         86         17       9.915715   \n",
       "4     5  Pierreemerick Aubameyang         59         14       7.271954   \n",
       "\n",
       "   difference  \n",
       "0  -15.916469  \n",
       "1  -13.226359  \n",
       "2   -9.046707  \n",
       "3   -7.084285  \n",
       "4   -6.728046  "
      ]
     },
     "execution_count": 64,
     "metadata": {},
     "output_type": "execute_result"
    }
   ],
   "source": [
    "shots['bodypart'] = shots['bodypart'].astype(int)\n",
    "headers = shots[(shots.event_type==1) & (shots.bodypart==3)]\n",
    "headers_players = headers.groupby('player').sum().reset_index()\n",
    "headers_players.rename(columns={'event_type': 'n_headers', 'is_goal': 'trueGoals', 'prediction': 'expectedGoals'}, inplace=True)\n",
    "headers_players['ratio'] = headers_players['trueGoals'] / headers_players['expectedGoals']\n",
    "show_headers = headers_players.sort_values(['difference', 'trueGoals']).reset_index(drop=True)\n",
    "show_headers['rank'] = show_headers.index+1\n",
    "show_headers[['rank', 'player', 'n_headers', 'trueGoals', 'expectedGoals', 'difference']].head(5)"
   ]
  },
  {
   "cell_type": "markdown",
   "metadata": {},
   "source": [
    "We see that Cristiano Ronaldo is the best header in the game, when comparing the number of goals he scored with his head with the number of goals he should have scored with our model.\n",
    "The other two in the top 3 are Mario Mandzukic and Fernando Llorente.\n",
    "\n",
    "This is interesting because we can easily see how it confirms something we kind of know. These three guys are exceptional at heading the ball."
   ]
  },
  {
   "cell_type": "markdown",
   "metadata": {},
   "source": [
    "## 3.e) Which players are the best at shooting with their left foot?"
   ]
  },
  {
   "cell_type": "code",
   "execution_count": 65,
   "metadata": {
    "execution": {
     "iopub.execute_input": "2021-11-29T18:36:02.520117Z",
     "iopub.status.busy": "2021-11-29T18:36:02.519578Z",
     "iopub.status.idle": "2021-11-29T18:36:02.731271Z",
     "shell.execute_reply": "2021-11-29T18:36:02.730617Z",
     "shell.execute_reply.started": "2021-11-29T18:36:02.520065Z"
    }
   },
   "outputs": [
    {
     "data": {
      "text/html": [
       "<div>\n",
       "<style scoped>\n",
       "    .dataframe tbody tr th:only-of-type {\n",
       "        vertical-align: middle;\n",
       "    }\n",
       "\n",
       "    .dataframe tbody tr th {\n",
       "        vertical-align: top;\n",
       "    }\n",
       "\n",
       "    .dataframe thead th {\n",
       "        text-align: right;\n",
       "    }\n",
       "</style>\n",
       "<table border=\"1\" class=\"dataframe\">\n",
       "  <thead>\n",
       "    <tr style=\"text-align: right;\">\n",
       "      <th></th>\n",
       "      <th>rank</th>\n",
       "      <th>player</th>\n",
       "      <th>n_leftFoot_shots</th>\n",
       "      <th>trueGoals</th>\n",
       "      <th>expectedGoals</th>\n",
       "      <th>difference</th>\n",
       "    </tr>\n",
       "  </thead>\n",
       "  <tbody>\n",
       "    <tr>\n",
       "      <th>0</th>\n",
       "      <td>1</td>\n",
       "      <td>Lionel Messi</td>\n",
       "      <td>752</td>\n",
       "      <td>167</td>\n",
       "      <td>121.734564</td>\n",
       "      <td>-45.265436</td>\n",
       "    </tr>\n",
       "    <tr>\n",
       "      <th>1</th>\n",
       "      <td>2</td>\n",
       "      <td>Antoine Griezmann</td>\n",
       "      <td>345</td>\n",
       "      <td>58</td>\n",
       "      <td>41.467362</td>\n",
       "      <td>-16.532638</td>\n",
       "    </tr>\n",
       "    <tr>\n",
       "      <th>2</th>\n",
       "      <td>3</td>\n",
       "      <td>Arjen Robben</td>\n",
       "      <td>296</td>\n",
       "      <td>42</td>\n",
       "      <td>32.198713</td>\n",
       "      <td>-9.801287</td>\n",
       "    </tr>\n",
       "    <tr>\n",
       "      <th>3</th>\n",
       "      <td>4</td>\n",
       "      <td>Iago Falque</td>\n",
       "      <td>132</td>\n",
       "      <td>23</td>\n",
       "      <td>13.296317</td>\n",
       "      <td>-9.703683</td>\n",
       "    </tr>\n",
       "    <tr>\n",
       "      <th>4</th>\n",
       "      <td>5</td>\n",
       "      <td>Franck Ribery</td>\n",
       "      <td>57</td>\n",
       "      <td>16</td>\n",
       "      <td>6.441570</td>\n",
       "      <td>-9.558430</td>\n",
       "    </tr>\n",
       "  </tbody>\n",
       "</table>\n",
       "</div>"
      ],
      "text/plain": [
       "   rank             player  n_leftFoot_shots  trueGoals  expectedGoals  \\\n",
       "0     1       Lionel Messi               752        167     121.734564   \n",
       "1     2  Antoine Griezmann               345         58      41.467362   \n",
       "2     3       Arjen Robben               296         42      32.198713   \n",
       "3     4        Iago Falque               132         23      13.296317   \n",
       "4     5      Franck Ribery                57         16       6.441570   \n",
       "\n",
       "   difference  \n",
       "0  -45.265436  \n",
       "1  -16.532638  \n",
       "2   -9.801287  \n",
       "3   -9.703683  \n",
       "4   -9.558430  "
      ]
     },
     "execution_count": 65,
     "metadata": {},
     "output_type": "execute_result"
    }
   ],
   "source": [
    "left_foot = shots[(shots.event_type==1) & (shots.bodypart==2)]\n",
    "left_foot_players = left_foot.groupby('player').sum().reset_index()\n",
    "left_foot_players.rename(columns={'event_type': 'n_leftFoot_shots', 'is_goal': 'trueGoals', 'prediction': 'expectedGoals'}, inplace=True)\n",
    "show_lfoot = left_foot_players.sort_values(['difference', 'trueGoals']).reset_index(drop=True)\n",
    "show_lfoot['rank'] = show_lfoot.index+1\n",
    "show_lfoot[['rank', 'player', 'n_leftFoot_shots', 'trueGoals', 'expectedGoals', 'difference']].head(5)"
   ]
  },
  {
   "cell_type": "markdown",
   "metadata": {},
   "source": [
    "Of course Messi is first on the list. He is the one who scored the most with his left foot when compared to what was expected according to the characteristics surrounding the shot. The list is complete with Antoine Griezmann, Iago Falque, and Arjen Robben. Not surprisingly, these players are all left-footed.\n",
    "\n",
    "I'm a bit surprised by not seeing Cristiano Ronaldo here, as I remember him scoring many times with his left foot. So I'll look him up individually."
   ]
  },
  {
   "cell_type": "code",
   "execution_count": 66,
   "metadata": {
    "execution": {
     "iopub.execute_input": "2021-11-29T18:36:19.872127Z",
     "iopub.status.busy": "2021-11-29T18:36:19.871691Z",
     "iopub.status.idle": "2021-11-29T18:36:19.888698Z",
     "shell.execute_reply": "2021-11-29T18:36:19.887409Z",
     "shell.execute_reply.started": "2021-11-29T18:36:19.872048Z"
    }
   },
   "outputs": [
    {
     "data": {
      "text/html": [
       "<div>\n",
       "<style scoped>\n",
       "    .dataframe tbody tr th:only-of-type {\n",
       "        vertical-align: middle;\n",
       "    }\n",
       "\n",
       "    .dataframe tbody tr th {\n",
       "        vertical-align: top;\n",
       "    }\n",
       "\n",
       "    .dataframe thead th {\n",
       "        text-align: right;\n",
       "    }\n",
       "</style>\n",
       "<table border=\"1\" class=\"dataframe\">\n",
       "  <thead>\n",
       "    <tr style=\"text-align: right;\">\n",
       "      <th></th>\n",
       "      <th>rank</th>\n",
       "      <th>player</th>\n",
       "      <th>expectedGoals</th>\n",
       "      <th>trueGoals</th>\n",
       "    </tr>\n",
       "  </thead>\n",
       "  <tbody>\n",
       "    <tr>\n",
       "      <th>78</th>\n",
       "      <td>79</td>\n",
       "      <td>Cristiano Ronaldo</td>\n",
       "      <td>28.402664</td>\n",
       "      <td>32</td>\n",
       "    </tr>\n",
       "  </tbody>\n",
       "</table>\n",
       "</div>"
      ],
      "text/plain": [
       "    rank             player  expectedGoals  trueGoals\n",
       "78    79  Cristiano Ronaldo      28.402664         32"
      ]
     },
     "execution_count": 66,
     "metadata": {},
     "output_type": "execute_result"
    }
   ],
   "source": [
    "show_lfoot[show_lfoot.player=='Cristiano Ronaldo'][['rank', 'player', 'expectedGoals', 'trueGoals']]"
   ]
  },
  {
   "cell_type": "markdown",
   "metadata": {},
   "source": [
    "He still has more left-footed goals than what was expected by our model, so we can confirm that he is very decent at shooting with his left. But he is not among the best either (he is 80th)."
   ]
  },
  {
   "cell_type": "markdown",
   "metadata": {},
   "source": [
    "Now let's see what happens when we look at the ratio instead of the total values."
   ]
  },
  {
   "cell_type": "code",
   "execution_count": 67,
   "metadata": {
    "execution": {
     "iopub.execute_input": "2021-11-29T18:36:31.590206Z",
     "iopub.status.busy": "2021-11-29T18:36:31.589779Z",
     "iopub.status.idle": "2021-11-29T18:36:31.607864Z",
     "shell.execute_reply": "2021-11-29T18:36:31.607244Z",
     "shell.execute_reply.started": "2021-11-29T18:36:31.590138Z"
    }
   },
   "outputs": [
    {
     "data": {
      "text/html": [
       "<div>\n",
       "<style scoped>\n",
       "    .dataframe tbody tr th:only-of-type {\n",
       "        vertical-align: middle;\n",
       "    }\n",
       "\n",
       "    .dataframe tbody tr th {\n",
       "        vertical-align: top;\n",
       "    }\n",
       "\n",
       "    .dataframe thead th {\n",
       "        text-align: right;\n",
       "    }\n",
       "</style>\n",
       "<table border=\"1\" class=\"dataframe\">\n",
       "  <thead>\n",
       "    <tr style=\"text-align: right;\">\n",
       "      <th></th>\n",
       "      <th>rank</th>\n",
       "      <th>player</th>\n",
       "      <th>n_leftFoot_shots</th>\n",
       "      <th>trueGoals</th>\n",
       "      <th>expectedGoals</th>\n",
       "      <th>ratio</th>\n",
       "    </tr>\n",
       "  </thead>\n",
       "  <tbody>\n",
       "    <tr>\n",
       "      <th>0</th>\n",
       "      <td>1</td>\n",
       "      <td>Iago Falque</td>\n",
       "      <td>132</td>\n",
       "      <td>23</td>\n",
       "      <td>13.296317</td>\n",
       "      <td>1.729802</td>\n",
       "    </tr>\n",
       "    <tr>\n",
       "      <th>1</th>\n",
       "      <td>2</td>\n",
       "      <td>Mohamed Salah</td>\n",
       "      <td>129</td>\n",
       "      <td>23</td>\n",
       "      <td>13.861116</td>\n",
       "      <td>1.659318</td>\n",
       "    </tr>\n",
       "    <tr>\n",
       "      <th>2</th>\n",
       "      <td>3</td>\n",
       "      <td>Lukas Podolski</td>\n",
       "      <td>132</td>\n",
       "      <td>21</td>\n",
       "      <td>13.215145</td>\n",
       "      <td>1.589086</td>\n",
       "    </tr>\n",
       "    <tr>\n",
       "      <th>3</th>\n",
       "      <td>4</td>\n",
       "      <td>James Rodriguez</td>\n",
       "      <td>162</td>\n",
       "      <td>23</td>\n",
       "      <td>15.531299</td>\n",
       "      <td>1.480881</td>\n",
       "    </tr>\n",
       "    <tr>\n",
       "      <th>4</th>\n",
       "      <td>5</td>\n",
       "      <td>Zlatan Ibrahimovic</td>\n",
       "      <td>129</td>\n",
       "      <td>25</td>\n",
       "      <td>17.270916</td>\n",
       "      <td>1.447520</td>\n",
       "    </tr>\n",
       "  </tbody>\n",
       "</table>\n",
       "</div>"
      ],
      "text/plain": [
       "   rank              player  n_leftFoot_shots  trueGoals  expectedGoals  \\\n",
       "0     1         Iago Falque               132         23      13.296317   \n",
       "1     2       Mohamed Salah               129         23      13.861116   \n",
       "2     3      Lukas Podolski               132         21      13.215145   \n",
       "3     4     James Rodriguez               162         23      15.531299   \n",
       "4     5  Zlatan Ibrahimovic               129         25      17.270916   \n",
       "\n",
       "      ratio  \n",
       "0  1.729802  \n",
       "1  1.659318  \n",
       "2  1.589086  \n",
       "3  1.480881  \n",
       "4  1.447520  "
      ]
     },
     "execution_count": 67,
     "metadata": {},
     "output_type": "execute_result"
    }
   ],
   "source": [
    "left_foot_players['ratio'] = left_foot_players['trueGoals'] / left_foot_players['expectedGoals']\n",
    "show_lfoot = left_foot_players[left_foot_players['trueGoals']>20].sort_values(['ratio', 'trueGoals'], ascending=False).reset_index(drop=True)\n",
    "show_lfoot['rank'] = show_lfoot.index+1\n",
    "show_lfoot[['rank', 'player', 'n_leftFoot_shots', 'trueGoals', 'expectedGoals', 'ratio']].head(5)"
   ]
  },
  {
   "cell_type": "markdown",
   "metadata": {},
   "source": [
    "Some new players like **Mohamed Salah** appear now as very proficient left-foot finishers."
   ]
  },
  {
   "cell_type": "markdown",
   "metadata": {},
   "source": [
    "## 3.f) Which players are the best at shooting with their right foot?"
   ]
  },
  {
   "cell_type": "code",
   "execution_count": 68,
   "metadata": {
    "execution": {
     "iopub.execute_input": "2021-11-29T18:36:42.525175Z",
     "iopub.status.busy": "2021-11-29T18:36:42.524705Z",
     "iopub.status.idle": "2021-11-29T18:36:42.804807Z",
     "shell.execute_reply": "2021-11-29T18:36:42.803613Z",
     "shell.execute_reply.started": "2021-11-29T18:36:42.52509Z"
    }
   },
   "outputs": [
    {
     "data": {
      "text/html": [
       "<div>\n",
       "<style scoped>\n",
       "    .dataframe tbody tr th:only-of-type {\n",
       "        vertical-align: middle;\n",
       "    }\n",
       "\n",
       "    .dataframe tbody tr th {\n",
       "        vertical-align: top;\n",
       "    }\n",
       "\n",
       "    .dataframe thead th {\n",
       "        text-align: right;\n",
       "    }\n",
       "</style>\n",
       "<table border=\"1\" class=\"dataframe\">\n",
       "  <thead>\n",
       "    <tr style=\"text-align: right;\">\n",
       "      <th></th>\n",
       "      <th>rank</th>\n",
       "      <th>player</th>\n",
       "      <th>n_rightFoot_shots</th>\n",
       "      <th>trueGoals</th>\n",
       "      <th>expectedGoals</th>\n",
       "      <th>difference</th>\n",
       "    </tr>\n",
       "  </thead>\n",
       "  <tbody>\n",
       "    <tr>\n",
       "      <th>0</th>\n",
       "      <td>1</td>\n",
       "      <td>Luis Suarez</td>\n",
       "      <td>289</td>\n",
       "      <td>69</td>\n",
       "      <td>43.197729</td>\n",
       "      <td>-25.802271</td>\n",
       "    </tr>\n",
       "    <tr>\n",
       "      <th>1</th>\n",
       "      <td>2</td>\n",
       "      <td>Gonzalo Higuain</td>\n",
       "      <td>362</td>\n",
       "      <td>86</td>\n",
       "      <td>60.808671</td>\n",
       "      <td>-25.191329</td>\n",
       "    </tr>\n",
       "    <tr>\n",
       "      <th>2</th>\n",
       "      <td>3</td>\n",
       "      <td>Alexandre Lacazette</td>\n",
       "      <td>270</td>\n",
       "      <td>70</td>\n",
       "      <td>48.071106</td>\n",
       "      <td>-21.928894</td>\n",
       "    </tr>\n",
       "    <tr>\n",
       "      <th>3</th>\n",
       "      <td>4</td>\n",
       "      <td>Zlatan Ibrahimovic</td>\n",
       "      <td>554</td>\n",
       "      <td>111</td>\n",
       "      <td>90.975599</td>\n",
       "      <td>-20.024401</td>\n",
       "    </tr>\n",
       "    <tr>\n",
       "      <th>4</th>\n",
       "      <td>5</td>\n",
       "      <td>Robert Lewandowski</td>\n",
       "      <td>378</td>\n",
       "      <td>84</td>\n",
       "      <td>65.442690</td>\n",
       "      <td>-18.557310</td>\n",
       "    </tr>\n",
       "  </tbody>\n",
       "</table>\n",
       "</div>"
      ],
      "text/plain": [
       "   rank               player  n_rightFoot_shots  trueGoals  expectedGoals  \\\n",
       "0     1          Luis Suarez                289         69      43.197729   \n",
       "1     2      Gonzalo Higuain                362         86      60.808671   \n",
       "2     3  Alexandre Lacazette                270         70      48.071106   \n",
       "3     4   Zlatan Ibrahimovic                554        111      90.975599   \n",
       "4     5   Robert Lewandowski                378         84      65.442690   \n",
       "\n",
       "   difference  \n",
       "0  -25.802271  \n",
       "1  -25.191329  \n",
       "2  -21.928894  \n",
       "3  -20.024401  \n",
       "4  -18.557310  "
      ]
     },
     "execution_count": 68,
     "metadata": {},
     "output_type": "execute_result"
    }
   ],
   "source": [
    "right_foot = shots[(shots.event_type==1) & (shots.bodypart==1)]\n",
    "right_foot_players = right_foot.groupby('player').sum().reset_index()\n",
    "right_foot_players.rename(columns={'event_type': 'n_rightFoot_shots', 'is_goal': 'trueGoals', 'prediction': 'expectedGoals'}, inplace=True)\n",
    "show = right_foot_players.sort_values(['difference', 'trueGoals']).reset_index(drop=True)\n",
    "show['rank'] = show.index+1\n",
    "show[['rank', 'player', 'n_rightFoot_shots', 'trueGoals', 'expectedGoals', 'difference']].head(5)"
   ]
  },
  {
   "cell_type": "markdown",
   "metadata": {},
   "source": [
    "We see **Luis Suarez** at the top of the list. **Messi** is in the 13th position besides right foot being his weak foot and the model not accounting for that, which is pretty amazing (the model doesn't know whether a player is right or left footed, it just knows which foot was used for shooting).\n",
    "\n",
    "Again we also check the ratio instead of the total values to see if we have a different scenario."
   ]
  },
  {
   "cell_type": "code",
   "execution_count": 69,
   "metadata": {
    "execution": {
     "iopub.execute_input": "2021-11-29T18:36:51.470046Z",
     "iopub.status.busy": "2021-11-29T18:36:51.469756Z",
     "iopub.status.idle": "2021-11-29T18:36:51.494121Z",
     "shell.execute_reply": "2021-11-29T18:36:51.492708Z",
     "shell.execute_reply.started": "2021-11-29T18:36:51.46999Z"
    }
   },
   "outputs": [
    {
     "data": {
      "text/html": [
       "<div>\n",
       "<style scoped>\n",
       "    .dataframe tbody tr th:only-of-type {\n",
       "        vertical-align: middle;\n",
       "    }\n",
       "\n",
       "    .dataframe tbody tr th {\n",
       "        vertical-align: top;\n",
       "    }\n",
       "\n",
       "    .dataframe thead th {\n",
       "        text-align: right;\n",
       "    }\n",
       "</style>\n",
       "<table border=\"1\" class=\"dataframe\">\n",
       "  <thead>\n",
       "    <tr style=\"text-align: right;\">\n",
       "      <th></th>\n",
       "      <th>rank</th>\n",
       "      <th>player</th>\n",
       "      <th>n_rightFoot_shots</th>\n",
       "      <th>trueGoals</th>\n",
       "      <th>expectedGoals</th>\n",
       "      <th>ratio</th>\n",
       "    </tr>\n",
       "  </thead>\n",
       "  <tbody>\n",
       "    <tr>\n",
       "      <th>0</th>\n",
       "      <td>1</td>\n",
       "      <td>Bas Dost</td>\n",
       "      <td>62</td>\n",
       "      <td>23</td>\n",
       "      <td>13.048825</td>\n",
       "      <td>1.762611</td>\n",
       "    </tr>\n",
       "    <tr>\n",
       "      <th>1</th>\n",
       "      <td>2</td>\n",
       "      <td>Carlos Tevez</td>\n",
       "      <td>181</td>\n",
       "      <td>33</td>\n",
       "      <td>19.824557</td>\n",
       "      <td>1.664602</td>\n",
       "    </tr>\n",
       "    <tr>\n",
       "      <th>2</th>\n",
       "      <td>3</td>\n",
       "      <td>Franck Ribery</td>\n",
       "      <td>165</td>\n",
       "      <td>24</td>\n",
       "      <td>14.420828</td>\n",
       "      <td>1.664260</td>\n",
       "    </tr>\n",
       "    <tr>\n",
       "      <th>3</th>\n",
       "      <td>4</td>\n",
       "      <td>Mario Gotze</td>\n",
       "      <td>170</td>\n",
       "      <td>32</td>\n",
       "      <td>19.874498</td>\n",
       "      <td>1.610104</td>\n",
       "    </tr>\n",
       "    <tr>\n",
       "      <th>4</th>\n",
       "      <td>5</td>\n",
       "      <td>Lionel Messi</td>\n",
       "      <td>109</td>\n",
       "      <td>30</td>\n",
       "      <td>18.764886</td>\n",
       "      <td>1.598731</td>\n",
       "    </tr>\n",
       "  </tbody>\n",
       "</table>\n",
       "</div>"
      ],
      "text/plain": [
       "   rank         player  n_rightFoot_shots  trueGoals  expectedGoals     ratio\n",
       "0     1       Bas Dost                 62         23      13.048825  1.762611\n",
       "1     2   Carlos Tevez                181         33      19.824557  1.664602\n",
       "2     3  Franck Ribery                165         24      14.420828  1.664260\n",
       "3     4    Mario Gotze                170         32      19.874498  1.610104\n",
       "4     5   Lionel Messi                109         30      18.764886  1.598731"
      ]
     },
     "execution_count": 69,
     "metadata": {},
     "output_type": "execute_result"
    }
   ],
   "source": [
    "right_foot_players['ratio'] = right_foot_players['trueGoals'] / right_foot_players['expectedGoals']\n",
    "show_rfoot = right_foot_players[right_foot_players['trueGoals']>20].sort_values(['ratio', 'trueGoals'], ascending=False).reset_index(drop=True)\n",
    "show_rfoot['rank'] = show_rfoot.index+1\n",
    "show_rfoot[['rank', 'player', 'n_rightFoot_shots', 'trueGoals', 'expectedGoals', 'ratio']].head(5)"
   ]
  },
  {
   "cell_type": "markdown",
   "metadata": {},
   "source": [
    "Another interesting exercise is to pick some players and compare them in terms of their finishing proficency with each part of the body.\n",
    "\n",
    "Let's take 4 top players to illustrate this example: **Messi**, **Cristiano Ronaldo**, **Zlatan Ibrahimovic**, and **Robert Lewandowski**."
   ]
  },
  {
   "cell_type": "code",
   "execution_count": 70,
   "metadata": {
    "execution": {
     "iopub.execute_input": "2021-11-29T18:36:58.858243Z",
     "iopub.status.busy": "2021-11-29T18:36:58.85785Z",
     "iopub.status.idle": "2021-11-29T18:36:58.997148Z",
     "shell.execute_reply": "2021-11-29T18:36:58.996538Z",
     "shell.execute_reply.started": "2021-11-29T18:36:58.85821Z"
    }
   },
   "outputs": [],
   "source": [
    "right_foot = right_foot_players[right_foot_players['n_rightFoot_shots']>5]\n",
    "left_foot = left_foot_players[left_foot_players['n_leftFoot_shots']>5]\n",
    "headers = headers_players[headers_players['n_headers']>5]\n",
    "all_players = right_foot[['player']].merge(left_foot, on='player', how='inner').merge(headers, on='player', how='inner')                                                                         \n",
    "all_players_list = list(all_players['player'].unique())\n",
    "\n",
    "def compare_players(players_list):\n",
    "    total = right_foot[right_foot['player'].isin(players_list)][['player', 'ratio']]\n",
    "    total['bodypart']='Right Foot'\n",
    "    left_foot['bodypart']='Left Foot'\n",
    "    headers['bodypart']= 'Header'\n",
    "    total = pd.concat([total, left_foot[left_foot['player'].isin(players_list)][['player', 'ratio', 'bodypart']], headers[headers['player'].isin(players_list)][['player', 'ratio', 'bodypart']]], axis=0)\n",
    "\n",
    "    sns.set_style(\"whitegrid\")\n",
    "    fig, ax = plt.subplots(figsize=[15,8])\n",
    "    ax = sns.barplot(y=total['ratio'], x=total['player'], hue=total['bodypart'], palette='viridis', alpha=0.9)\n",
    "    #ax.set_yticks(np.arange(0,2.2,0.2))\n",
    "    ax.set_ylabel(ylabel='Goals per xG Ratio', fontsize=14)\n",
    "    ax.set_xlabel(xlabel='')\n",
    "    ax.set_xticklabels(labels=ax.get_xticklabels(), fontsize=15)\n",
    "    plt.title(\"Players Comparison\", fontsize=24, fontfamily='serif')\n",
    "    ax.grid(color='black', linestyle='-', linewidth=0.1, axis='y')\n",
    "    plt.legend(fontsize=12)\n",
    "    plt.show()"
   ]
  },
  {
   "cell_type": "code",
   "execution_count": 71,
   "metadata": {
    "execution": {
     "iopub.execute_input": "2021-11-29T18:37:00.475034Z",
     "iopub.status.busy": "2021-11-29T18:37:00.474728Z",
     "iopub.status.idle": "2021-11-29T18:37:01.323752Z",
     "shell.execute_reply": "2021-11-29T18:37:01.322738Z",
     "shell.execute_reply.started": "2021-11-29T18:37:00.474974Z"
    }
   },
   "outputs": [
    {
     "name": "stderr",
     "output_type": "stream",
     "text": [
      "/opt/conda/lib/python3.6/site-packages/ipykernel_launcher.py:10: SettingWithCopyWarning: \n",
      "A value is trying to be set on a copy of a slice from a DataFrame.\n",
      "Try using .loc[row_indexer,col_indexer] = value instead\n",
      "\n",
      "See the caveats in the documentation: http://pandas.pydata.org/pandas-docs/stable/indexing.html#indexing-view-versus-copy\n",
      "  # Remove the CWD from sys.path while we load stuff.\n",
      "/opt/conda/lib/python3.6/site-packages/ipykernel_launcher.py:11: SettingWithCopyWarning: \n",
      "A value is trying to be set on a copy of a slice from a DataFrame.\n",
      "Try using .loc[row_indexer,col_indexer] = value instead\n",
      "\n",
      "See the caveats in the documentation: http://pandas.pydata.org/pandas-docs/stable/indexing.html#indexing-view-versus-copy\n",
      "  # This is added back by InteractiveShellApp.init_path()\n"
     ]
    },
    {
     "data": {
      "image/png": "[encoded data removed]",
      "text/plain": [
       "<Figure size 1080x576 with 1 Axes>"
      ]
     },
     "metadata": {},
     "output_type": "display_data"
    }
   ],
   "source": [
    "compare_players(players_list = ['Lionel Messi', 'Cristiano Ronaldo', 'Zlatan Ibrahimovic', 'Robert Lewandowski'])"
   ]
  },
  {
   "cell_type": "markdown",
   "metadata": {},
   "source": [
    "We see that Ronaldo is the best header and Lewandowski the worst of the four. Messi is the best left-foot finisher, while Zlatan seems to be the best with his right foot.\n",
    "\n",
    "One interesting thing to note is that all four players are above the 1.0 mark for all bodyparts. This means that they all do better than expected when shooting either with the head, left, or right foot. This is very impressive and makes it clear why they are considered elite players.\n",
    "\n",
    "Let's take four random players and compare them to see the contrast:"
   ]
  },
  {
   "cell_type": "code",
   "execution_count": 72,
   "metadata": {
    "execution": {
     "iopub.execute_input": "2021-11-29T18:38:16.983526Z",
     "iopub.status.busy": "2021-11-29T18:38:16.983241Z",
     "iopub.status.idle": "2021-11-29T18:38:17.614385Z",
     "shell.execute_reply": "2021-11-29T18:38:17.613149Z",
     "shell.execute_reply.started": "2021-11-29T18:38:16.983468Z"
    }
   },
   "outputs": [
    {
     "name": "stderr",
     "output_type": "stream",
     "text": [
      "/opt/conda/lib/python3.6/site-packages/ipykernel_launcher.py:10: SettingWithCopyWarning: \n",
      "A value is trying to be set on a copy of a slice from a DataFrame.\n",
      "Try using .loc[row_indexer,col_indexer] = value instead\n",
      "\n",
      "See the caveats in the documentation: http://pandas.pydata.org/pandas-docs/stable/indexing.html#indexing-view-versus-copy\n",
      "  # Remove the CWD from sys.path while we load stuff.\n",
      "/opt/conda/lib/python3.6/site-packages/ipykernel_launcher.py:11: SettingWithCopyWarning: \n",
      "A value is trying to be set on a copy of a slice from a DataFrame.\n",
      "Try using .loc[row_indexer,col_indexer] = value instead\n",
      "\n",
      "See the caveats in the documentation: http://pandas.pydata.org/pandas-docs/stable/indexing.html#indexing-view-versus-copy\n",
      "  # This is added back by InteractiveShellApp.init_path()\n"
     ]
    },
    {
     "data": {
      "image/png": "[encoded data removed]",
      "text/plain": [
       "<Figure size 1080x576 with 1 Axes>"
      ]
     },
     "metadata": {},
     "output_type": "display_data"
    }
   ],
   "source": [
    "import random\n",
    "compare_players(random.sample(all_players_list, 4))"
   ]
  },
  {
   "cell_type": "markdown",
   "metadata": {},
   "source": [
    "We see that even though the random players can show some high value (**Franck Dja Djedje**'s ratio with his right foot is higher than any of the top 4 players seen before), they show less consistency and many values are below 1.0. It may also be possible that the appearance of high values is due to the fact that they did not take many shots, so scoring only 1 goal can skyrocket the metric."
   ]
  },
  {
   "cell_type": "markdown",
   "metadata": {},
   "source": [
    "## 3.g) Which are the best outside-the-box shooters?"
   ]
  },
  {
   "cell_type": "code",
   "execution_count": 73,
   "metadata": {
    "execution": {
     "iopub.execute_input": "2021-11-29T18:39:03.618821Z",
     "iopub.status.busy": "2021-11-29T18:39:03.618285Z",
     "iopub.status.idle": "2021-11-29T18:39:04.227222Z",
     "shell.execute_reply": "2021-11-29T18:39:04.225573Z",
     "shell.execute_reply.started": "2021-11-29T18:39:03.618768Z"
    }
   },
   "outputs": [
    {
     "name": "stderr",
     "output_type": "stream",
     "text": [
      "/opt/conda/lib/python3.6/site-packages/ipykernel_launcher.py:1: SettingWithCopyWarning: \n",
      "A value is trying to be set on a copy of a slice from a DataFrame.\n",
      "Try using .loc[row_indexer,col_indexer] = value instead\n",
      "\n",
      "See the caveats in the documentation: http://pandas.pydata.org/pandas-docs/stable/indexing.html#indexing-view-versus-copy\n",
      "  \"\"\"Entry point for launching an IPython kernel.\n"
     ]
    },
    {
     "data": {
      "text/html": [
       "<div>\n",
       "<style scoped>\n",
       "    .dataframe tbody tr th:only-of-type {\n",
       "        vertical-align: middle;\n",
       "    }\n",
       "\n",
       "    .dataframe tbody tr th {\n",
       "        vertical-align: top;\n",
       "    }\n",
       "\n",
       "    .dataframe thead th {\n",
       "        text-align: right;\n",
       "    }\n",
       "</style>\n",
       "<table border=\"1\" class=\"dataframe\">\n",
       "  <thead>\n",
       "    <tr style=\"text-align: right;\">\n",
       "      <th></th>\n",
       "      <th>rank</th>\n",
       "      <th>player</th>\n",
       "      <th>n_outbox_shots</th>\n",
       "      <th>trueGoals</th>\n",
       "      <th>expectedGoals</th>\n",
       "      <th>difference</th>\n",
       "    </tr>\n",
       "  </thead>\n",
       "  <tbody>\n",
       "    <tr>\n",
       "      <th>0</th>\n",
       "      <td>1</td>\n",
       "      <td>Lionel Messi</td>\n",
       "      <td>304</td>\n",
       "      <td>16</td>\n",
       "      <td>6.388348</td>\n",
       "      <td>-9.611652</td>\n",
       "    </tr>\n",
       "    <tr>\n",
       "      <th>1</th>\n",
       "      <td>2</td>\n",
       "      <td>Paul Pogba</td>\n",
       "      <td>226</td>\n",
       "      <td>14</td>\n",
       "      <td>5.990543</td>\n",
       "      <td>-8.009457</td>\n",
       "    </tr>\n",
       "    <tr>\n",
       "      <th>2</th>\n",
       "      <td>3</td>\n",
       "      <td>Zlatan Ibrahimovic</td>\n",
       "      <td>261</td>\n",
       "      <td>14</td>\n",
       "      <td>6.783305</td>\n",
       "      <td>-7.216695</td>\n",
       "    </tr>\n",
       "    <tr>\n",
       "      <th>3</th>\n",
       "      <td>4</td>\n",
       "      <td>Gonzalo Higuain</td>\n",
       "      <td>127</td>\n",
       "      <td>11</td>\n",
       "      <td>3.867265</td>\n",
       "      <td>-7.132735</td>\n",
       "    </tr>\n",
       "    <tr>\n",
       "      <th>4</th>\n",
       "      <td>5</td>\n",
       "      <td>Yaya Toure</td>\n",
       "      <td>128</td>\n",
       "      <td>10</td>\n",
       "      <td>3.378013</td>\n",
       "      <td>-6.621987</td>\n",
       "    </tr>\n",
       "  </tbody>\n",
       "</table>\n",
       "</div>"
      ],
      "text/plain": [
       "   rank              player  n_outbox_shots  trueGoals  expectedGoals  \\\n",
       "0     1        Lionel Messi             304         16       6.388348   \n",
       "1     2          Paul Pogba             226         14       5.990543   \n",
       "2     3  Zlatan Ibrahimovic             261         14       6.783305   \n",
       "3     4     Gonzalo Higuain             127         11       3.867265   \n",
       "4     5          Yaya Toure             128         10       3.378013   \n",
       "\n",
       "   difference  \n",
       "0   -9.611652  \n",
       "1   -8.009457  \n",
       "2   -7.216695  \n",
       "3   -7.132735  \n",
       "4   -6.621987  "
      ]
     },
     "execution_count": 73,
     "metadata": {},
     "output_type": "execute_result"
    }
   ],
   "source": [
    "shots['location'] = shots['location'].astype(int)\n",
    "outside_box = shots[(shots.location==15)]\n",
    "outbox_players = outside_box.groupby('player').sum().reset_index()\n",
    "outbox_players.rename(columns={'event_type': 'n_outbox_shots', 'is_goal': 'trueGoals', 'prediction': 'expectedGoals'}, inplace=True)\n",
    "show = outbox_players.sort_values(['difference', 'trueGoals']).reset_index(drop=True)\n",
    "show['rank'] = show.index+1\n",
    "show[['rank', 'player', 'n_outbox_shots', 'trueGoals', 'expectedGoals', 'difference']].head(5)\n"
   ]
  },
  {
   "cell_type": "code",
   "execution_count": 74,
   "metadata": {
    "execution": {
     "iopub.execute_input": "2021-11-29T18:39:12.442361Z",
     "iopub.status.busy": "2021-11-29T18:39:12.441866Z",
     "iopub.status.idle": "2021-11-29T18:39:12.460765Z",
     "shell.execute_reply": "2021-11-29T18:39:12.460047Z",
     "shell.execute_reply.started": "2021-11-29T18:39:12.442299Z"
    }
   },
   "outputs": [
    {
     "data": {
      "text/html": [
       "<div>\n",
       "<style scoped>\n",
       "    .dataframe tbody tr th:only-of-type {\n",
       "        vertical-align: middle;\n",
       "    }\n",
       "\n",
       "    .dataframe tbody tr th {\n",
       "        vertical-align: top;\n",
       "    }\n",
       "\n",
       "    .dataframe thead th {\n",
       "        text-align: right;\n",
       "    }\n",
       "</style>\n",
       "<table border=\"1\" class=\"dataframe\">\n",
       "  <thead>\n",
       "    <tr style=\"text-align: right;\">\n",
       "      <th></th>\n",
       "      <th>rank</th>\n",
       "      <th>player</th>\n",
       "      <th>n_outbox_shots</th>\n",
       "      <th>trueGoals</th>\n",
       "      <th>expectedGoals</th>\n",
       "      <th>difference</th>\n",
       "    </tr>\n",
       "  </thead>\n",
       "  <tbody>\n",
       "    <tr>\n",
       "      <th>4144</th>\n",
       "      <td>4145</td>\n",
       "      <td>Alberto Aquilani</td>\n",
       "      <td>117</td>\n",
       "      <td>0</td>\n",
       "      <td>3.150822</td>\n",
       "      <td>3.150822</td>\n",
       "    </tr>\n",
       "    <tr>\n",
       "      <th>4145</th>\n",
       "      <td>4146</td>\n",
       "      <td>Ronny Rodelin</td>\n",
       "      <td>119</td>\n",
       "      <td>0</td>\n",
       "      <td>3.209639</td>\n",
       "      <td>3.209639</td>\n",
       "    </tr>\n",
       "    <tr>\n",
       "      <th>4146</th>\n",
       "      <td>4147</td>\n",
       "      <td>Francesco Lodi</td>\n",
       "      <td>170</td>\n",
       "      <td>0</td>\n",
       "      <td>3.440195</td>\n",
       "      <td>3.440195</td>\n",
       "    </tr>\n",
       "    <tr>\n",
       "      <th>4147</th>\n",
       "      <td>4148</td>\n",
       "      <td>Alessandro Diamanti</td>\n",
       "      <td>254</td>\n",
       "      <td>3</td>\n",
       "      <td>6.505060</td>\n",
       "      <td>3.505060</td>\n",
       "    </tr>\n",
       "    <tr>\n",
       "      <th>4148</th>\n",
       "      <td>4149</td>\n",
       "      <td>Mario Balotelli</td>\n",
       "      <td>209</td>\n",
       "      <td>1</td>\n",
       "      <td>4.744064</td>\n",
       "      <td>3.744064</td>\n",
       "    </tr>\n",
       "  </tbody>\n",
       "</table>\n",
       "</div>"
      ],
      "text/plain": [
       "      rank               player  n_outbox_shots  trueGoals  expectedGoals  \\\n",
       "4144  4145     Alberto Aquilani             117          0       3.150822   \n",
       "4145  4146        Ronny Rodelin             119          0       3.209639   \n",
       "4146  4147       Francesco Lodi             170          0       3.440195   \n",
       "4147  4148  Alessandro Diamanti             254          3       6.505060   \n",
       "4148  4149      Mario Balotelli             209          1       4.744064   \n",
       "\n",
       "      difference  \n",
       "4144    3.150822  \n",
       "4145    3.209639  \n",
       "4146    3.440195  \n",
       "4147    3.505060  \n",
       "4148    3.744064  "
      ]
     },
     "execution_count": 74,
     "metadata": {},
     "output_type": "execute_result"
    }
   ],
   "source": [
    "show[['rank', 'player', 'n_outbox_shots', 'trueGoals', 'expectedGoals', 'difference']].tail(5)"
   ]
  },
  {
   "cell_type": "markdown",
   "metadata": {},
   "source": [
    "We see **Messi**, **Pogba**, and **Zlatan** as the ones who scored the most goals from outside the box compared to what they were expected to. In the other end, we find players like **Mario Balotelli** and **Alessandro Diamanti**. I'm surprised to see **Nainggolan** among the worst (4120th position), as I recall him as an excellent shooter from long range, scoring many goals. But maybe that's just because he actually tried 280 shots and I only remember the ones that were goals. This is a largely proven psychological bias. For these cases, better rely on the numbers.\n",
    "\n",
    "Again let's see the top players from the trueGoals/xGoals ratio perspective. We'll only consider players who attempted more than 80 shots from outside the box in total (~12 per year):"
   ]
  },
  {
   "cell_type": "code",
   "execution_count": 75,
   "metadata": {
    "execution": {
     "iopub.execute_input": "2021-11-29T18:39:20.891183Z",
     "iopub.status.busy": "2021-11-29T18:39:20.890782Z",
     "iopub.status.idle": "2021-11-29T18:39:20.909582Z",
     "shell.execute_reply": "2021-11-29T18:39:20.908633Z",
     "shell.execute_reply.started": "2021-11-29T18:39:20.89115Z"
    }
   },
   "outputs": [
    {
     "data": {
      "text/html": [
       "<div>\n",
       "<style scoped>\n",
       "    .dataframe tbody tr th:only-of-type {\n",
       "        vertical-align: middle;\n",
       "    }\n",
       "\n",
       "    .dataframe tbody tr th {\n",
       "        vertical-align: top;\n",
       "    }\n",
       "\n",
       "    .dataframe thead th {\n",
       "        text-align: right;\n",
       "    }\n",
       "</style>\n",
       "<table border=\"1\" class=\"dataframe\">\n",
       "  <thead>\n",
       "    <tr style=\"text-align: right;\">\n",
       "      <th></th>\n",
       "      <th>rank</th>\n",
       "      <th>player</th>\n",
       "      <th>n_outbox_shots</th>\n",
       "      <th>trueGoals</th>\n",
       "      <th>expectedGoals</th>\n",
       "      <th>ratio</th>\n",
       "    </tr>\n",
       "  </thead>\n",
       "  <tbody>\n",
       "    <tr>\n",
       "      <th>0</th>\n",
       "      <td>1</td>\n",
       "      <td>James Rodriguez</td>\n",
       "      <td>105</td>\n",
       "      <td>9</td>\n",
       "      <td>2.420388</td>\n",
       "      <td>3.718412</td>\n",
       "    </tr>\n",
       "    <tr>\n",
       "      <th>1</th>\n",
       "      <td>2</td>\n",
       "      <td>Alain Traore</td>\n",
       "      <td>86</td>\n",
       "      <td>6</td>\n",
       "      <td>1.830763</td>\n",
       "      <td>3.277322</td>\n",
       "    </tr>\n",
       "    <tr>\n",
       "      <th>2</th>\n",
       "      <td>3</td>\n",
       "      <td>Julian Draxler</td>\n",
       "      <td>94</td>\n",
       "      <td>8</td>\n",
       "      <td>2.608208</td>\n",
       "      <td>3.067240</td>\n",
       "    </tr>\n",
       "    <tr>\n",
       "      <th>3</th>\n",
       "      <td>4</td>\n",
       "      <td>Alexandre Lacazette</td>\n",
       "      <td>100</td>\n",
       "      <td>9</td>\n",
       "      <td>2.950474</td>\n",
       "      <td>3.050357</td>\n",
       "    </tr>\n",
       "    <tr>\n",
       "      <th>4</th>\n",
       "      <td>5</td>\n",
       "      <td>Yaya Toure</td>\n",
       "      <td>128</td>\n",
       "      <td>10</td>\n",
       "      <td>3.378013</td>\n",
       "      <td>2.960320</td>\n",
       "    </tr>\n",
       "  </tbody>\n",
       "</table>\n",
       "</div>"
      ],
      "text/plain": [
       "   rank               player  n_outbox_shots  trueGoals  expectedGoals  \\\n",
       "0     1      James Rodriguez             105          9       2.420388   \n",
       "1     2         Alain Traore              86          6       1.830763   \n",
       "2     3       Julian Draxler              94          8       2.608208   \n",
       "3     4  Alexandre Lacazette             100          9       2.950474   \n",
       "4     5           Yaya Toure             128         10       3.378013   \n",
       "\n",
       "      ratio  \n",
       "0  3.718412  \n",
       "1  3.277322  \n",
       "2  3.067240  \n",
       "3  3.050357  \n",
       "4  2.960320  "
      ]
     },
     "execution_count": 75,
     "metadata": {},
     "output_type": "execute_result"
    }
   ],
   "source": [
    "outbox_players['ratio'] = outbox_players['trueGoals'] / outbox_players['expectedGoals']\n",
    "show = outbox_players[outbox_players['n_outbox_shots']>80].sort_values(['ratio', 'trueGoals'], ascending=False).reset_index(drop=True)\n",
    "show['rank'] = show.index+1\n",
    "show = show[['rank', 'player', 'n_outbox_shots', 'trueGoals', 'expectedGoals', 'ratio']].head(10)\n",
    "show.head(5)"
   ]
  },
  {
   "cell_type": "code",
   "execution_count": 76,
   "metadata": {
    "execution": {
     "iopub.execute_input": "2021-11-29T18:39:33.957972Z",
     "iopub.status.busy": "2021-11-29T18:39:33.957697Z",
     "iopub.status.idle": "2021-11-29T18:39:34.307803Z",
     "shell.execute_reply": "2021-11-29T18:39:34.307173Z",
     "shell.execute_reply.started": "2021-11-29T18:39:33.957924Z"
    }
   },
   "outputs": [
    {
     "data": {
      "image/png": "[encoded data removed]",
      "text/plain": [
       "<Figure size 1008x432 with 1 Axes>"
      ]
     },
     "metadata": {},
     "output_type": "display_data"
    }
   ],
   "source": [
    "sns.set_style(\"dark\")\n",
    "fig, ax = plt.subplots(figsize=[14,6])\n",
    "ax = sns.barplot(x=show['ratio'], y=show['player'], palette='viridis', alpha=0.9)\n",
    "ax.set_xticks(np.arange(0,4,0.3))\n",
    "ax.set_xlabel(xlabel='Long Range Goals per XGoal Ratio', fontsize=14)\n",
    "ax.set_ylabel(ylabel='')\n",
    "ax.set_yticklabels(labels=ax.get_yticklabels(), fontsize=12)\n",
    "plt.title(\"Best Long Range Shooters\", fontsize=22, fontfamily='serif')\n",
    "ax.grid(color='black', linestyle='-', linewidth=0.1, axis='x')\n",
    "plt.show()"
   ]
  },
  {
   "cell_type": "markdown",
   "metadata": {},
   "source": [
    "Looks like **James Rodriguez** is the most efficient outside-the-box shooter in the game."
   ]
  },
  {
   "cell_type": "markdown",
   "metadata": {},
   "source": [
    "## 3.h) Which players make the best/most dangerous passes?"
   ]
  },
  {
   "cell_type": "markdown",
   "metadata": {},
   "source": [
    "By looking at the player who made the pass/through-ball that came prior to the shot, we can evaluate how much xG a player created from his passing."
   ]
  },
  {
   "cell_type": "code",
   "execution_count": 77,
   "metadata": {
    "execution": {
     "iopub.execute_input": "2021-11-29T18:40:15.23113Z",
     "iopub.status.busy": "2021-11-29T18:40:15.230701Z",
     "iopub.status.idle": "2021-11-29T18:40:15.753006Z",
     "shell.execute_reply": "2021-11-29T18:40:15.752013Z",
     "shell.execute_reply.started": "2021-11-29T18:40:15.23108Z"
    }
   },
   "outputs": [
    {
     "name": "stderr",
     "output_type": "stream",
     "text": [
      "/opt/conda/lib/python3.6/site-packages/ipykernel_launcher.py:1: SettingWithCopyWarning: \n",
      "A value is trying to be set on a copy of a slice from a DataFrame.\n",
      "Try using .loc[row_indexer,col_indexer] = value instead\n",
      "\n",
      "See the caveats in the documentation: http://pandas.pydata.org/pandas-docs/stable/indexing.html#indexing-view-versus-copy\n",
      "  \"\"\"Entry point for launching an IPython kernel.\n"
     ]
    },
    {
     "data": {
      "text/html": [
       "<div>\n",
       "<style scoped>\n",
       "    .dataframe tbody tr th:only-of-type {\n",
       "        vertical-align: middle;\n",
       "    }\n",
       "\n",
       "    .dataframe tbody tr th {\n",
       "        vertical-align: top;\n",
       "    }\n",
       "\n",
       "    .dataframe thead th {\n",
       "        text-align: right;\n",
       "    }\n",
       "</style>\n",
       "<table border=\"1\" class=\"dataframe\">\n",
       "  <thead>\n",
       "    <tr style=\"text-align: right;\">\n",
       "      <th></th>\n",
       "      <th>rank</th>\n",
       "      <th>player</th>\n",
       "      <th>n_passes</th>\n",
       "      <th>trueGoals_created</th>\n",
       "      <th>expectedGoals_created</th>\n",
       "    </tr>\n",
       "  </thead>\n",
       "  <tbody>\n",
       "    <tr>\n",
       "      <th>0</th>\n",
       "      <td>1</td>\n",
       "      <td>Lionel Messi</td>\n",
       "      <td>350</td>\n",
       "      <td>68</td>\n",
       "      <td>51.258082</td>\n",
       "    </tr>\n",
       "    <tr>\n",
       "      <th>1</th>\n",
       "      <td>2</td>\n",
       "      <td>Mesut Ozil</td>\n",
       "      <td>343</td>\n",
       "      <td>35</td>\n",
       "      <td>36.694103</td>\n",
       "    </tr>\n",
       "    <tr>\n",
       "      <th>2</th>\n",
       "      <td>3</td>\n",
       "      <td>Cesc Fabregas</td>\n",
       "      <td>264</td>\n",
       "      <td>53</td>\n",
       "      <td>36.325209</td>\n",
       "    </tr>\n",
       "    <tr>\n",
       "      <th>3</th>\n",
       "      <td>4</td>\n",
       "      <td>Zlatan Ibrahimovic</td>\n",
       "      <td>270</td>\n",
       "      <td>36</td>\n",
       "      <td>36.244624</td>\n",
       "    </tr>\n",
       "    <tr>\n",
       "      <th>4</th>\n",
       "      <td>5</td>\n",
       "      <td>Marek Hamsik</td>\n",
       "      <td>370</td>\n",
       "      <td>50</td>\n",
       "      <td>34.896074</td>\n",
       "    </tr>\n",
       "  </tbody>\n",
       "</table>\n",
       "</div>"
      ],
      "text/plain": [
       "   rank              player  n_passes  trueGoals_created  \\\n",
       "0     1        Lionel Messi       350                 68   \n",
       "1     2          Mesut Ozil       343                 35   \n",
       "2     3       Cesc Fabregas       264                 53   \n",
       "3     4  Zlatan Ibrahimovic       270                 36   \n",
       "4     5        Marek Hamsik       370                 50   \n",
       "\n",
       "   expectedGoals_created  \n",
       "0              51.258082  \n",
       "1              36.694103  \n",
       "2              36.325209  \n",
       "3              36.244624  \n",
       "4              34.896074  "
      ]
     },
     "execution_count": 77,
     "metadata": {},
     "output_type": "execute_result"
    }
   ],
   "source": [
    "shots['assist_method'] = shots['assist_method'].astype(int)\n",
    "passing = shots[shots.assist_method.isin([1,4])]\n",
    "passing_players = passing.groupby('player2').sum().reset_index()\n",
    "passing_players.rename(columns={'player2': 'player', 'event_type': 'n_passes', 'is_goal': 'trueGoals_created', 'prediction': 'expectedGoals_created'}, inplace=True)\n",
    "show = passing_players.sort_values('expectedGoals_created', ascending=False).reset_index(drop=True)\n",
    "show['rank'] = show.index+1\n",
    "show[['rank', 'player', 'n_passes', 'trueGoals_created', 'expectedGoals_created']].head(5)\n"
   ]
  },
  {
   "cell_type": "markdown",
   "metadata": {},
   "source": [
    "This is getting a bit boring, but once again we find **Messi** at the top. In this case, he is the player who has created the most expected goals for his teammates from his passing across the 7 years of our data."
   ]
  },
  {
   "cell_type": "markdown",
   "metadata": {},
   "source": [
    "We can now instead look at the mean xG of these passes to see who are the players who try the most dangerous passing."
   ]
  },
  {
   "cell_type": "code",
   "execution_count": 78,
   "metadata": {
    "execution": {
     "iopub.execute_input": "2021-11-29T18:40:29.571191Z",
     "iopub.status.busy": "2021-11-29T18:40:29.570894Z",
     "iopub.status.idle": "2021-11-29T18:40:29.589293Z",
     "shell.execute_reply": "2021-11-29T18:40:29.588659Z",
     "shell.execute_reply.started": "2021-11-29T18:40:29.571145Z"
    }
   },
   "outputs": [
    {
     "data": {
      "text/html": [
       "<div>\n",
       "<style scoped>\n",
       "    .dataframe tbody tr th:only-of-type {\n",
       "        vertical-align: middle;\n",
       "    }\n",
       "\n",
       "    .dataframe tbody tr th {\n",
       "        vertical-align: top;\n",
       "    }\n",
       "\n",
       "    .dataframe thead th {\n",
       "        text-align: right;\n",
       "    }\n",
       "</style>\n",
       "<table border=\"1\" class=\"dataframe\">\n",
       "  <thead>\n",
       "    <tr style=\"text-align: right;\">\n",
       "      <th></th>\n",
       "      <th>rank</th>\n",
       "      <th>player</th>\n",
       "      <th>n_passes</th>\n",
       "      <th>xG_perpass</th>\n",
       "    </tr>\n",
       "  </thead>\n",
       "  <tbody>\n",
       "    <tr>\n",
       "      <th>0</th>\n",
       "      <td>1</td>\n",
       "      <td>Luis Suarez</td>\n",
       "      <td>185</td>\n",
       "      <td>0.165075</td>\n",
       "    </tr>\n",
       "    <tr>\n",
       "      <th>1</th>\n",
       "      <td>2</td>\n",
       "      <td>Gareth Bale</td>\n",
       "      <td>109</td>\n",
       "      <td>0.156322</td>\n",
       "    </tr>\n",
       "    <tr>\n",
       "      <th>2</th>\n",
       "      <td>3</td>\n",
       "      <td>Angel Di Maria</td>\n",
       "      <td>211</td>\n",
       "      <td>0.151025</td>\n",
       "    </tr>\n",
       "    <tr>\n",
       "      <th>3</th>\n",
       "      <td>4</td>\n",
       "      <td>Raul Garcia</td>\n",
       "      <td>90</td>\n",
       "      <td>0.149201</td>\n",
       "    </tr>\n",
       "    <tr>\n",
       "      <th>4</th>\n",
       "      <td>5</td>\n",
       "      <td>Lionel Messi</td>\n",
       "      <td>350</td>\n",
       "      <td>0.146452</td>\n",
       "    </tr>\n",
       "  </tbody>\n",
       "</table>\n",
       "</div>"
      ],
      "text/plain": [
       "   rank          player  n_passes  xG_perpass\n",
       "0     1     Luis Suarez       185    0.165075\n",
       "1     2     Gareth Bale       109    0.156322\n",
       "2     3  Angel Di Maria       211    0.151025\n",
       "3     4     Raul Garcia        90    0.149201\n",
       "4     5    Lionel Messi       350    0.146452"
      ]
     },
     "execution_count": 78,
     "metadata": {},
     "output_type": "execute_result"
    }
   ],
   "source": [
    "show['xG_perpass'] = show['expectedGoals_created'] / show['n_passes']\n",
    "show = show[show['n_passes']>80].sort_values('xG_perpass', ascending=False).reset_index(drop=True)\n",
    "show['rank'] = show.index+1\n",
    "show = show[['rank', 'player', 'n_passes', 'xG_perpass']].head(10)\n",
    "show.head(5)"
   ]
  },
  {
   "cell_type": "code",
   "execution_count": 79,
   "metadata": {
    "execution": {
     "iopub.execute_input": "2021-11-29T18:40:36.05077Z",
     "iopub.status.busy": "2021-11-29T18:40:36.050467Z",
     "iopub.status.idle": "2021-11-29T18:40:36.419763Z",
     "shell.execute_reply": "2021-11-29T18:40:36.418708Z",
     "shell.execute_reply.started": "2021-11-29T18:40:36.050713Z"
    }
   },
   "outputs": [
    {
     "data": {
      "image/png": "[encoded data removed]",
      "text/plain": [
       "<Figure size 1008x432 with 1 Axes>"
      ]
     },
     "metadata": {},
     "output_type": "display_data"
    }
   ],
   "source": [
    "sns.set_style(\"dark\")\n",
    "fig, ax = plt.subplots(figsize=[14,6])\n",
    "ax = sns.barplot(x=show['xG_perpass'], y=show['player'], palette='viridis', alpha=0.9)\n",
    "ax.set_xticks(np.arange(0,0.2,0.01))\n",
    "ax.set_xlabel(xlabel='xG per key-pass', fontsize=14)\n",
    "ax.set_ylabel(ylabel='')\n",
    "ax.set_yticklabels(labels=ax.get_yticklabels(), fontsize=12)\n",
    "plt.title(\"Most Dangerous Passers\", fontsize=22, fontfamily='serif')\n",
    "ax.grid(color='black', linestyle='-', linewidth=0.1, axis='x')\n",
    "plt.show()"
   ]
  },
  {
   "cell_type": "markdown",
   "metadata": {},
   "source": [
    "We can see **Luis Suarez**, **Di Maria**, and **Gareth Bale** among the players who make, on average, the most dangerous passes, as measured by the *expected goals* value of the subsequent shot."
   ]
  },
  {
   "cell_type": "markdown",
   "metadata": {},
   "source": [
    "## 3.i) Which players are the most unlucky when passing the ball?"
   ]
  },
  {
   "cell_type": "markdown",
   "metadata": {},
   "source": [
    "We can also see who the most *unlucky* players are when it comes to passing. Those who have the largest difference between the number of goals that was expected to result from their passes, and the number of goals that actually came from them. I say *unlucky* because, unlike the player who makes the shot, this other player has no responsibility in whether his team-mates were able to score after his great pass or not!"
   ]
  },
  {
   "cell_type": "code",
   "execution_count": 80,
   "metadata": {
    "execution": {
     "iopub.execute_input": "2021-11-29T18:41:10.343521Z",
     "iopub.status.busy": "2021-11-29T18:41:10.343084Z",
     "iopub.status.idle": "2021-11-29T18:41:10.663235Z",
     "shell.execute_reply": "2021-11-29T18:41:10.662121Z",
     "shell.execute_reply.started": "2021-11-29T18:41:10.343329Z"
    }
   },
   "outputs": [
    {
     "data": {
      "text/html": [
       "<div>\n",
       "<style scoped>\n",
       "    .dataframe tbody tr th:only-of-type {\n",
       "        vertical-align: middle;\n",
       "    }\n",
       "\n",
       "    .dataframe tbody tr th {\n",
       "        vertical-align: top;\n",
       "    }\n",
       "\n",
       "    .dataframe thead th {\n",
       "        text-align: right;\n",
       "    }\n",
       "</style>\n",
       "<table border=\"1\" class=\"dataframe\">\n",
       "  <thead>\n",
       "    <tr style=\"text-align: right;\">\n",
       "      <th></th>\n",
       "      <th>rank</th>\n",
       "      <th>player</th>\n",
       "      <th>n_passes</th>\n",
       "      <th>trueGoals_created</th>\n",
       "      <th>expectedGoals_created</th>\n",
       "      <th>difference</th>\n",
       "    </tr>\n",
       "  </thead>\n",
       "  <tbody>\n",
       "    <tr>\n",
       "      <th>0</th>\n",
       "      <td>1</td>\n",
       "      <td>Joan Verdu</td>\n",
       "      <td>134</td>\n",
       "      <td>7</td>\n",
       "      <td>14.521795</td>\n",
       "      <td>7.521795</td>\n",
       "    </tr>\n",
       "    <tr>\n",
       "      <th>1</th>\n",
       "      <td>2</td>\n",
       "      <td>Xabi Prieto</td>\n",
       "      <td>152</td>\n",
       "      <td>6</td>\n",
       "      <td>13.250240</td>\n",
       "      <td>7.250240</td>\n",
       "    </tr>\n",
       "    <tr>\n",
       "      <th>2</th>\n",
       "      <td>3</td>\n",
       "      <td>Philippe Coutinho</td>\n",
       "      <td>177</td>\n",
       "      <td>13</td>\n",
       "      <td>19.881761</td>\n",
       "      <td>6.881761</td>\n",
       "    </tr>\n",
       "    <tr>\n",
       "      <th>3</th>\n",
       "      <td>4</td>\n",
       "      <td>Alejandro Gomez</td>\n",
       "      <td>137</td>\n",
       "      <td>5</td>\n",
       "      <td>11.774701</td>\n",
       "      <td>6.774701</td>\n",
       "    </tr>\n",
       "    <tr>\n",
       "      <th>4</th>\n",
       "      <td>5</td>\n",
       "      <td>Luca Cigarini</td>\n",
       "      <td>164</td>\n",
       "      <td>6</td>\n",
       "      <td>12.744766</td>\n",
       "      <td>6.744766</td>\n",
       "    </tr>\n",
       "  </tbody>\n",
       "</table>\n",
       "</div>"
      ],
      "text/plain": [
       "   rank             player  n_passes  trueGoals_created  \\\n",
       "0     1         Joan Verdu       134                  7   \n",
       "1     2        Xabi Prieto       152                  6   \n",
       "2     3  Philippe Coutinho       177                 13   \n",
       "3     4    Alejandro Gomez       137                  5   \n",
       "4     5      Luca Cigarini       164                  6   \n",
       "\n",
       "   expectedGoals_created  difference  \n",
       "0              14.521795    7.521795  \n",
       "1              13.250240    7.250240  \n",
       "2              19.881761    6.881761  \n",
       "3              11.774701    6.774701  \n",
       "4              12.744766    6.744766  "
      ]
     },
     "execution_count": 80,
     "metadata": {},
     "output_type": "execute_result"
    }
   ],
   "source": [
    "passing = shots[shots.assist_method.isin([1,4])]\n",
    "passing_players = passing.groupby('player2').sum().reset_index()\n",
    "passing_players.rename(columns={'player2': 'player', 'event_type': 'n_passes', 'is_goal': 'trueGoals_created', 'prediction': 'expectedGoals_created'}, inplace=True)\n",
    "show = passing_players[passing_players['n_passes']>50].sort_values('difference', ascending=False).reset_index(drop=True)\n",
    "show['rank'] = show.index+1\n",
    "show[['rank', 'player', 'n_passes', 'trueGoals_created', 'expectedGoals_created', 'difference']].head(5)"
   ]
  },
  {
   "cell_type": "code",
   "execution_count": 81,
   "metadata": {
    "execution": {
     "iopub.execute_input": "2021-11-29T18:41:16.252172Z",
     "iopub.status.busy": "2021-11-29T18:41:16.251687Z",
     "iopub.status.idle": "2021-11-29T18:41:16.262949Z",
     "shell.execute_reply": "2021-11-29T18:41:16.262449Z",
     "shell.execute_reply.started": "2021-11-29T18:41:16.252133Z"
    }
   },
   "outputs": [
    {
     "data": {
      "text/html": [
       "<div>\n",
       "<style scoped>\n",
       "    .dataframe tbody tr th:only-of-type {\n",
       "        vertical-align: middle;\n",
       "    }\n",
       "\n",
       "    .dataframe tbody tr th {\n",
       "        vertical-align: top;\n",
       "    }\n",
       "\n",
       "    .dataframe thead th {\n",
       "        text-align: right;\n",
       "    }\n",
       "</style>\n",
       "<table border=\"1\" class=\"dataframe\">\n",
       "  <thead>\n",
       "    <tr style=\"text-align: right;\">\n",
       "      <th></th>\n",
       "      <th>rank</th>\n",
       "      <th>player</th>\n",
       "      <th>n_passes</th>\n",
       "      <th>trueGoals_created</th>\n",
       "      <th>expectedGoals_created</th>\n",
       "      <th>difference</th>\n",
       "    </tr>\n",
       "  </thead>\n",
       "  <tbody>\n",
       "    <tr>\n",
       "      <th>686</th>\n",
       "      <td>687</td>\n",
       "      <td>Marek Hamsik</td>\n",
       "      <td>370</td>\n",
       "      <td>50</td>\n",
       "      <td>34.896074</td>\n",
       "      <td>-15.103926</td>\n",
       "    </tr>\n",
       "    <tr>\n",
       "      <th>687</th>\n",
       "      <td>688</td>\n",
       "      <td>Cristiano Ronaldo</td>\n",
       "      <td>222</td>\n",
       "      <td>45</td>\n",
       "      <td>29.245109</td>\n",
       "      <td>-15.754891</td>\n",
       "    </tr>\n",
       "    <tr>\n",
       "      <th>688</th>\n",
       "      <td>689</td>\n",
       "      <td>Karim Benzema</td>\n",
       "      <td>214</td>\n",
       "      <td>40</td>\n",
       "      <td>23.391581</td>\n",
       "      <td>-16.608419</td>\n",
       "    </tr>\n",
       "    <tr>\n",
       "      <th>689</th>\n",
       "      <td>690</td>\n",
       "      <td>Cesc Fabregas</td>\n",
       "      <td>264</td>\n",
       "      <td>53</td>\n",
       "      <td>36.325209</td>\n",
       "      <td>-16.674791</td>\n",
       "    </tr>\n",
       "    <tr>\n",
       "      <th>690</th>\n",
       "      <td>691</td>\n",
       "      <td>Lionel Messi</td>\n",
       "      <td>350</td>\n",
       "      <td>68</td>\n",
       "      <td>51.258082</td>\n",
       "      <td>-16.741918</td>\n",
       "    </tr>\n",
       "  </tbody>\n",
       "</table>\n",
       "</div>"
      ],
      "text/plain": [
       "     rank             player  n_passes  trueGoals_created  \\\n",
       "686   687       Marek Hamsik       370                 50   \n",
       "687   688  Cristiano Ronaldo       222                 45   \n",
       "688   689      Karim Benzema       214                 40   \n",
       "689   690      Cesc Fabregas       264                 53   \n",
       "690   691       Lionel Messi       350                 68   \n",
       "\n",
       "     expectedGoals_created  difference  \n",
       "686              34.896074  -15.103926  \n",
       "687              29.245109  -15.754891  \n",
       "688              23.391581  -16.608419  \n",
       "689              36.325209  -16.674791  \n",
       "690              51.258082  -16.741918  "
      ]
     },
     "execution_count": 81,
     "metadata": {},
     "output_type": "execute_result"
    }
   ],
   "source": [
    "show[['rank', 'player', 'n_passes', 'trueGoals_created', 'expectedGoals_created', 'difference']].tail(5)"
   ]
  },
  {
   "cell_type": "markdown",
   "metadata": {},
   "source": [
    "We can see that the bottom of the list is filled with players from the strongest teams. This makes sense, as their teammates are usually good and so they are expected to score the chances that are created to them.\n",
    "\n",
    "At the top of the list we also see some famous *unlucky* players though, such as **Philippe Coutinho** and **Eden Hazard**, who should have seen higher numbers in their \"Assists\" stats according to the chances they created for the team. This does not speak highly of their team-mates at Liverpool or Chelsea from 2011 to 2016. In other words, if their teammates were finishing those plays with at least an average efficiency, both Coutinho and Hazard would have gotten more assists during those seasons than what appears on official stats."
   ]
  }
 ],
 "metadata": {
  "kernelspec": {
   "display_name": "Python 3",
   "language": "python",
   "name": "python3"
  },
  "language_info": {
   "codemirror_mode": {
    "name": "ipython",
    "version": 3
   },
   "file_extension": ".py",
   "mimetype": "text/x-python",
   "name": "python",
   "nbconvert_exporter": "python",
   "pygments_lexer": "ipython3",
   "version": "3.6.4"
  }
 },
 "nbformat": 4,
 "nbformat_minor": 4
}
